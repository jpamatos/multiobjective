{
  "nbformat": 4,
  "nbformat_minor": 0,
  "metadata": {
    "colab": {
      "provenance": []
    },
    "kernelspec": {
      "name": "python3",
      "display_name": "Python 3"
    },
    "language_info": {
      "name": "python"
    }
  },
  "cells": [
    {
      "cell_type": "code",
      "execution_count": null,
      "metadata": {
        "colab": {
          "base_uri": "https://localhost:8080/"
        },
        "id": "TSk-WfNUeJSt",
        "outputId": "6fe7639d-5844-4f2d-e7bc-b2b4093db04b"
      },
      "outputs": [
        {
          "output_type": "stream",
          "name": "stdout",
          "text": [
            "Looking in indexes: https://pypi.org/simple, https://us-python.pkg.dev/colab-wheels/public/simple/\n",
            "Collecting pymoo\n",
            "  Downloading pymoo-0.6.0.1-cp39-cp39-manylinux_2_5_x86_64.manylinux1_x86_64.manylinux_2_12_x86_64.manylinux2010_x86_64.whl (2.6 MB)\n",
            "\u001b[2K     \u001b[90m━━━━━━━━━━━━━━━━━━━━━━━━━━━━━━━━━━━━━━━━\u001b[0m \u001b[32m2.6/2.6 MB\u001b[0m \u001b[31m18.8 MB/s\u001b[0m eta \u001b[36m0:00:00\u001b[0m\n",
            "\u001b[?25hRequirement already satisfied: matplotlib>=3 in /usr/local/lib/python3.9/dist-packages (from pymoo) (3.7.1)\n",
            "Collecting Deprecated\n",
            "  Downloading Deprecated-1.2.13-py2.py3-none-any.whl (9.6 kB)\n",
            "Requirement already satisfied: scipy>=1.1 in /usr/local/lib/python3.9/dist-packages (from pymoo) (1.10.1)\n",
            "Collecting alive-progress\n",
            "  Downloading alive_progress-3.1.1-py3-none-any.whl (75 kB)\n",
            "\u001b[2K     \u001b[90m━━━━━━━━━━━━━━━━━━━━━━━━━━━━━━━━━━━━━━━━\u001b[0m \u001b[32m75.7/75.7 kB\u001b[0m \u001b[31m2.6 MB/s\u001b[0m eta \u001b[36m0:00:00\u001b[0m\n",
            "\u001b[?25hRequirement already satisfied: numpy>=1.15 in /usr/local/lib/python3.9/dist-packages (from pymoo) (1.22.4)\n",
            "Collecting cma==3.2.2\n",
            "  Downloading cma-3.2.2-py2.py3-none-any.whl (249 kB)\n",
            "\u001b[2K     \u001b[90m━━━━━━━━━━━━━━━━━━━━━━━━━━━━━━━━━━━━━━━\u001b[0m \u001b[32m249.1/249.1 kB\u001b[0m \u001b[31m3.3 MB/s\u001b[0m eta \u001b[36m0:00:00\u001b[0m\n",
            "\u001b[?25hRequirement already satisfied: autograd>=1.4 in /usr/local/lib/python3.9/dist-packages (from pymoo) (1.5)\n",
            "Collecting dill\n",
            "  Downloading dill-0.3.6-py3-none-any.whl (110 kB)\n",
            "\u001b[2K     \u001b[90m━━━━━━━━━━━━━━━━━━━━━━━━━━━━━━━━━━━━━━━\u001b[0m \u001b[32m110.5/110.5 kB\u001b[0m \u001b[31m3.7 MB/s\u001b[0m eta \u001b[36m0:00:00\u001b[0m\n",
            "\u001b[?25hRequirement already satisfied: future>=0.15.2 in /usr/local/lib/python3.9/dist-packages (from autograd>=1.4->pymoo) (0.18.3)\n",
            "Requirement already satisfied: fonttools>=4.22.0 in /usr/local/lib/python3.9/dist-packages (from matplotlib>=3->pymoo) (4.39.3)\n",
            "Requirement already satisfied: packaging>=20.0 in /usr/local/lib/python3.9/dist-packages (from matplotlib>=3->pymoo) (23.1)\n",
            "Requirement already satisfied: pyparsing>=2.3.1 in /usr/local/lib/python3.9/dist-packages (from matplotlib>=3->pymoo) (3.0.9)\n",
            "Requirement already satisfied: contourpy>=1.0.1 in /usr/local/lib/python3.9/dist-packages (from matplotlib>=3->pymoo) (1.0.7)\n",
            "Requirement already satisfied: cycler>=0.10 in /usr/local/lib/python3.9/dist-packages (from matplotlib>=3->pymoo) (0.11.0)\n",
            "Requirement already satisfied: importlib-resources>=3.2.0 in /usr/local/lib/python3.9/dist-packages (from matplotlib>=3->pymoo) (5.12.0)\n",
            "Requirement already satisfied: python-dateutil>=2.7 in /usr/local/lib/python3.9/dist-packages (from matplotlib>=3->pymoo) (2.8.2)\n",
            "Requirement already satisfied: pillow>=6.2.0 in /usr/local/lib/python3.9/dist-packages (from matplotlib>=3->pymoo) (8.4.0)\n",
            "Requirement already satisfied: kiwisolver>=1.0.1 in /usr/local/lib/python3.9/dist-packages (from matplotlib>=3->pymoo) (1.4.4)\n",
            "Collecting about-time==4.2.1\n",
            "  Downloading about_time-4.2.1-py3-none-any.whl (13 kB)\n",
            "Collecting grapheme==0.6.0\n",
            "  Downloading grapheme-0.6.0.tar.gz (207 kB)\n",
            "\u001b[2K     \u001b[90m━━━━━━━━━━━━━━━━━━━━━━━━━━━━━━━━━━━━━━\u001b[0m \u001b[32m207.3/207.3 kB\u001b[0m \u001b[31m11.6 MB/s\u001b[0m eta \u001b[36m0:00:00\u001b[0m\n",
            "\u001b[?25h  Preparing metadata (setup.py) ... \u001b[?25l\u001b[?25hdone\n",
            "Requirement already satisfied: wrapt<2,>=1.10 in /usr/local/lib/python3.9/dist-packages (from Deprecated->pymoo) (1.14.1)\n",
            "Requirement already satisfied: zipp>=3.1.0 in /usr/local/lib/python3.9/dist-packages (from importlib-resources>=3.2.0->matplotlib>=3->pymoo) (3.15.0)\n",
            "Requirement already satisfied: six>=1.5 in /usr/local/lib/python3.9/dist-packages (from python-dateutil>=2.7->matplotlib>=3->pymoo) (1.16.0)\n",
            "Building wheels for collected packages: grapheme\n",
            "  Building wheel for grapheme (setup.py) ... \u001b[?25l\u001b[?25hdone\n",
            "  Created wheel for grapheme: filename=grapheme-0.6.0-py3-none-any.whl size=210095 sha256=ad9a243c8bf2543b0dd5261e41257fe8516e555e845c8a679f67de976f4556c8\n",
            "  Stored in directory: /root/.cache/pip/wheels/91/a8/bc/5b55a10f763ee2c066ff2d94058d7dd64d570fc45adc027b3d\n",
            "Successfully built grapheme\n",
            "Installing collected packages: grapheme, dill, Deprecated, cma, about-time, alive-progress, pymoo\n",
            "Successfully installed Deprecated-1.2.13 about-time-4.2.1 alive-progress-3.1.1 cma-3.2.2 dill-0.3.6 grapheme-0.6.0 pymoo-0.6.0.1\n",
            "Looking in indexes: https://pypi.org/simple, https://us-python.pkg.dev/colab-wheels/public/simple/\n",
            "Collecting scikit-optimize\n",
            "  Downloading scikit_optimize-0.9.0-py2.py3-none-any.whl (100 kB)\n",
            "\u001b[2K     \u001b[90m━━━━━━━━━━━━━━━━━━━━━━━━━━━━━━━━━━━━━━━\u001b[0m \u001b[32m100.3/100.3 kB\u001b[0m \u001b[31m3.6 MB/s\u001b[0m eta \u001b[36m0:00:00\u001b[0m\n",
            "\u001b[?25hRequirement already satisfied: scikit-learn>=0.20.0 in /usr/local/lib/python3.9/dist-packages (from scikit-optimize) (1.2.2)\n",
            "Requirement already satisfied: scipy>=0.19.1 in /usr/local/lib/python3.9/dist-packages (from scikit-optimize) (1.10.1)\n",
            "Requirement already satisfied: joblib>=0.11 in /usr/local/lib/python3.9/dist-packages (from scikit-optimize) (1.2.0)\n",
            "Requirement already satisfied: numpy>=1.13.3 in /usr/local/lib/python3.9/dist-packages (from scikit-optimize) (1.22.4)\n",
            "Collecting pyaml>=16.9\n",
            "  Downloading pyaml-21.10.1-py2.py3-none-any.whl (24 kB)\n",
            "Requirement already satisfied: PyYAML in /usr/local/lib/python3.9/dist-packages (from pyaml>=16.9->scikit-optimize) (6.0)\n",
            "Requirement already satisfied: threadpoolctl>=2.0.0 in /usr/local/lib/python3.9/dist-packages (from scikit-learn>=0.20.0->scikit-optimize) (3.1.0)\n",
            "Installing collected packages: pyaml, scikit-optimize\n",
            "Successfully installed pyaml-21.10.1 scikit-optimize-0.9.0\n"
          ]
        }
      ],
      "source": [
        "!pip install -U pymoo\n",
        "!pip install scikit-optimize"
      ]
    },
    {
      "cell_type": "code",
      "source": [
        "import tensorflow as tf\n",
        "import pandas as pd\n",
        "import numpy as np\n",
        "import keras\n",
        "from keras import layers\n",
        "from keras.utils import to_categorical\n",
        "from pymoo.algorithms.moo.nsga2 import NSGA2\n",
        "from pymoo.core.problem import Problem\n",
        "from pymoo.optimize import minimize\n",
        "from sklearn.preprocessing import LabelEncoder, MinMaxScaler\n",
        "from sklearn.model_selection import train_test_split\n",
        "from sklearn.metrics import accuracy_score\n",
        "import matplotlib.pyplot as plt\n",
        "from pymoo.visualization.scatter import Scatter\n",
        "from pymoo.core.callback import Callback\n",
        "from skopt import gp_minimize"
      ],
      "metadata": {
        "id": "Ie8_9iyzeSgd"
      },
      "execution_count": null,
      "outputs": []
    },
    {
      "cell_type": "code",
      "source": [
        "data = pd.read_csv(\"Credit.csv\")\n",
        "data"
      ],
      "metadata": {
        "colab": {
          "base_uri": "https://localhost:8080/",
          "height": 626
        },
        "id": "cBwb_laseUBC",
        "outputId": "13786994-8d21-4736-8bd5-82163f40335b"
      },
      "execution_count": null,
      "outputs": [
        {
          "output_type": "execute_result",
          "data": {
            "text/plain": [
              "    checking_status  duration                    credit_history  \\\n",
              "0                <0         6  'critical/other existing credit'   \n",
              "1          0<=X<200        48                   'existing paid'   \n",
              "2     'no checking'        12  'critical/other existing credit'   \n",
              "3                <0        42                   'existing paid'   \n",
              "4                <0        24              'delayed previously'   \n",
              "..              ...       ...                               ...   \n",
              "995   'no checking'        12                   'existing paid'   \n",
              "996              <0        30                   'existing paid'   \n",
              "997   'no checking'        12                   'existing paid'   \n",
              "998              <0        45                   'existing paid'   \n",
              "999        0<=X<200        45  'critical/other existing credit'   \n",
              "\n",
              "                 purpose  credit_amount      savings_status  employment  \\\n",
              "0               radio/tv           1169  'no known savings'         >=7   \n",
              "1               radio/tv           5951                <100      1<=X<4   \n",
              "2              education           2096                <100      4<=X<7   \n",
              "3    furniture/equipment           7882                <100      4<=X<7   \n",
              "4              'new car'           4870                <100      1<=X<4   \n",
              "..                   ...            ...                 ...         ...   \n",
              "995  furniture/equipment           1736                <100      4<=X<7   \n",
              "996           'used car'           3857                <100      1<=X<4   \n",
              "997             radio/tv            804                <100         >=7   \n",
              "998             radio/tv           1845                <100      1<=X<4   \n",
              "999           'used car'           4576          100<=X<500  unemployed   \n",
              "\n",
              "     installment_commitment       personal_status other_parties  ...  \\\n",
              "0                         4         'male single'          none  ...   \n",
              "1                         2  'female div/dep/mar'          none  ...   \n",
              "2                         2         'male single'          none  ...   \n",
              "3                         2         'male single'     guarantor  ...   \n",
              "4                         3         'male single'          none  ...   \n",
              "..                      ...                   ...           ...  ...   \n",
              "995                       3  'female div/dep/mar'          none  ...   \n",
              "996                       4        'male div/sep'          none  ...   \n",
              "997                       4         'male single'          none  ...   \n",
              "998                       4         'male single'          none  ...   \n",
              "999                       3         'male single'          none  ...   \n",
              "\n",
              "      property_magnitude age  other_payment_plans     housing  \\\n",
              "0          'real estate'  67                 none         own   \n",
              "1          'real estate'  22                 none         own   \n",
              "2          'real estate'  49                 none         own   \n",
              "3       'life insurance'  45                 none  'for free'   \n",
              "4    'no known property'  53                 none  'for free'   \n",
              "..                   ...  ..                  ...         ...   \n",
              "995        'real estate'  31                 none         own   \n",
              "996     'life insurance'  40                 none         own   \n",
              "997                  car  38                 none         own   \n",
              "998  'no known property'  23                 none  'for free'   \n",
              "999                  car  27                 none         own   \n",
              "\n",
              "    existing_credits                          job num_dependents  \\\n",
              "0                  2                      skilled              1   \n",
              "1                  1                      skilled              1   \n",
              "2                  1         'unskilled resident'              2   \n",
              "3                  1                      skilled              2   \n",
              "4                  2                      skilled              2   \n",
              "..               ...                          ...            ...   \n",
              "995                1         'unskilled resident'              1   \n",
              "996                1  'high qualif/self emp/mgmt'              1   \n",
              "997                1                      skilled              1   \n",
              "998                1                      skilled              1   \n",
              "999                1                      skilled              1   \n",
              "\n",
              "     own_telephone foreign_worker class  \n",
              "0              yes            yes  good  \n",
              "1             none            yes   bad  \n",
              "2             none            yes  good  \n",
              "3             none            yes  good  \n",
              "4             none            yes   bad  \n",
              "..             ...            ...   ...  \n",
              "995           none            yes  good  \n",
              "996            yes            yes  good  \n",
              "997           none            yes  good  \n",
              "998            yes            yes   bad  \n",
              "999           none            yes  good  \n",
              "\n",
              "[1000 rows x 21 columns]"
            ],
            "text/html": [
              "\n",
              "  <div id=\"df-2b25a44c-c60d-49f7-b579-23e96a8a6e3b\">\n",
              "    <div class=\"colab-df-container\">\n",
              "      <div>\n",
              "<style scoped>\n",
              "    .dataframe tbody tr th:only-of-type {\n",
              "        vertical-align: middle;\n",
              "    }\n",
              "\n",
              "    .dataframe tbody tr th {\n",
              "        vertical-align: top;\n",
              "    }\n",
              "\n",
              "    .dataframe thead th {\n",
              "        text-align: right;\n",
              "    }\n",
              "</style>\n",
              "<table border=\"1\" class=\"dataframe\">\n",
              "  <thead>\n",
              "    <tr style=\"text-align: right;\">\n",
              "      <th></th>\n",
              "      <th>checking_status</th>\n",
              "      <th>duration</th>\n",
              "      <th>credit_history</th>\n",
              "      <th>purpose</th>\n",
              "      <th>credit_amount</th>\n",
              "      <th>savings_status</th>\n",
              "      <th>employment</th>\n",
              "      <th>installment_commitment</th>\n",
              "      <th>personal_status</th>\n",
              "      <th>other_parties</th>\n",
              "      <th>...</th>\n",
              "      <th>property_magnitude</th>\n",
              "      <th>age</th>\n",
              "      <th>other_payment_plans</th>\n",
              "      <th>housing</th>\n",
              "      <th>existing_credits</th>\n",
              "      <th>job</th>\n",
              "      <th>num_dependents</th>\n",
              "      <th>own_telephone</th>\n",
              "      <th>foreign_worker</th>\n",
              "      <th>class</th>\n",
              "    </tr>\n",
              "  </thead>\n",
              "  <tbody>\n",
              "    <tr>\n",
              "      <th>0</th>\n",
              "      <td>&lt;0</td>\n",
              "      <td>6</td>\n",
              "      <td>'critical/other existing credit'</td>\n",
              "      <td>radio/tv</td>\n",
              "      <td>1169</td>\n",
              "      <td>'no known savings'</td>\n",
              "      <td>&gt;=7</td>\n",
              "      <td>4</td>\n",
              "      <td>'male single'</td>\n",
              "      <td>none</td>\n",
              "      <td>...</td>\n",
              "      <td>'real estate'</td>\n",
              "      <td>67</td>\n",
              "      <td>none</td>\n",
              "      <td>own</td>\n",
              "      <td>2</td>\n",
              "      <td>skilled</td>\n",
              "      <td>1</td>\n",
              "      <td>yes</td>\n",
              "      <td>yes</td>\n",
              "      <td>good</td>\n",
              "    </tr>\n",
              "    <tr>\n",
              "      <th>1</th>\n",
              "      <td>0&lt;=X&lt;200</td>\n",
              "      <td>48</td>\n",
              "      <td>'existing paid'</td>\n",
              "      <td>radio/tv</td>\n",
              "      <td>5951</td>\n",
              "      <td>&lt;100</td>\n",
              "      <td>1&lt;=X&lt;4</td>\n",
              "      <td>2</td>\n",
              "      <td>'female div/dep/mar'</td>\n",
              "      <td>none</td>\n",
              "      <td>...</td>\n",
              "      <td>'real estate'</td>\n",
              "      <td>22</td>\n",
              "      <td>none</td>\n",
              "      <td>own</td>\n",
              "      <td>1</td>\n",
              "      <td>skilled</td>\n",
              "      <td>1</td>\n",
              "      <td>none</td>\n",
              "      <td>yes</td>\n",
              "      <td>bad</td>\n",
              "    </tr>\n",
              "    <tr>\n",
              "      <th>2</th>\n",
              "      <td>'no checking'</td>\n",
              "      <td>12</td>\n",
              "      <td>'critical/other existing credit'</td>\n",
              "      <td>education</td>\n",
              "      <td>2096</td>\n",
              "      <td>&lt;100</td>\n",
              "      <td>4&lt;=X&lt;7</td>\n",
              "      <td>2</td>\n",
              "      <td>'male single'</td>\n",
              "      <td>none</td>\n",
              "      <td>...</td>\n",
              "      <td>'real estate'</td>\n",
              "      <td>49</td>\n",
              "      <td>none</td>\n",
              "      <td>own</td>\n",
              "      <td>1</td>\n",
              "      <td>'unskilled resident'</td>\n",
              "      <td>2</td>\n",
              "      <td>none</td>\n",
              "      <td>yes</td>\n",
              "      <td>good</td>\n",
              "    </tr>\n",
              "    <tr>\n",
              "      <th>3</th>\n",
              "      <td>&lt;0</td>\n",
              "      <td>42</td>\n",
              "      <td>'existing paid'</td>\n",
              "      <td>furniture/equipment</td>\n",
              "      <td>7882</td>\n",
              "      <td>&lt;100</td>\n",
              "      <td>4&lt;=X&lt;7</td>\n",
              "      <td>2</td>\n",
              "      <td>'male single'</td>\n",
              "      <td>guarantor</td>\n",
              "      <td>...</td>\n",
              "      <td>'life insurance'</td>\n",
              "      <td>45</td>\n",
              "      <td>none</td>\n",
              "      <td>'for free'</td>\n",
              "      <td>1</td>\n",
              "      <td>skilled</td>\n",
              "      <td>2</td>\n",
              "      <td>none</td>\n",
              "      <td>yes</td>\n",
              "      <td>good</td>\n",
              "    </tr>\n",
              "    <tr>\n",
              "      <th>4</th>\n",
              "      <td>&lt;0</td>\n",
              "      <td>24</td>\n",
              "      <td>'delayed previously'</td>\n",
              "      <td>'new car'</td>\n",
              "      <td>4870</td>\n",
              "      <td>&lt;100</td>\n",
              "      <td>1&lt;=X&lt;4</td>\n",
              "      <td>3</td>\n",
              "      <td>'male single'</td>\n",
              "      <td>none</td>\n",
              "      <td>...</td>\n",
              "      <td>'no known property'</td>\n",
              "      <td>53</td>\n",
              "      <td>none</td>\n",
              "      <td>'for free'</td>\n",
              "      <td>2</td>\n",
              "      <td>skilled</td>\n",
              "      <td>2</td>\n",
              "      <td>none</td>\n",
              "      <td>yes</td>\n",
              "      <td>bad</td>\n",
              "    </tr>\n",
              "    <tr>\n",
              "      <th>...</th>\n",
              "      <td>...</td>\n",
              "      <td>...</td>\n",
              "      <td>...</td>\n",
              "      <td>...</td>\n",
              "      <td>...</td>\n",
              "      <td>...</td>\n",
              "      <td>...</td>\n",
              "      <td>...</td>\n",
              "      <td>...</td>\n",
              "      <td>...</td>\n",
              "      <td>...</td>\n",
              "      <td>...</td>\n",
              "      <td>...</td>\n",
              "      <td>...</td>\n",
              "      <td>...</td>\n",
              "      <td>...</td>\n",
              "      <td>...</td>\n",
              "      <td>...</td>\n",
              "      <td>...</td>\n",
              "      <td>...</td>\n",
              "      <td>...</td>\n",
              "    </tr>\n",
              "    <tr>\n",
              "      <th>995</th>\n",
              "      <td>'no checking'</td>\n",
              "      <td>12</td>\n",
              "      <td>'existing paid'</td>\n",
              "      <td>furniture/equipment</td>\n",
              "      <td>1736</td>\n",
              "      <td>&lt;100</td>\n",
              "      <td>4&lt;=X&lt;7</td>\n",
              "      <td>3</td>\n",
              "      <td>'female div/dep/mar'</td>\n",
              "      <td>none</td>\n",
              "      <td>...</td>\n",
              "      <td>'real estate'</td>\n",
              "      <td>31</td>\n",
              "      <td>none</td>\n",
              "      <td>own</td>\n",
              "      <td>1</td>\n",
              "      <td>'unskilled resident'</td>\n",
              "      <td>1</td>\n",
              "      <td>none</td>\n",
              "      <td>yes</td>\n",
              "      <td>good</td>\n",
              "    </tr>\n",
              "    <tr>\n",
              "      <th>996</th>\n",
              "      <td>&lt;0</td>\n",
              "      <td>30</td>\n",
              "      <td>'existing paid'</td>\n",
              "      <td>'used car'</td>\n",
              "      <td>3857</td>\n",
              "      <td>&lt;100</td>\n",
              "      <td>1&lt;=X&lt;4</td>\n",
              "      <td>4</td>\n",
              "      <td>'male div/sep'</td>\n",
              "      <td>none</td>\n",
              "      <td>...</td>\n",
              "      <td>'life insurance'</td>\n",
              "      <td>40</td>\n",
              "      <td>none</td>\n",
              "      <td>own</td>\n",
              "      <td>1</td>\n",
              "      <td>'high qualif/self emp/mgmt'</td>\n",
              "      <td>1</td>\n",
              "      <td>yes</td>\n",
              "      <td>yes</td>\n",
              "      <td>good</td>\n",
              "    </tr>\n",
              "    <tr>\n",
              "      <th>997</th>\n",
              "      <td>'no checking'</td>\n",
              "      <td>12</td>\n",
              "      <td>'existing paid'</td>\n",
              "      <td>radio/tv</td>\n",
              "      <td>804</td>\n",
              "      <td>&lt;100</td>\n",
              "      <td>&gt;=7</td>\n",
              "      <td>4</td>\n",
              "      <td>'male single'</td>\n",
              "      <td>none</td>\n",
              "      <td>...</td>\n",
              "      <td>car</td>\n",
              "      <td>38</td>\n",
              "      <td>none</td>\n",
              "      <td>own</td>\n",
              "      <td>1</td>\n",
              "      <td>skilled</td>\n",
              "      <td>1</td>\n",
              "      <td>none</td>\n",
              "      <td>yes</td>\n",
              "      <td>good</td>\n",
              "    </tr>\n",
              "    <tr>\n",
              "      <th>998</th>\n",
              "      <td>&lt;0</td>\n",
              "      <td>45</td>\n",
              "      <td>'existing paid'</td>\n",
              "      <td>radio/tv</td>\n",
              "      <td>1845</td>\n",
              "      <td>&lt;100</td>\n",
              "      <td>1&lt;=X&lt;4</td>\n",
              "      <td>4</td>\n",
              "      <td>'male single'</td>\n",
              "      <td>none</td>\n",
              "      <td>...</td>\n",
              "      <td>'no known property'</td>\n",
              "      <td>23</td>\n",
              "      <td>none</td>\n",
              "      <td>'for free'</td>\n",
              "      <td>1</td>\n",
              "      <td>skilled</td>\n",
              "      <td>1</td>\n",
              "      <td>yes</td>\n",
              "      <td>yes</td>\n",
              "      <td>bad</td>\n",
              "    </tr>\n",
              "    <tr>\n",
              "      <th>999</th>\n",
              "      <td>0&lt;=X&lt;200</td>\n",
              "      <td>45</td>\n",
              "      <td>'critical/other existing credit'</td>\n",
              "      <td>'used car'</td>\n",
              "      <td>4576</td>\n",
              "      <td>100&lt;=X&lt;500</td>\n",
              "      <td>unemployed</td>\n",
              "      <td>3</td>\n",
              "      <td>'male single'</td>\n",
              "      <td>none</td>\n",
              "      <td>...</td>\n",
              "      <td>car</td>\n",
              "      <td>27</td>\n",
              "      <td>none</td>\n",
              "      <td>own</td>\n",
              "      <td>1</td>\n",
              "      <td>skilled</td>\n",
              "      <td>1</td>\n",
              "      <td>none</td>\n",
              "      <td>yes</td>\n",
              "      <td>good</td>\n",
              "    </tr>\n",
              "  </tbody>\n",
              "</table>\n",
              "<p>1000 rows × 21 columns</p>\n",
              "</div>\n",
              "      <button class=\"colab-df-convert\" onclick=\"convertToInteractive('df-2b25a44c-c60d-49f7-b579-23e96a8a6e3b')\"\n",
              "              title=\"Convert this dataframe to an interactive table.\"\n",
              "              style=\"display:none;\">\n",
              "        \n",
              "  <svg xmlns=\"http://www.w3.org/2000/svg\" height=\"24px\"viewBox=\"0 0 24 24\"\n",
              "       width=\"24px\">\n",
              "    <path d=\"M0 0h24v24H0V0z\" fill=\"none\"/>\n",
              "    <path d=\"M18.56 5.44l.94 2.06.94-2.06 2.06-.94-2.06-.94-.94-2.06-.94 2.06-2.06.94zm-11 1L8.5 8.5l.94-2.06 2.06-.94-2.06-.94L8.5 2.5l-.94 2.06-2.06.94zm10 10l.94 2.06.94-2.06 2.06-.94-2.06-.94-.94-2.06-.94 2.06-2.06.94z\"/><path d=\"M17.41 7.96l-1.37-1.37c-.4-.4-.92-.59-1.43-.59-.52 0-1.04.2-1.43.59L10.3 9.45l-7.72 7.72c-.78.78-.78 2.05 0 2.83L4 21.41c.39.39.9.59 1.41.59.51 0 1.02-.2 1.41-.59l7.78-7.78 2.81-2.81c.8-.78.8-2.07 0-2.86zM5.41 20L4 18.59l7.72-7.72 1.47 1.35L5.41 20z\"/>\n",
              "  </svg>\n",
              "      </button>\n",
              "      \n",
              "  <style>\n",
              "    .colab-df-container {\n",
              "      display:flex;\n",
              "      flex-wrap:wrap;\n",
              "      gap: 12px;\n",
              "    }\n",
              "\n",
              "    .colab-df-convert {\n",
              "      background-color: #E8F0FE;\n",
              "      border: none;\n",
              "      border-radius: 50%;\n",
              "      cursor: pointer;\n",
              "      display: none;\n",
              "      fill: #1967D2;\n",
              "      height: 32px;\n",
              "      padding: 0 0 0 0;\n",
              "      width: 32px;\n",
              "    }\n",
              "\n",
              "    .colab-df-convert:hover {\n",
              "      background-color: #E2EBFA;\n",
              "      box-shadow: 0px 1px 2px rgba(60, 64, 67, 0.3), 0px 1px 3px 1px rgba(60, 64, 67, 0.15);\n",
              "      fill: #174EA6;\n",
              "    }\n",
              "\n",
              "    [theme=dark] .colab-df-convert {\n",
              "      background-color: #3B4455;\n",
              "      fill: #D2E3FC;\n",
              "    }\n",
              "\n",
              "    [theme=dark] .colab-df-convert:hover {\n",
              "      background-color: #434B5C;\n",
              "      box-shadow: 0px 1px 3px 1px rgba(0, 0, 0, 0.15);\n",
              "      filter: drop-shadow(0px 1px 2px rgba(0, 0, 0, 0.3));\n",
              "      fill: #FFFFFF;\n",
              "    }\n",
              "  </style>\n",
              "\n",
              "      <script>\n",
              "        const buttonEl =\n",
              "          document.querySelector('#df-2b25a44c-c60d-49f7-b579-23e96a8a6e3b button.colab-df-convert');\n",
              "        buttonEl.style.display =\n",
              "          google.colab.kernel.accessAllowed ? 'block' : 'none';\n",
              "\n",
              "        async function convertToInteractive(key) {\n",
              "          const element = document.querySelector('#df-2b25a44c-c60d-49f7-b579-23e96a8a6e3b');\n",
              "          const dataTable =\n",
              "            await google.colab.kernel.invokeFunction('convertToInteractive',\n",
              "                                                     [key], {});\n",
              "          if (!dataTable) return;\n",
              "\n",
              "          const docLinkHtml = 'Like what you see? Visit the ' +\n",
              "            '<a target=\"_blank\" href=https://colab.research.google.com/notebooks/data_table.ipynb>data table notebook</a>'\n",
              "            + ' to learn more about interactive tables.';\n",
              "          element.innerHTML = '';\n",
              "          dataTable['output_type'] = 'display_data';\n",
              "          await google.colab.output.renderOutput(dataTable, element);\n",
              "          const docLink = document.createElement('div');\n",
              "          docLink.innerHTML = docLinkHtml;\n",
              "          element.appendChild(docLink);\n",
              "        }\n",
              "      </script>\n",
              "    </div>\n",
              "  </div>\n",
              "  "
            ]
          },
          "metadata": {},
          "execution_count": 3
        }
      ]
    },
    {
      "cell_type": "code",
      "source": [
        "cat_columns = list(data.select_dtypes(include=['object']).columns)"
      ],
      "metadata": {
        "id": "Dy9OTmLAeVTw"
      },
      "execution_count": null,
      "outputs": []
    },
    {
      "cell_type": "code",
      "source": [
        "le = LabelEncoder()\n",
        "for col in cat_columns:\n",
        "    data[col] = le.fit_transform(data[col])"
      ],
      "metadata": {
        "id": "bfEt8kAUeWX7"
      },
      "execution_count": null,
      "outputs": []
    },
    {
      "cell_type": "code",
      "source": [
        "x_train, x_test, y_train, y_test = train_test_split(\n",
        "    data.iloc[:, :-1],\n",
        "    data.iloc[:, -1],\n",
        "    test_size=0.3,\n",
        "    random_state=0\n",
        ")"
      ],
      "metadata": {
        "id": "0-tYoVMteXgZ"
      },
      "execution_count": null,
      "outputs": []
    },
    {
      "cell_type": "code",
      "source": [
        "model = keras.models.Sequential([\n",
        "    keras.layers.Dense(64, activation=\"relu\", input_shape=(x_train.shape[1],)),\n",
        "    keras.layers.Dense(32, activation=\"relu\"),\n",
        "    keras.layers.Dense(1, activation=\"sigmoid\")\n",
        "])"
      ],
      "metadata": {
        "id": "ICqSKs6EIRs9"
      },
      "execution_count": null,
      "outputs": []
    },
    {
      "cell_type": "code",
      "source": [
        "model.compile(loss=\"binary_crossentropy\", optimizer=\"adam\", metrics=[\"accuracy\"])"
      ],
      "metadata": {
        "id": "RvlbQLEieb0X"
      },
      "execution_count": null,
      "outputs": []
    },
    {
      "cell_type": "code",
      "source": [
        "history = model.fit(x_train, y_train, epochs=20, batch_size=32, validation_split=0.2)"
      ],
      "metadata": {
        "colab": {
          "base_uri": "https://localhost:8080/"
        },
        "id": "AmV4sd5EedG1",
        "outputId": "d38e0767-b498-4e98-85ce-3a0e09dfeedb"
      },
      "execution_count": null,
      "outputs": [
        {
          "output_type": "stream",
          "name": "stdout",
          "text": [
            "Epoch 1/20\n",
            "18/18 [==============================] - 3s 30ms/step - loss: 35.4591 - accuracy: 0.5679 - val_loss: 17.6289 - val_accuracy: 0.3714\n",
            "Epoch 2/20\n",
            "18/18 [==============================] - 0s 9ms/step - loss: 8.3474 - accuracy: 0.5964 - val_loss: 8.0548 - val_accuracy: 0.4071\n",
            "Epoch 3/20\n",
            "18/18 [==============================] - 0s 7ms/step - loss: 5.5047 - accuracy: 0.6018 - val_loss: 5.2577 - val_accuracy: 0.4643\n",
            "Epoch 4/20\n",
            "18/18 [==============================] - 0s 8ms/step - loss: 6.1273 - accuracy: 0.6071 - val_loss: 3.4453 - val_accuracy: 0.5214\n",
            "Epoch 5/20\n",
            "18/18 [==============================] - 0s 4ms/step - loss: 2.1410 - accuracy: 0.6393 - val_loss: 4.5775 - val_accuracy: 0.6643\n",
            "Epoch 6/20\n",
            "18/18 [==============================] - 0s 4ms/step - loss: 5.3742 - accuracy: 0.5964 - val_loss: 4.3298 - val_accuracy: 0.6643\n",
            "Epoch 7/20\n",
            "18/18 [==============================] - 0s 4ms/step - loss: 3.3887 - accuracy: 0.6071 - val_loss: 4.3663 - val_accuracy: 0.4643\n",
            "Epoch 8/20\n",
            "18/18 [==============================] - 0s 5ms/step - loss: 4.0294 - accuracy: 0.6250 - val_loss: 3.6115 - val_accuracy: 0.6643\n",
            "Epoch 9/20\n",
            "18/18 [==============================] - 0s 4ms/step - loss: 3.1515 - accuracy: 0.6161 - val_loss: 2.2778 - val_accuracy: 0.6643\n",
            "Epoch 10/20\n",
            "18/18 [==============================] - 0s 5ms/step - loss: 5.7415 - accuracy: 0.5554 - val_loss: 9.0766 - val_accuracy: 0.6643\n",
            "Epoch 11/20\n",
            "18/18 [==============================] - 0s 5ms/step - loss: 4.9854 - accuracy: 0.6054 - val_loss: 5.1738 - val_accuracy: 0.4143\n",
            "Epoch 12/20\n",
            "18/18 [==============================] - 0s 5ms/step - loss: 4.6029 - accuracy: 0.5911 - val_loss: 2.3598 - val_accuracy: 0.6643\n",
            "Epoch 13/20\n",
            "18/18 [==============================] - 0s 4ms/step - loss: 10.1455 - accuracy: 0.5143 - val_loss: 7.5802 - val_accuracy: 0.6643\n",
            "Epoch 14/20\n",
            "18/18 [==============================] - 0s 4ms/step - loss: 4.2301 - accuracy: 0.5929 - val_loss: 5.7262 - val_accuracy: 0.6643\n",
            "Epoch 15/20\n",
            "18/18 [==============================] - 0s 5ms/step - loss: 4.6672 - accuracy: 0.5893 - val_loss: 1.2806 - val_accuracy: 0.6143\n",
            "Epoch 16/20\n",
            "18/18 [==============================] - 0s 5ms/step - loss: 5.9192 - accuracy: 0.6054 - val_loss: 3.2687 - val_accuracy: 0.6643\n",
            "Epoch 17/20\n",
            "18/18 [==============================] - 0s 5ms/step - loss: 2.6012 - accuracy: 0.6393 - val_loss: 2.9259 - val_accuracy: 0.6643\n",
            "Epoch 18/20\n",
            "18/18 [==============================] - 0s 5ms/step - loss: 1.9393 - accuracy: 0.6268 - val_loss: 2.9121 - val_accuracy: 0.6643\n",
            "Epoch 19/20\n",
            "18/18 [==============================] - 0s 5ms/step - loss: 2.8686 - accuracy: 0.6214 - val_loss: 0.9320 - val_accuracy: 0.6857\n",
            "Epoch 20/20\n",
            "18/18 [==============================] - 0s 5ms/step - loss: 0.9019 - accuracy: 0.6768 - val_loss: 2.6343 - val_accuracy: 0.6643\n"
          ]
        }
      ]
    },
    {
      "cell_type": "code",
      "source": [
        "y_pred = model.predict(x_test)\n",
        "y_pred = (y_pred > 0.5).astype(int)\n",
        "accuracy = accuracy_score(y_test, y_pred)\n",
        "print(f'Testing accuracy: {accuracy}')"
      ],
      "metadata": {
        "colab": {
          "base_uri": "https://localhost:8080/"
        },
        "id": "eQuLm5gieeJw",
        "outputId": "4bfbc35d-bd29-4caa-edde-ce971d551bea"
      },
      "execution_count": null,
      "outputs": [
        {
          "output_type": "stream",
          "name": "stdout",
          "text": [
            "10/10 [==============================] - 0s 2ms/step\n",
            "Testing accuracy: 0.72\n"
          ]
        }
      ]
    },
    {
      "cell_type": "code",
      "source": [
        "def build_model():\n",
        "    # Criar o modelo da rede neural convolucional\n",
        "    model = keras.Sequential([\n",
        "        keras.layers.Dense(64, activation=\"relu\", input_shape=(20,)),\n",
        "        keras.layers.Dense(32, activation=\"relu\"),\n",
        "        keras.layers.Dense(1, activation=\"sigmoid\")\n",
        "    ])\n",
        "\n",
        "    return model"
      ],
      "metadata": {
        "id": "brQiknGpIUKh"
      },
      "execution_count": null,
      "outputs": []
    },
    {
      "cell_type": "code",
      "source": [
        "def chebyshev_loss(y_true, y_pred, model, lambda1, lambda2):\n",
        "    # Função de perda Categorical Crossentropy\n",
        "    ce_loss = keras.losses.BinaryCrossentropy()(y_true, y_pred)\n",
        "\n",
        "    # Função de regularização L2\n",
        "    l2_loss = sum([tf.nn.l2_loss(layer.kernel) for layer in model.layers if 'Conv2D' in str(layer) or 'Dense' in str(layer)])\n",
        "\n",
        "    # Combinar as funções de perda com os pesos de Chebyshev\n",
        "    combined_loss = lambda1 * ce_loss + lambda2 * l2_loss\n",
        "\n",
        "    return combined_loss"
      ],
      "metadata": {
        "id": "gUJa9MQCH7Ky"
      },
      "execution_count": null,
      "outputs": []
    },
    {
      "cell_type": "code",
      "source": [
        "def objective(params):\n",
        "    lambda1, lambda2 = params\n",
        "    \n",
        "    # Construir o modelo da CNN\n",
        "    model = build_model()\n",
        "\n",
        "    # Compilar o modelo com a função de perda personalizada e otimizador\n",
        "    model.compile(loss=lambda y_true, y_pred: chebyshev_loss(y_true, y_pred, model, lambda1, lambda2), optimizer=keras.optimizers.Adam(), metrics=[\"accuracy\"])\n",
        "\n",
        "    # Treinar o modelo\n",
        "    model.fit(x_train, y_train, batch_size=128, epochs=2, validation_split=0.1, verbose=1)\n",
        "\n",
        "    # Avaliar o desempenho do modelo\n",
        "    score = model.evaluate(x_test, y_test, verbose=0)\n",
        "    \n",
        "    return score[0]"
      ],
      "metadata": {
        "id": "mMBiXv0IIBmD"
      },
      "execution_count": null,
      "outputs": []
    },
    {
      "cell_type": "code",
      "source": [
        "space = [(0.0001, 0.01, \"uniform\"), (0.0001, 0.01, \"uniform\")]"
      ],
      "metadata": {
        "id": "Oq27HyMLIsfL"
      },
      "execution_count": null,
      "outputs": []
    },
    {
      "cell_type": "code",
      "source": [
        "result = gp_minimize(func=objective, dimensions=space, n_calls=10, random_state=42, verbose=1)"
      ],
      "metadata": {
        "colab": {
          "base_uri": "https://localhost:8080/"
        },
        "id": "f9mxCpwbI8fY",
        "outputId": "41fec765-f383-4cfe-e72a-ff3ef13594ea"
      },
      "execution_count": null,
      "outputs": [
        {
          "output_type": "stream",
          "name": "stdout",
          "text": [
            "Iteration No: 1 started. Evaluating function at random point.\n",
            "Epoch 1/2\n",
            "5/5 [==============================] - 2s 205ms/step - loss: 1.8046 - accuracy: 0.6984 - val_loss: 1.2627 - val_accuracy: 0.6571\n",
            "Epoch 2/2\n",
            "5/5 [==============================] - 0s 23ms/step - loss: 0.5809 - accuracy: 0.6317 - val_loss: 0.3079 - val_accuracy: 0.3429\n",
            "Iteration No: 1 ended. Evaluation done at random point.\n",
            "Time taken: 3.3001\n",
            "Function value obtained: 0.3197\n",
            "Current minimum: 0.3197\n",
            "Iteration No: 2 started. Evaluating function at random point.\n",
            "Epoch 1/2\n",
            "5/5 [==============================] - 1s 90ms/step - loss: 1.0361 - accuracy: 0.3032 - val_loss: 0.3580 - val_accuracy: 0.6571\n",
            "Epoch 2/2\n",
            "5/5 [==============================] - 0s 19ms/step - loss: 0.4955 - accuracy: 0.6984 - val_loss: 0.6927 - val_accuracy: 0.6571\n",
            "Iteration No: 2 ended. Evaluation done at random point.\n",
            "Time taken: 1.9290\n",
            "Function value obtained: 0.5716\n",
            "Current minimum: 0.3197\n",
            "Iteration No: 3 started. Evaluating function at random point.\n",
            "Epoch 1/2\n",
            "5/5 [==============================] - 1s 122ms/step - loss: 0.6035 - accuracy: 0.3016 - val_loss: 0.0526 - val_accuracy: 0.6429\n",
            "Epoch 2/2\n",
            "5/5 [==============================] - 0s 17ms/step - loss: 0.1471 - accuracy: 0.6984 - val_loss: 0.2521 - val_accuracy: 0.6571\n",
            "Iteration No: 3 ended. Evaluation done at random point.\n",
            "Time taken: 1.5611\n",
            "Function value obtained: 0.1989\n",
            "Current minimum: 0.1989\n",
            "Iteration No: 4 started. Evaluating function at random point.\n",
            "Epoch 1/2\n",
            "5/5 [==============================] - 1s 58ms/step - loss: 0.2297 - accuracy: 0.5730 - val_loss: 0.1887 - val_accuracy: 0.3714\n",
            "Epoch 2/2\n",
            "5/5 [==============================] - 0s 15ms/step - loss: 0.1731 - accuracy: 0.5698 - val_loss: 0.2066 - val_accuracy: 0.6571\n",
            "Iteration No: 4 ended. Evaluation done at random point.\n",
            "Time taken: 1.1094\n",
            "Function value obtained: 0.1857\n",
            "Current minimum: 0.1857\n",
            "Iteration No: 5 started. Evaluating function at random point.\n",
            "Epoch 1/2\n",
            "5/5 [==============================] - 1s 58ms/step - loss: 0.3959 - accuracy: 0.6984 - val_loss: 0.3461 - val_accuracy: 0.6571\n",
            "Epoch 2/2\n",
            "5/5 [==============================] - 0s 11ms/step - loss: 0.2772 - accuracy: 0.6810 - val_loss: 0.2550 - val_accuracy: 0.3429\n",
            "Iteration No: 5 ended. Evaluation done at random point.\n",
            "Time taken: 1.0904\n",
            "Function value obtained: 0.2567\n",
            "Current minimum: 0.1857\n",
            "Iteration No: 6 started. Evaluating function at random point.\n",
            "Epoch 1/2\n",
            "5/5 [==============================] - 1s 61ms/step - loss: 0.3633 - accuracy: 0.3016 - val_loss: 0.2895 - val_accuracy: 0.3429\n",
            "Epoch 2/2\n",
            "5/5 [==============================] - 0s 10ms/step - loss: 0.2655 - accuracy: 0.5111 - val_loss: 0.2680 - val_accuracy: 0.6571\n",
            "Iteration No: 6 ended. Evaluation done at random point.\n",
            "Time taken: 1.1432\n",
            "Function value obtained: 0.2615\n",
            "Current minimum: 0.1857\n",
            "Iteration No: 7 started. Evaluating function at random point.\n",
            "Epoch 1/2\n",
            "5/5 [==============================] - 1s 56ms/step - loss: 5.9749 - accuracy: 0.3016 - val_loss: 4.4776 - val_accuracy: 0.3429\n",
            "Epoch 2/2\n",
            "5/5 [==============================] - 0s 11ms/step - loss: 3.9266 - accuracy: 0.3016 - val_loss: 2.4731 - val_accuracy: 0.3429\n",
            "Iteration No: 7 ended. Evaluation done at random point.\n",
            "Time taken: 1.1034\n",
            "Function value obtained: 2.6191\n",
            "Current minimum: 0.1857\n",
            "Iteration No: 8 started. Evaluating function at random point.\n",
            "Epoch 1/2\n",
            "5/5 [==============================] - 1s 109ms/step - loss: 0.4271 - accuracy: 0.5254 - val_loss: 0.2424 - val_accuracy: 0.3429\n",
            "Epoch 2/2\n",
            "5/5 [==============================] - 0s 23ms/step - loss: 0.2577 - accuracy: 0.6111 - val_loss: 0.2323 - val_accuracy: 0.3000\n",
            "Iteration No: 8 ended. Evaluation done at random point.\n",
            "Time taken: 1.7543\n",
            "Function value obtained: 0.2324\n",
            "Current minimum: 0.1857\n",
            "Iteration No: 9 started. Evaluating function at random point.\n",
            "Epoch 1/2\n",
            "5/5 [==============================] - 2s 102ms/step - loss: 4.0619 - accuracy: 0.3016 - val_loss: 2.9470 - val_accuracy: 0.3429\n",
            "Epoch 2/2\n",
            "5/5 [==============================] - 0s 22ms/step - loss: 2.5083 - accuracy: 0.3016 - val_loss: 1.6153 - val_accuracy: 0.3429\n",
            "Iteration No: 9 ended. Evaluation done at random point.\n",
            "Time taken: 2.0491\n",
            "Function value obtained: 1.7127\n",
            "Current minimum: 0.1857\n",
            "Iteration No: 10 started. Evaluating function at random point.\n",
            "Epoch 1/2\n",
            "5/5 [==============================] - 3s 193ms/step - loss: 0.2129 - accuracy: 0.6317 - val_loss: 0.2027 - val_accuracy: 0.3429\n",
            "Epoch 2/2\n",
            "5/5 [==============================] - 0s 43ms/step - loss: 0.1971 - accuracy: 0.3127 - val_loss: 0.1853 - val_accuracy: 0.6429\n",
            "Iteration No: 10 ended. Evaluation done at random point.\n",
            "Time taken: 5.1199\n",
            "Function value obtained: 0.1839\n",
            "Current minimum: 0.1839\n"
          ]
        }
      ]
    },
    {
      "cell_type": "code",
      "source": [
        "best_lambda1, best_lambda2 = result.x\n",
        "print(f\"Melhores hiperparâmetros encontrados: lambda1 = {best_lambda1}, lambda2 = {best_lambda2}\")"
      ],
      "metadata": {
        "colab": {
          "base_uri": "https://localhost:8080/"
        },
        "id": "XadfwbGGJGzH",
        "outputId": "fe070c9b-d282-4ef2-9088-264c682f2a78"
      },
      "execution_count": null,
      "outputs": [
        {
          "output_type": "stream",
          "name": "stdout",
          "text": [
            "Melhores hiperparâmetros encontrados: lambda1 = 0.00032831800791001604, lambda2 = 0.005295269136558054\n"
          ]
        }
      ]
    },
    {
      "cell_type": "code",
      "source": [
        "#Construir e treinar o melhor modelo\n",
        "best_model = build_model()\n",
        "best_model.compile(loss=lambda y_true, y_pred: chebyshev_loss(y_true, y_pred, best_model, best_lambda1, best_lambda2),\n",
        "optimizer=keras.optimizers.Adam(), metrics=[\"accuracy\"])\n",
        "best_model.fit(x_train, y_train, batch_size=128, epochs=2, validation_split=0.1, verbose=1)"
      ],
      "metadata": {
        "colab": {
          "base_uri": "https://localhost:8080/"
        },
        "id": "1cc0xDwqJKf4",
        "outputId": "aade2f93-e1f5-4916-fb2a-f1a76dc09a79"
      },
      "execution_count": null,
      "outputs": [
        {
          "output_type": "stream",
          "name": "stdout",
          "text": [
            "Epoch 1/2\n",
            "5/5 [==============================] - 2s 137ms/step - loss: 0.2238 - accuracy: 0.6984 - val_loss: 0.2008 - val_accuracy: 0.6571\n",
            "Epoch 2/2\n",
            "5/5 [==============================] - 0s 29ms/step - loss: 0.1956 - accuracy: 0.4984 - val_loss: 0.1929 - val_accuracy: 0.3571\n"
          ]
        },
        {
          "output_type": "execute_result",
          "data": {
            "text/plain": [
              "<keras.callbacks.History at 0x7fe48cb487f0>"
            ]
          },
          "metadata": {},
          "execution_count": 17
        }
      ]
    },
    {
      "cell_type": "code",
      "source": [
        "#Avaliar o melhor modelo\n",
        "score = best_model.evaluate(x_test, y_test, verbose=1)\n",
        "print(f\"Test loss: {score[0]}, Test accuracy: {score[1]}\")"
      ],
      "metadata": {
        "colab": {
          "base_uri": "https://localhost:8080/"
        },
        "id": "Kn1NbT_jJWtQ",
        "outputId": "741936dd-e6a0-4d94-a521-bbea4e112651"
      },
      "execution_count": null,
      "outputs": [
        {
          "output_type": "stream",
          "name": "stdout",
          "text": [
            "10/10 [==============================] - 0s 5ms/step - loss: 0.1937 - accuracy: 0.2900\n",
            "Test loss: 0.19372676312923431, Test accuracy: 0.28999999165534973\n"
          ]
        }
      ]
    },
    {
      "cell_type": "code",
      "source": [
        "#Função para calcular a norma L2 dos pesos do modelo\n",
        "def calculate_l2_norm(model):\n",
        "    l2_norm = sum([np.sum(np.square(layer.kernel.numpy())) for layer in model.layers if 'Conv2D' in str(layer) or 'Dense' in str(layer)])\n",
        "    return l2_norm"
      ],
      "metadata": {
        "id": "FV3Cl7rGJhy6"
      },
      "execution_count": null,
      "outputs": []
    },
    {
      "cell_type": "code",
      "source": [
        "#Preparar os dados para o gráfico do conjunto Pareto\n",
        "pareto_error_data = [objective(params) for params in result.x_iters]\n",
        "pareto_norm_data = [calculate_l2_norm(build_model()) for params in result.x_iters]"
      ],
      "metadata": {
        "colab": {
          "base_uri": "https://localhost:8080/"
        },
        "id": "IueYMmE0JkLR",
        "outputId": "868ae152-cba2-4ce6-afc9-93b67ecc6c7b"
      },
      "execution_count": null,
      "outputs": [
        {
          "output_type": "stream",
          "name": "stdout",
          "text": [
            "Epoch 1/2\n",
            "5/5 [==============================] - 2s 129ms/step - loss: 0.2065 - accuracy: 0.5365 - val_loss: 0.2398 - val_accuracy: 0.6429\n",
            "Epoch 2/2\n",
            "5/5 [==============================] - 0s 23ms/step - loss: 0.1797 - accuracy: 0.5111 - val_loss: 0.1417 - val_accuracy: 0.3429\n",
            "Epoch 1/2\n",
            "5/5 [==============================] - 1s 65ms/step - loss: 1.8674 - accuracy: 0.6984 - val_loss: 1.5157 - val_accuracy: 0.6571\n",
            "Epoch 2/2\n",
            "5/5 [==============================] - 0s 10ms/step - loss: 0.8359 - accuracy: 0.6984 - val_loss: 0.4073 - val_accuracy: 0.6429\n",
            "Epoch 1/2\n",
            "5/5 [==============================] - 1s 62ms/step - loss: 0.2660 - accuracy: 0.6889 - val_loss: 0.2133 - val_accuracy: 0.3429\n",
            "Epoch 2/2\n",
            "5/5 [==============================] - 0s 14ms/step - loss: 0.2255 - accuracy: 0.3016 - val_loss: 0.0461 - val_accuracy: 0.3143\n",
            "Epoch 1/2\n",
            "5/5 [==============================] - 1s 165ms/step - loss: 0.4876 - accuracy: 0.3635 - val_loss: 0.2140 - val_accuracy: 0.6571\n",
            "Epoch 2/2\n",
            "5/5 [==============================] - 0s 12ms/step - loss: 0.2235 - accuracy: 0.6984 - val_loss: 0.2464 - val_accuracy: 0.6571\n",
            "Epoch 1/2\n",
            "5/5 [==============================] - 1s 82ms/step - loss: 0.3544 - accuracy: 0.6984 - val_loss: 0.3028 - val_accuracy: 0.6571\n",
            "Epoch 2/2\n",
            "5/5 [==============================] - 0s 20ms/step - loss: 0.2554 - accuracy: 0.5460 - val_loss: 0.2460 - val_accuracy: 0.3429\n",
            "Epoch 1/2\n",
            "5/5 [==============================] - 1s 58ms/step - loss: 0.2738 - accuracy: 0.6032 - val_loss: 0.2644 - val_accuracy: 0.6571\n",
            "Epoch 2/2\n",
            "5/5 [==============================] - 0s 11ms/step - loss: 0.2562 - accuracy: 0.5651 - val_loss: 0.2473 - val_accuracy: 0.4429\n",
            "Epoch 1/2\n",
            "5/5 [==============================] - 1s 54ms/step - loss: 1.7368 - accuracy: 0.3016 - val_loss: 1.0682 - val_accuracy: 0.3429\n",
            "Epoch 2/2\n",
            "5/5 [==============================] - 0s 10ms/step - loss: 0.6978 - accuracy: 0.3016 - val_loss: 0.0663 - val_accuracy: 0.3286\n",
            "Epoch 1/2\n",
            "5/5 [==============================] - 1s 54ms/step - loss: 0.7537 - accuracy: 0.6667 - val_loss: 0.5926 - val_accuracy: 0.3429\n",
            "Epoch 2/2\n",
            "5/5 [==============================] - 0s 16ms/step - loss: 0.6080 - accuracy: 0.3016 - val_loss: 0.2668 - val_accuracy: 0.5571\n",
            "Epoch 1/2\n",
            "5/5 [==============================] - 1s 56ms/step - loss: 0.4612 - accuracy: 0.3016 - val_loss: 0.0313 - val_accuracy: 0.6571\n",
            "Epoch 2/2\n",
            "5/5 [==============================] - 0s 10ms/step - loss: 0.1282 - accuracy: 0.6984 - val_loss: 0.2313 - val_accuracy: 0.6571\n",
            "Epoch 1/2\n",
            "5/5 [==============================] - 1s 61ms/step - loss: 0.3139 - accuracy: 0.6984 - val_loss: 0.2947 - val_accuracy: 0.6571\n",
            "Epoch 2/2\n",
            "5/5 [==============================] - 0s 10ms/step - loss: 0.2462 - accuracy: 0.6984 - val_loss: 0.2120 - val_accuracy: 0.6571\n"
          ]
        }
      ]
    },
    {
      "cell_type": "code",
      "source": [
        "#Criar o gráfico do conjunto Pareto\n",
        "plt.scatter(pareto_error_data, pareto_norm_data)\n",
        "plt.xlabel(\"Erro de teste\")\n",
        "plt.ylabel(\"Norma L2 dos pesos\")\n",
        "plt.title(\"Conjunto Pareto de soluções: Erro x Norma dos pesos\")\n",
        "plt.show()"
      ],
      "metadata": {
        "colab": {
          "base_uri": "https://localhost:8080/",
          "height": 472
        },
        "id": "hE4TJ1JBJtyU",
        "outputId": "b6fb2db4-cf7f-478b-f92a-8d43ff3a243e"
      },
      "execution_count": null,
      "outputs": [
        {
          "output_type": "display_data",
          "data": {
            "text/plain": [
              "<Figure size 640x480 with 1 Axes>"
            ],
            "image/png": "[encoded data removed]"
          },
          "metadata": {}
        }
      ]
    },
    {
      "cell_type": "code",
      "source": [
        "#Função para calcular a norma L2 dos pesos do modelo\n",
        "def calculate_l2_norm(model):\n",
        "    l2_norm = sum([np.sum(np.square(layer.kernel.numpy())) for layer in model.layers if 'Conv2D' in str(layer) or 'Dense' in str(layer)])\n",
        "    return l2_norm\n",
        "\n",
        "#Preparar os dados para o gráfico do conjunto Pareto\n",
        "pareto_error_data = [objective(params) for params in result.x_iters]\n",
        "pareto_norm_data = [calculate_l2_norm(build_model()) for params in result.x_iters]\n",
        "\n",
        "#Criar o gráfico do conjunto Pareto\n",
        "plt.scatter(pareto_error_data, pareto_norm_data)\n",
        "plt.xlabel(\"Erro de teste\")\n",
        "plt.ylabel(\"Norma L2 dos pesos\")\n",
        "plt.title(\"Conjunto Pareto de soluções: Erro x Norma dos pesos\")\n",
        "plt.show()"
      ],
      "metadata": {
        "colab": {
          "base_uri": "https://localhost:8080/",
          "height": 1000
        },
        "id": "7aLdAdLgJxSO",
        "outputId": "bdbf490f-aa5b-4285-f7be-3d63888f52b8"
      },
      "execution_count": null,
      "outputs": [
        {
          "output_type": "stream",
          "name": "stdout",
          "text": [
            "Epoch 1/2\n",
            "5/5 [==============================] - 1s 59ms/step - loss: 1.2153 - accuracy: 0.6984 - val_loss: 0.9464 - val_accuracy: 0.6571\n",
            "Epoch 2/2\n",
            "5/5 [==============================] - 0s 10ms/step - loss: 0.4759 - accuracy: 0.6937 - val_loss: 0.1525 - val_accuracy: 0.3429\n",
            "Epoch 1/2\n",
            "5/5 [==============================] - 1s 63ms/step - loss: 0.2615 - accuracy: 0.6111 - val_loss: 0.2719 - val_accuracy: 0.3429\n",
            "Epoch 2/2\n",
            "5/5 [==============================] - 0s 10ms/step - loss: 0.2470 - accuracy: 0.5143 - val_loss: 0.2393 - val_accuracy: 0.6571\n",
            "Epoch 1/2\n",
            "5/5 [==============================] - 1s 58ms/step - loss: 0.2957 - accuracy: 0.6984 - val_loss: 0.2016 - val_accuracy: 0.3429\n",
            "Epoch 2/2\n",
            "5/5 [==============================] - 0s 11ms/step - loss: 0.2370 - accuracy: 0.3016 - val_loss: 0.0546 - val_accuracy: 0.3571\n",
            "Epoch 1/2\n",
            "5/5 [==============================] - 1s 55ms/step - loss: 0.5440 - accuracy: 0.3063 - val_loss: 0.1398 - val_accuracy: 0.6000\n",
            "Epoch 2/2\n",
            "5/5 [==============================] - 0s 14ms/step - loss: 0.2317 - accuracy: 0.6635 - val_loss: 0.3640 - val_accuracy: 0.6571\n",
            "Epoch 1/2\n",
            "5/5 [==============================] - 1s 86ms/step - loss: 0.2667 - accuracy: 0.5492 - val_loss: 0.2554 - val_accuracy: 0.6429\n",
            "Epoch 2/2\n",
            "5/5 [==============================] - 0s 21ms/step - loss: 0.2430 - accuracy: 0.5317 - val_loss: 0.2376 - val_accuracy: 0.6429\n",
            "Epoch 1/2\n",
            "5/5 [==============================] - 1s 74ms/step - loss: 0.3836 - accuracy: 0.6984 - val_loss: 0.3447 - val_accuracy: 0.6571\n",
            "Epoch 2/2\n",
            "5/5 [==============================] - 0s 11ms/step - loss: 0.2929 - accuracy: 0.6984 - val_loss: 0.2495 - val_accuracy: 0.6571\n",
            "Epoch 1/2\n",
            "5/5 [==============================] - 1s 56ms/step - loss: 1.5907 - accuracy: 0.3016 - val_loss: 0.6750 - val_accuracy: 0.3429\n",
            "Epoch 2/2\n",
            "5/5 [==============================] - 0s 10ms/step - loss: 0.3371 - accuracy: 0.4381 - val_loss: 0.3924 - val_accuracy: 0.6571\n",
            "Epoch 1/2\n",
            "5/5 [==============================] - 1s 59ms/step - loss: 1.9340 - accuracy: 0.3016 - val_loss: 0.8039 - val_accuracy: 0.3429\n",
            "Epoch 2/2\n",
            "5/5 [==============================] - 0s 10ms/step - loss: 0.5038 - accuracy: 0.5619 - val_loss: 0.7193 - val_accuracy: 0.6571\n",
            "Epoch 1/2\n",
            "5/5 [==============================] - 1s 59ms/step - loss: 1.3377 - accuracy: 0.3016 - val_loss: 0.5782 - val_accuracy: 0.3429\n",
            "Epoch 2/2\n",
            "5/5 [==============================] - 0s 11ms/step - loss: 0.2638 - accuracy: 0.4127 - val_loss: 0.2435 - val_accuracy: 0.6571\n",
            "Epoch 1/2\n",
            "5/5 [==============================] - 1s 61ms/step - loss: 0.2050 - accuracy: 0.6222 - val_loss: 0.1922 - val_accuracy: 0.3429\n",
            "Epoch 2/2\n",
            "5/5 [==============================] - 0s 16ms/step - loss: 0.1867 - accuracy: 0.4571 - val_loss: 0.1828 - val_accuracy: 0.6571\n"
          ]
        },
        {
          "output_type": "display_data",
          "data": {
            "text/plain": [
              "<Figure size 640x480 with 1 Axes>"
            ],
            "image/png": "[encoded data removed]"
          },
          "metadata": {}
        }
      ]
    },
    {
      "cell_type": "code",
      "source": [
        "loss, _ = best_model.evaluate(x_test, y_test, verbose=False)\n",
        "weights = best_model.get_weights()\n",
        "norma = np.linalg.norm(np.concatenate([w.flatten() for w in weights]))"
      ],
      "metadata": {
        "id": "zNLMJHQ0GpuO"
      },
      "execution_count": null,
      "outputs": []
    },
    {
      "cell_type": "code",
      "source": [
        "best_model.summary()"
      ],
      "metadata": {
        "colab": {
          "base_uri": "https://localhost:8080/"
        },
        "id": "r0x4fNGcxDa0",
        "outputId": "5483b57e-d8e9-441f-e262-0abdc4edf928"
      },
      "execution_count": null,
      "outputs": [
        {
          "output_type": "stream",
          "name": "stdout",
          "text": [
            "Model: \"sequential_11\"\n",
            "_________________________________________________________________\n",
            " Layer (type)                Output Shape              Param #   \n",
            "=================================================================\n",
            " dense_33 (Dense)            (None, 64)                1344      \n",
            "                                                                 \n",
            " dense_34 (Dense)            (None, 32)                2080      \n",
            "                                                                 \n",
            " dense_35 (Dense)            (None, 1)                 33        \n",
            "                                                                 \n",
            "=================================================================\n",
            "Total params: 3,457\n",
            "Trainable params: 3,457\n",
            "Non-trainable params: 0\n",
            "_________________________________________________________________\n"
          ]
        }
      ]
    },
    {
      "cell_type": "markdown",
      "source": [
        "peso 1 -> 20 * 64 = 1280 <br>\n",
        "bias 1 -> 1280 + 64 = 1344 <br>\n",
        "peso 2 -> 1344 + 64 * 32 = 3392 <br>\n",
        "bias 2 -> 3392 + 32 = 3424 <br>\n",
        "peso 3 -> 3424 + 32 * 1 = 3456 <br>\n",
        "bias 3 -> 3456 + 1 = 3457"
      ],
      "metadata": {
        "id": "djxxq7kG55bM"
      }
    },
    {
      "cell_type": "code",
      "source": [
        "class NeuralNetworkProblem(Problem):\n",
        "\n",
        "  def __init__(self, x_train, y_train):\n",
        "    super().__init__(n_var=3457, n_obj=2, n_constr=0, xl=-1, xu=1)\n",
        "    self.x_train = x_train\n",
        "    self.y_train = y_train\n",
        "\n",
        "  def _evaluate(self, x, out, *args, **kwargs):\n",
        "    loss = []\n",
        "    norma = []\n",
        "    model = build_model()\n",
        "    model.compile(loss=\"binary_crossentropy\", optimizer=\"adam\", metrics=[\"accuracy\"])\n",
        "    for linha in x:\n",
        "      w1 = linha[:1280].reshape(20, 64)\n",
        "      b1 = linha[1280: 1344]\n",
        "      w2 = linha[1344: 3392].reshape(64, 32)\n",
        "      b2 = linha[3392: 3424]\n",
        "      w3 = linha[3424: 3456].reshape(32, 1)\n",
        "      b3 = linha[3456:]\n",
        "      model.set_weights([w1, b1, w2, b2, w3, b3])\n",
        "\n",
        "      l, a = model.evaluate(self.x_train, self.y_train, verbose=False)\n",
        "      loss.append(l)\n",
        "      norma.append(np.linalg.norm(linha))\n",
        "\n",
        "      # Set the objectives\n",
        "    out[\"F\"] = np.column_stack([loss, norma])"
      ],
      "metadata": {
        "id": "JKni3_WwqvPl"
      },
      "execution_count": null,
      "outputs": []
    },
    {
      "cell_type": "code",
      "source": [
        "problem = NeuralNetworkProblem(x_train, y_train)\n",
        "algorithm = NSGA2(\n",
        "    pop_size=100,\n",
        ")\n",
        "res = minimize(\n",
        "    problem,\n",
        "    algorithm,\n",
        "    (\"n_gen\", 100),\n",
        "    verbose=True,\n",
        "    save_history=True,\n",
        "    seed=1\n",
        ")"
      ],
      "metadata": {
        "colab": {
          "base_uri": "https://localhost:8080/"
        },
        "id": "3I8NPsocuORQ",
        "outputId": "a6fe5e65-b908-4b2e-ef4b-33b1686c14eb"
      },
      "execution_count": null,
      "outputs": [
        {
          "output_type": "stream",
          "name": "stdout",
          "text": [
            "==========================================================\n",
            "n_gen  |  n_eval  | n_nds  |      eps      |   indicator  \n",
            "==========================================================\n",
            "     1 |      100 |      4 |             - |             -\n",
            "     2 |      200 |      4 |  0.0882082606 |         ideal\n",
            "     3 |      300 |      6 |  0.6316782283 |         ideal\n",
            "     4 |      400 |      7 |  0.0204090757 |             f\n",
            "     5 |      500 |     10 |  0.3228651705 |         ideal\n",
            "     6 |      600 |     11 |  0.0791486641 |             f\n",
            "     7 |      700 |      4 |  0.4069800725 |         ideal\n",
            "     8 |      800 |      9 |  0.0989595537 |         ideal\n",
            "     9 |      900 |      5 |  0.0365259896 |         ideal\n",
            "    10 |     1000 |      7 |  0.0638574068 |         ideal\n",
            "    11 |     1100 |     11 |  0.1925833042 |         nadir\n",
            "    12 |     1200 |     15 |  0.0824155831 |         ideal\n",
            "    13 |     1300 |     13 |  0.1646950639 |         ideal\n",
            "    14 |     1400 |      8 |  0.1838247521 |         nadir\n",
            "    15 |     1500 |      7 |  0.1234746660 |         ideal\n",
            "    16 |     1600 |      8 |  0.0167116147 |             f\n",
            "    17 |     1700 |     12 |  0.0318755647 |         ideal\n",
            "    18 |     1800 |      6 |  0.0055285624 |         ideal\n",
            "    19 |     1900 |      8 |  0.0605532082 |         ideal\n",
            "    20 |     2000 |      8 |  0.0393421717 |         ideal\n",
            "    21 |     2100 |      8 |  0.0287743627 |         ideal\n",
            "    22 |     2200 |     11 |  0.0865522239 |         ideal\n",
            "    23 |     2300 |     13 |  0.0064392768 |         ideal\n",
            "    24 |     2400 |     17 |  0.2534973739 |         nadir\n",
            "    25 |     2500 |     13 |  0.1120706117 |         ideal\n",
            "    26 |     2600 |     12 |  0.0124700426 |         nadir\n",
            "    27 |     2700 |     14 |  0.0187748810 |         ideal\n",
            "    28 |     2800 |     15 |  0.0395428805 |         ideal\n",
            "    29 |     2900 |     16 |  0.2228574054 |         nadir\n",
            "    30 |     3000 |     21 |  0.0339696017 |         ideal\n",
            "    31 |     3100 |     15 |  0.0077590852 |             f\n",
            "    32 |     3200 |     19 |  0.0287609055 |             f\n",
            "    33 |     3300 |     17 |  0.0099314049 |         ideal\n",
            "    34 |     3400 |     17 |  0.0150999654 |         ideal\n",
            "    35 |     3500 |     18 |  0.0086660741 |             f\n",
            "    36 |     3600 |     16 |  0.0181694875 |         ideal\n",
            "    37 |     3700 |     13 |  0.0046448957 |         ideal\n",
            "    38 |     3800 |     12 |  0.0455634837 |         ideal\n",
            "    39 |     3900 |     12 |  0.0272249117 |             f\n",
            "    40 |     4000 |     12 |  0.0132134027 |             f\n",
            "    41 |     4100 |     13 |  0.0101689221 |         ideal\n",
            "    42 |     4200 |     15 |  0.0208808113 |             f\n",
            "    43 |     4300 |     16 |  0.0068732846 |         ideal\n",
            "    44 |     4400 |     18 |  0.0119830269 |         ideal\n",
            "    45 |     4500 |     16 |  0.0083109798 |             f\n",
            "    46 |     4600 |     13 |  0.0109886815 |         ideal\n",
            "    47 |     4700 |     13 |  0.0221084549 |         ideal\n",
            "    48 |     4800 |     18 |  0.0126841346 |             f\n",
            "    49 |     4900 |     21 |  0.0170154595 |             f\n",
            "    50 |     5000 |     21 |  0.0227162087 |         ideal\n",
            "    51 |     5100 |     23 |  0.1506902441 |         nadir\n",
            "    52 |     5200 |     21 |  0.0045314246 |             f\n",
            "    53 |     5300 |     17 |  0.0144243632 |         ideal\n",
            "    54 |     5400 |     17 |  0.0030298607 |         ideal\n",
            "    55 |     5500 |     18 |  0.0022592925 |             f\n",
            "    56 |     5600 |     20 |  0.0086280811 |         ideal\n",
            "    57 |     5700 |     15 |  0.0065226639 |         ideal\n",
            "    58 |     5800 |     13 |  0.0270350727 |         nadir\n",
            "    59 |     5900 |     14 |  0.0087831872 |         ideal\n",
            "    60 |     6000 |     16 |  0.3013929074 |         nadir\n",
            "    61 |     6100 |     14 |  0.4145783453 |         nadir\n",
            "    62 |     6200 |     15 |  0.0123153707 |         ideal\n",
            "    63 |     6300 |     19 |  0.0138130801 |             f\n",
            "    64 |     6400 |     22 |  0.0080190868 |         ideal\n",
            "    65 |     6500 |     22 |  0.0077230061 |             f\n",
            "    66 |     6600 |     19 |  0.0026782326 |         ideal\n",
            "    67 |     6700 |     19 |  0.0071693289 |         nadir\n",
            "    68 |     6800 |     19 |  0.0042680038 |         ideal\n",
            "    69 |     6900 |     17 |  0.0040639665 |         ideal\n",
            "    70 |     7000 |     17 |  0.0043974911 |         ideal\n",
            "    71 |     7100 |     18 |  0.0028107611 |         ideal\n",
            "    72 |     7200 |     20 |  0.0048837583 |         ideal\n",
            "    73 |     7300 |     12 |  0.1026898132 |         nadir\n",
            "    74 |     7400 |     14 |  0.0074790648 |         ideal\n",
            "    75 |     7500 |     14 |  0.0225702752 |             f\n",
            "    76 |     7600 |     16 |  0.0043125806 |         ideal\n",
            "    77 |     7700 |     18 |  0.0095598191 |             f\n",
            "    78 |     7800 |     19 |  0.7153688400 |         nadir\n",
            "    79 |     7900 |     14 |  0.0032544698 |         ideal\n",
            "    80 |     8000 |     17 |  0.0027677048 |         ideal\n",
            "    81 |     8100 |     19 |  0.0386468869 |             f\n",
            "    82 |     8200 |     21 |  0.0063726256 |         ideal\n",
            "    83 |     8300 |     23 |  0.0128655734 |             f\n",
            "    84 |     8400 |     22 |  0.4995646286 |         nadir\n",
            "    85 |     8500 |     24 |  0.0052381344 |         ideal\n",
            "    86 |     8600 |     24 |  0.0044145537 |         ideal\n",
            "    87 |     8700 |     27 |  0.0023825190 |             f\n",
            "    88 |     8800 |     27 |  0.0067665968 |         ideal\n",
            "    89 |     8900 |     24 |  0.0015181617 |             f\n",
            "    90 |     9000 |     25 |  0.0071139425 |             f\n",
            "    91 |     9100 |     30 |  0.0045142261 |         ideal\n",
            "    92 |     9200 |     31 |  0.1069646450 |         nadir\n",
            "    93 |     9300 |     35 |  0.0063936078 |             f\n",
            "    94 |     9400 |     27 |  0.0035773608 |         ideal\n",
            "    95 |     9500 |     30 |  6.5839339364 |         nadir\n",
            "    96 |     9600 |     31 |  0.0045392537 |         ideal\n",
            "    97 |     9700 |     32 |  0.0065240288 |             f\n",
            "    98 |     9800 |     34 |  0.0092312287 |             f\n",
            "    99 |     9900 |     38 |  0.0006865030 |             f\n",
            "   100 |    10000 |     38 |  0.1190355490 |         nadir\n"
          ]
        }
      ]
    },
    {
      "cell_type": "code",
      "source": [
        "F = res.F\n",
        "plt.scatter(F[:, 0], F[:, 1], color=\"red\")\n",
        "plt.scatter(loss, norma, color=\"blue\" )"
      ],
      "metadata": {
        "colab": {
          "base_uri": "https://localhost:8080/",
          "height": 447
        },
        "id": "u81cmdBAEbxP",
        "outputId": "1ba28fc0-afa8-4985-c846-9b6151ab4281"
      },
      "execution_count": null,
      "outputs": [
        {
          "output_type": "execute_result",
          "data": {
            "text/plain": [
              "<matplotlib.collections.PathCollection at 0x7fc43c0ff820>"
            ]
          },
          "metadata": {},
          "execution_count": 129
        },
        {
          "output_type": "display_data",
          "data": {
            "text/plain": [
              "<Figure size 640x480 with 1 Axes>"
            ],
            "image/png": "[encoded data removed]"
          },
          "metadata": {}
        }
      ]
    },
    {
      "cell_type": "code",
      "source": [
        "problem = NeuralNetworkProblem(x_train, y_train)\n",
        "algorithm = NSGA2(\n",
        "    pop_size=100,\n",
        ")\n",
        "res = minimize(\n",
        "    problem,\n",
        "    algorithm,\n",
        "    (\"n_gen\", 100),\n",
        "    verbose=True,\n",
        "    save_history=True,\n",
        ")"
      ],
      "metadata": {
        "colab": {
          "base_uri": "https://localhost:8080/"
        },
        "id": "oiJT3ehUPYGM",
        "outputId": "96a4bf08-39d6-4a85-bb6a-f760c2881e2d"
      },
      "execution_count": null,
      "outputs": [
        {
          "output_type": "stream",
          "name": "stdout",
          "text": [
            "==========================================================\n",
            "n_gen  |  n_eval  | n_nds  |      eps      |   indicator  \n",
            "==========================================================\n",
            "     1 |      100 |      5 |             - |             -\n",
            "     2 |      200 |      3 |  0.2821342236 |         ideal\n",
            "     3 |      300 |      8 |  0.4120555643 |         ideal\n",
            "     4 |      400 |      7 |  0.3728683388 |         ideal\n",
            "     5 |      500 |      8 |  0.0652767624 |         ideal\n",
            "     6 |      600 |      9 |  0.1481826247 |         ideal\n",
            "     7 |      700 |      8 |  0.0881418494 |         ideal\n",
            "     8 |      800 |      9 |  0.1270538910 |         ideal\n",
            "     9 |      900 |     12 |  0.1823817491 |         ideal\n",
            "    10 |     1000 |     10 |  0.1103618609 |         nadir\n",
            "    11 |     1100 |     10 |  0.1934433052 |         ideal\n",
            "    12 |     1200 |     11 |  0.0308041960 |         ideal\n",
            "    13 |     1300 |     12 |  0.0597873136 |         ideal\n",
            "    14 |     1400 |     12 |  0.0397641647 |         ideal\n",
            "    15 |     1500 |     12 |  0.0708957641 |         ideal\n",
            "    16 |     1600 |     14 |  0.0335834490 |             f\n",
            "    17 |     1700 |     15 |  0.0241911687 |             f\n",
            "    18 |     1800 |      8 |  0.0349090918 |         ideal\n",
            "    19 |     1900 |      9 |  0.0150514095 |         ideal\n",
            "    20 |     2000 |     12 |  0.0276008880 |         ideal\n",
            "    21 |     2100 |     12 |  0.0124137638 |             f\n",
            "    22 |     2200 |     11 |  0.0046331184 |         ideal\n",
            "    23 |     2300 |     13 |  0.0203391760 |         ideal\n",
            "    24 |     2400 |     13 |  0.0637298803 |         ideal\n",
            "    25 |     2500 |     12 |  0.0208184384 |         ideal\n",
            "    26 |     2600 |     12 |  0.0102980387 |             f\n",
            "    27 |     2700 |     16 |  0.0313171013 |             f\n",
            "    28 |     2800 |     15 |  0.0140052723 |         ideal\n",
            "    29 |     2900 |     10 |  0.0047105288 |         ideal\n",
            "    30 |     3000 |      9 |  0.0026627848 |         ideal\n",
            "    31 |     3100 |     16 |  0.0131204332 |         ideal\n",
            "    32 |     3200 |     14 |  2.9221557265 |         nadir\n",
            "    33 |     3300 |     16 |  0.0078378629 |         ideal\n",
            "    34 |     3400 |     18 |  0.0184161568 |         ideal\n",
            "    35 |     3500 |     18 |  0.0130839530 |         nadir\n",
            "    36 |     3600 |     18 |  0.0164184916 |             f\n",
            "    37 |     3700 |     14 |  0.0070059246 |         ideal\n",
            "    38 |     3800 |     14 |  0.0021808003 |             f\n",
            "    39 |     3900 |     15 |  0.0020374719 |             f\n",
            "    40 |     4000 |     17 |  0.0154957505 |         ideal\n",
            "    41 |     4100 |     19 |  0.0149568940 |         nadir\n",
            "    42 |     4200 |     25 |  0.0085840247 |             f\n",
            "    43 |     4300 |     27 |  0.6277741548 |         nadir\n",
            "    44 |     4400 |     29 |  0.0000653981 |             f\n",
            "    45 |     4500 |     23 |  0.0060121318 |         ideal\n",
            "    46 |     4600 |     23 |  0.0091911130 |         ideal\n",
            "    47 |     4700 |     27 |  0.0025499915 |             f\n",
            "    48 |     4800 |     31 |  0.0066544279 |             f\n",
            "    49 |     4900 |     33 |  0.0080560604 |             f\n",
            "    50 |     5000 |     25 |  0.0102037180 |         nadir\n",
            "    51 |     5100 |     26 |  1.7819922640 |         nadir\n",
            "    52 |     5200 |     23 |  0.6024980151 |         nadir\n",
            "    53 |     5300 |     20 |  1.2012272271 |         nadir\n",
            "    54 |     5400 |     20 |  0.0034564300 |         ideal\n",
            "    55 |     5500 |     20 |  3.746792E-06 |             f\n",
            "    56 |     5600 |     22 |  0.0053530259 |         ideal\n",
            "    57 |     5700 |     22 |  0.1979658830 |         nadir\n",
            "    58 |     5800 |     20 |  0.0005997225 |             f\n",
            "    59 |     5900 |     23 |  0.0250899737 |             f\n",
            "    60 |     6000 |     18 |  0.0048013546 |         ideal\n",
            "    61 |     6100 |     17 |  0.0022295892 |             f\n",
            "    62 |     6200 |     20 |  0.5397975132 |         nadir\n",
            "    63 |     6300 |     21 |  0.6546054837 |         nadir\n",
            "    64 |     6400 |     21 |  0.0000342539 |             f\n",
            "    65 |     6500 |     24 |  0.0042761924 |         ideal\n",
            "    66 |     6600 |     24 |  0.0045964007 |             f\n",
            "    67 |     6700 |     26 |  0.0027159020 |         ideal\n",
            "    68 |     6800 |     27 |  0.6225958206 |         nadir\n",
            "    69 |     6900 |     29 |  0.0006619290 |             f\n",
            "    70 |     7000 |     26 |  1.0025692642 |         nadir\n",
            "    71 |     7100 |     30 |  0.2277965998 |         nadir\n",
            "    72 |     7200 |     29 |  0.0062346812 |             f\n",
            "    73 |     7300 |     29 |  0.3373540490 |         nadir\n",
            "    74 |     7400 |     25 |  0.0163559460 |         nadir\n",
            "    75 |     7500 |     28 |  0.0075563574 |             f\n",
            "    76 |     7600 |     27 |  0.0035685551 |         ideal\n",
            "    77 |     7700 |     27 |  0.0026261085 |         ideal\n",
            "    78 |     7800 |     26 |  0.0033491335 |             f\n",
            "    79 |     7900 |     29 |  0.0076458857 |             f\n",
            "    80 |     8000 |     30 |  0.0138834597 |             f\n",
            "    81 |     8100 |     28 |  0.0026165067 |         ideal\n",
            "    82 |     8200 |     33 |  0.0147145534 |             f\n",
            "    83 |     8300 |     33 |  0.0046846988 |             f\n",
            "    84 |     8400 |     35 |  0.0864014296 |         nadir\n",
            "    85 |     8500 |     35 |  0.0011450157 |             f\n",
            "    86 |     8600 |     36 |  0.0018519666 |             f\n",
            "    87 |     8700 |     38 |  0.1361446554 |         nadir\n",
            "    88 |     8800 |     32 |  0.4196934107 |         nadir\n",
            "    89 |     8900 |     30 |  0.0027038243 |             f\n",
            "    90 |     9000 |     31 |  0.2399768509 |         nadir\n",
            "    91 |     9100 |     34 |  0.0034559123 |             f\n",
            "    92 |     9200 |     40 |  0.0873049073 |         nadir\n",
            "    93 |     9300 |     40 |  0.2495981830 |         nadir\n",
            "    94 |     9400 |     38 |  0.0012629443 |             f\n",
            "    95 |     9500 |     34 |  0.1920668959 |         nadir\n",
            "    96 |     9600 |     38 |  0.0034701957 |             f\n",
            "    97 |     9700 |     40 |  0.0038759230 |             f\n",
            "    98 |     9800 |     40 |  0.0058576362 |             f\n",
            "    99 |     9900 |     39 |  8.0306095810 |         nadir\n",
            "   100 |    10000 |     41 |  0.0018827495 |             f\n"
          ]
        }
      ]
    },
    {
      "cell_type": "code",
      "source": [
        "F = res.F\n",
        "plt.scatter(F[:, 0], F[:, 1], color=\"red\")\n",
        "plt.scatter(loss, norma, color=\"blue\" )"
      ],
      "metadata": {
        "colab": {
          "base_uri": "https://localhost:8080/"
        },
        "id": "voQix3hdPbgP",
        "outputId": "b43c1a47-189e-4897-c16b-25ab463aab48"
      },
      "execution_count": null,
      "outputs": [
        {
          "output_type": "execute_result",
          "data": {
            "text/plain": [
              "<matplotlib.collections.PathCollection at 0x7fc43677c9a0>"
            ]
          },
          "metadata": {},
          "execution_count": 133
        },
        {
          "output_type": "display_data",
          "data": {
            "text/plain": [
              "<Figure size 640x480 with 1 Axes>"
            ],
            "image/png": "[encoded data removed]"
          },
          "metadata": {}
        }
      ]
    }
  ]
}