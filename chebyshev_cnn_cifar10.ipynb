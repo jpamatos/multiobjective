{
  "cells": [
    {
      "cell_type": "code",
      "execution_count": 35,
      "metadata": {
        "colab": {
          "base_uri": "https://localhost:8080/"
        },
        "id": "0M22mp3ZEiTF",
        "outputId": "79169a86-b709-413c-cc67-96d8f8c9b0e1"
      },
      "outputs": [
        {
          "output_type": "stream",
          "name": "stdout",
          "text": [
            "Looking in indexes: https://pypi.org/simple, https://us-python.pkg.dev/colab-wheels/public/simple/\n",
            "Requirement already satisfied: scikit-optimize in /usr/local/lib/python3.10/dist-packages (0.9.0)\n",
            "Requirement already satisfied: joblib>=0.11 in /usr/local/lib/python3.10/dist-packages (from scikit-optimize) (1.2.0)\n",
            "Requirement already satisfied: pyaml>=16.9 in /usr/local/lib/python3.10/dist-packages (from scikit-optimize) (23.5.9)\n",
            "Requirement already satisfied: numpy>=1.13.3 in /usr/local/lib/python3.10/dist-packages (from scikit-optimize) (1.22.4)\n",
            "Requirement already satisfied: scipy>=0.19.1 in /usr/local/lib/python3.10/dist-packages (from scikit-optimize) (1.10.1)\n",
            "Requirement already satisfied: scikit-learn>=0.20.0 in /usr/local/lib/python3.10/dist-packages (from scikit-optimize) (1.2.2)\n",
            "Requirement already satisfied: PyYAML in /usr/local/lib/python3.10/dist-packages (from pyaml>=16.9->scikit-optimize) (6.0)\n",
            "Requirement already satisfied: threadpoolctl>=2.0.0 in /usr/local/lib/python3.10/dist-packages (from scikit-learn>=0.20.0->scikit-optimize) (3.1.0)\n",
            "Looking in indexes: https://pypi.org/simple, https://us-python.pkg.dev/colab-wheels/public/simple/\n",
            "Requirement already satisfied: pymoo in /usr/local/lib/python3.10/dist-packages (0.6.0.1)\n",
            "Requirement already satisfied: numpy>=1.15 in /usr/local/lib/python3.10/dist-packages (from pymoo) (1.22.4)\n",
            "Requirement already satisfied: scipy>=1.1 in /usr/local/lib/python3.10/dist-packages (from pymoo) (1.10.1)\n",
            "Requirement already satisfied: matplotlib>=3 in /usr/local/lib/python3.10/dist-packages (from pymoo) (3.7.1)\n",
            "Requirement already satisfied: autograd>=1.4 in /usr/local/lib/python3.10/dist-packages (from pymoo) (1.5)\n",
            "Requirement already satisfied: cma==3.2.2 in /usr/local/lib/python3.10/dist-packages (from pymoo) (3.2.2)\n",
            "Requirement already satisfied: alive-progress in /usr/local/lib/python3.10/dist-packages (from pymoo) (3.1.2)\n",
            "Requirement already satisfied: dill in /usr/local/lib/python3.10/dist-packages (from pymoo) (0.3.6)\n",
            "Requirement already satisfied: Deprecated in /usr/local/lib/python3.10/dist-packages (from pymoo) (1.2.13)\n",
            "Requirement already satisfied: future>=0.15.2 in /usr/local/lib/python3.10/dist-packages (from autograd>=1.4->pymoo) (0.18.3)\n",
            "Requirement already satisfied: contourpy>=1.0.1 in /usr/local/lib/python3.10/dist-packages (from matplotlib>=3->pymoo) (1.0.7)\n",
            "Requirement already satisfied: cycler>=0.10 in /usr/local/lib/python3.10/dist-packages (from matplotlib>=3->pymoo) (0.11.0)\n",
            "Requirement already satisfied: fonttools>=4.22.0 in /usr/local/lib/python3.10/dist-packages (from matplotlib>=3->pymoo) (4.39.3)\n",
            "Requirement already satisfied: kiwisolver>=1.0.1 in /usr/local/lib/python3.10/dist-packages (from matplotlib>=3->pymoo) (1.4.4)\n",
            "Requirement already satisfied: packaging>=20.0 in /usr/local/lib/python3.10/dist-packages (from matplotlib>=3->pymoo) (23.1)\n",
            "Requirement already satisfied: pillow>=6.2.0 in /usr/local/lib/python3.10/dist-packages (from matplotlib>=3->pymoo) (8.4.0)\n",
            "Requirement already satisfied: pyparsing>=2.3.1 in /usr/local/lib/python3.10/dist-packages (from matplotlib>=3->pymoo) (3.0.9)\n",
            "Requirement already satisfied: python-dateutil>=2.7 in /usr/local/lib/python3.10/dist-packages (from matplotlib>=3->pymoo) (2.8.2)\n",
            "Requirement already satisfied: about-time==4.2.1 in /usr/local/lib/python3.10/dist-packages (from alive-progress->pymoo) (4.2.1)\n",
            "Requirement already satisfied: grapheme==0.6.0 in /usr/local/lib/python3.10/dist-packages (from alive-progress->pymoo) (0.6.0)\n",
            "Requirement already satisfied: wrapt<2,>=1.10 in /usr/local/lib/python3.10/dist-packages (from Deprecated->pymoo) (1.14.1)\n",
            "Requirement already satisfied: six>=1.5 in /usr/local/lib/python3.10/dist-packages (from python-dateutil>=2.7->matplotlib>=3->pymoo) (1.16.0)\n"
          ]
        }
      ],
      "source": [
        "!pip install scikit-optimize\n",
        "!pip install -U pymoo"
      ]
    },
    {
      "cell_type": "code",
      "execution_count": 36,
      "metadata": {
        "id": "Gmbl9OdB6VNk"
      },
      "outputs": [],
      "source": [
        "import numpy as np\n",
        "import tensorflow as tf\n",
        "from tensorflow import keras\n",
        "from tensorflow.keras import layers\n",
        "from tensorflow.keras.datasets import cifar10\n",
        "from skopt import gp_minimize\n",
        "import matplotlib.pyplot as plt"
      ]
    },
    {
      "cell_type": "code",
      "execution_count": 39,
      "metadata": {
        "id": "pyudxZyF6XyA"
      },
      "outputs": [],
      "source": [
        "# Carregar os dados\n",
        "(x_train, y_train), (x_test, y_test) = cifar10.load_data()\n",
        "\n",
        "train_mask = np.logical_or(y_train == 0, y_train == 1).flatten()\n",
        "test_mask = np.logical_or(y_test == 0, y_test == 1).flatten()\n",
        "x_train, y_train = x_train[train_mask], y_train[train_mask]\n",
        "x_test, y_test = x_test[test_mask], y_test[test_mask]\n",
        "\n",
        "# Normalizar os dados\n",
        "x_train = x_train.astype(\"float32\") / 255\n",
        "x_test = x_test.astype(\"float32\") / 255\n",
        "x_train = np.expand_dims(x_train, -1)\n",
        "x_test = np.expand_dims(x_test, -1)\n",
        "y_train = keras.utils.to_categorical(y_train, 2)\n",
        "y_test = keras.utils.to_categorical(y_test, 2)"
      ]
    },
    {
      "cell_type": "code",
      "execution_count": 46,
      "metadata": {
        "id": "1Nd8ChUN6aIk"
      },
      "outputs": [],
      "source": [
        "def build_cnn_model():\n",
        "    # Criar o modelo da rede neural convolucional\n",
        "    model = keras.Sequential([\n",
        "        layers.Input(shape=(32, 32, 3)),\n",
        "        layers.Conv2D(32, kernel_size=(3, 3), activation=\"relu\"),\n",
        "        layers.MaxPooling2D(pool_size=(2, 2)),\n",
        "        layers.Conv2D(64, kernel_size=(3, 3), activation=\"relu\"),\n",
        "        layers.MaxPooling2D(pool_size=(2, 2)),\n",
        "        layers.Flatten(),\n",
        "        layers.Dense(128, activation=\"relu\"),\n",
        "        layers.Dense(2, activation=\"softmax\")\n",
        "    ])\n",
        "\n",
        "    return model"
      ]
    },
    {
      "cell_type": "code",
      "execution_count": 41,
      "metadata": {
        "id": "EEAbceIj6b1U"
      },
      "outputs": [],
      "source": [
        "def chebyshev_loss(y_true, y_pred, model, lambda1, lambda2):\n",
        "    # Função de perda Categorical Crossentropy\n",
        "    ce_loss = keras.losses.CategoricalCrossentropy()(y_true, y_pred)\n",
        "\n",
        "    # Função de regularização L2\n",
        "    l2_loss = sum([tf.nn.l2_loss(layer.kernel) for layer in model.layers if 'Conv2D' in str(layer) or 'Dense' in str(layer)])\n",
        "\n",
        "    # Combinar as funções de perda com os pesos de Chebyshev\n",
        "    combined_loss = lambda1 * ce_loss + lambda2 * l2_loss\n",
        "\n",
        "    return combined_loss"
      ]
    },
    {
      "cell_type": "code",
      "execution_count": 42,
      "metadata": {
        "id": "V_bXhGPe6eqz"
      },
      "outputs": [],
      "source": [
        "def objective(params):\n",
        "    lambda1, lambda2 = params\n",
        "    \n",
        "    # Construir o modelo da CNN\n",
        "    model = build_cnn_model()\n",
        "\n",
        "    # Compilar o modelo com a função de perda personalizada e otimizador\n",
        "    model.compile(loss=lambda y_true, y_pred: chebyshev_loss(y_true, y_pred, model, lambda1, lambda2), optimizer=keras.optimizers.Adam(), metrics=[\"accuracy\"])\n",
        "\n",
        "    # Treinar o modelo\n",
        "    model.fit(x_train, y_train, batch_size=128, epochs=2, validation_split=0.1, verbose=1)\n",
        "\n",
        "    # Avaliar o desempenho do modelo\n",
        "    score = model.evaluate(x_test, y_test, verbose=0)\n",
        "    \n",
        "    return score[0]"
      ]
    },
    {
      "cell_type": "code",
      "execution_count": 47,
      "metadata": {
        "colab": {
          "base_uri": "https://localhost:8080/"
        },
        "id": "9Ih5GXdY6ld1",
        "outputId": "dbf44de9-eb9b-4f69-dda2-f7676d7218f1"
      },
      "outputs": [
        {
          "output_type": "stream",
          "name": "stdout",
          "text": [
            "Iteration No: 1 started. Evaluating function at random point.\n",
            "Epoch 1/2\n",
            "71/71 [==============================] - 9s 111ms/step - loss: 0.0714 - accuracy: 0.6180 - val_loss: 0.0094 - val_accuracy: 0.7140\n",
            "Epoch 2/2\n",
            "71/71 [==============================] - 7s 95ms/step - loss: 0.0072 - accuracy: 0.6842 - val_loss: 0.0061 - val_accuracy: 0.7030\n",
            "Iteration No: 1 ended. Evaluation done at random point.\n",
            "Time taken: 16.4398\n",
            "Function value obtained: 0.0061\n",
            "Current minimum: 0.0061\n",
            "Iteration No: 2 started. Evaluating function at random point.\n",
            "Epoch 1/2\n",
            "71/71 [==============================] - 8s 97ms/step - loss: 0.2072 - accuracy: 0.5317 - val_loss: 0.0167 - val_accuracy: 0.4980\n",
            "Epoch 2/2\n",
            "71/71 [==============================] - 8s 110ms/step - loss: 0.0099 - accuracy: 0.5002 - val_loss: 0.0069 - val_accuracy: 0.5020\n",
            "Iteration No: 2 ended. Evaluation done at random point.\n",
            "Time taken: 16.4696\n",
            "Function value obtained: 0.0069\n",
            "Current minimum: 0.0061\n",
            "Iteration No: 3 started. Evaluating function at random point.\n",
            "Epoch 1/2\n",
            "71/71 [==============================] - 8s 106ms/step - loss: 0.0405 - accuracy: 0.6584 - val_loss: 0.0052 - val_accuracy: 0.5670\n",
            "Epoch 2/2\n",
            "71/71 [==============================] - 7s 96ms/step - loss: 0.0040 - accuracy: 0.6522 - val_loss: 0.0034 - val_accuracy: 0.6940\n",
            "Iteration No: 3 ended. Evaluation done at random point.\n",
            "Time taken: 15.9386\n",
            "Function value obtained: 0.0034\n",
            "Current minimum: 0.0034\n",
            "Iteration No: 4 started. Evaluating function at random point.\n",
            "Epoch 1/2\n",
            "71/71 [==============================] - 9s 111ms/step - loss: 0.1180 - accuracy: 0.5386 - val_loss: 0.0095 - val_accuracy: 0.4980\n",
            "Epoch 2/2\n",
            "71/71 [==============================] - 7s 95ms/step - loss: 0.0057 - accuracy: 0.4897 - val_loss: 0.0040 - val_accuracy: 0.4980\n",
            "Iteration No: 4 ended. Evaluation done at random point.\n",
            "Time taken: 21.9934\n",
            "Function value obtained: 0.0040\n",
            "Current minimum: 0.0034\n",
            "Iteration No: 5 started. Evaluating function at random point.\n",
            "Epoch 1/2\n",
            "71/71 [==============================] - 9s 112ms/step - loss: 0.2204 - accuracy: 0.5622 - val_loss: 0.0133 - val_accuracy: 0.4980\n",
            "Epoch 2/2\n",
            "71/71 [==============================] - 7s 96ms/step - loss: 0.0060 - accuracy: 0.4991 - val_loss: 0.0028 - val_accuracy: 0.5020\n",
            "Iteration No: 5 ended. Evaluation done at random point.\n",
            "Time taken: 21.9682\n",
            "Function value obtained: 0.0028\n",
            "Current minimum: 0.0028\n",
            "Iteration No: 6 started. Evaluating function at random point.\n",
            "Epoch 1/2\n",
            "71/71 [==============================] - 9s 113ms/step - loss: 0.2446 - accuracy: 0.5274 - val_loss: 0.0138 - val_accuracy: 0.5020\n",
            "Epoch 2/2\n",
            "71/71 [==============================] - 7s 93ms/step - loss: 0.0058 - accuracy: 0.4998 - val_loss: 0.0022 - val_accuracy: 0.5020\n",
            "Iteration No: 6 ended. Evaluation done at random point.\n",
            "Time taken: 16.1372\n",
            "Function value obtained: 0.0022\n",
            "Current minimum: 0.0022\n",
            "Iteration No: 7 started. Evaluating function at random point.\n",
            "Epoch 1/2\n",
            "71/71 [==============================] - 9s 110ms/step - loss: 0.0109 - accuracy: 0.7751 - val_loss: 0.0057 - val_accuracy: 0.8480\n",
            "Epoch 2/2\n",
            "71/71 [==============================] - 8s 115ms/step - loss: 0.0053 - accuracy: 0.8419 - val_loss: 0.0045 - val_accuracy: 0.8730\n",
            "Iteration No: 7 ended. Evaluation done at random point.\n",
            "Time taken: 17.9845\n",
            "Function value obtained: 0.0044\n",
            "Current minimum: 0.0022\n",
            "Iteration No: 8 started. Evaluating function at random point.\n",
            "Epoch 1/2\n",
            "71/71 [==============================] - 8s 97ms/step - loss: 0.2159 - accuracy: 0.6362 - val_loss: 0.0186 - val_accuracy: 0.4980\n",
            "Epoch 2/2\n",
            "71/71 [==============================] - 8s 108ms/step - loss: 0.0116 - accuracy: 0.5046 - val_loss: 0.0085 - val_accuracy: 0.5020\n",
            "Iteration No: 8 ended. Evaluation done at random point.\n",
            "Time taken: 22.2186\n",
            "Function value obtained: 0.0085\n",
            "Current minimum: 0.0022\n",
            "Iteration No: 9 started. Evaluating function at random point.\n",
            "Epoch 1/2\n",
            "71/71 [==============================] - 8s 99ms/step - loss: 0.0122 - accuracy: 0.7324 - val_loss: 0.0053 - val_accuracy: 0.7860\n",
            "Epoch 2/2\n",
            "71/71 [==============================] - 8s 109ms/step - loss: 0.0044 - accuracy: 0.8248 - val_loss: 0.0038 - val_accuracy: 0.8500\n",
            "Iteration No: 9 ended. Evaluation done at random point.\n",
            "Time taken: 16.5526\n",
            "Function value obtained: 0.0037\n",
            "Current minimum: 0.0022\n",
            "Iteration No: 10 started. Evaluating function at random point.\n",
            "Epoch 1/2\n",
            "71/71 [==============================] - 9s 112ms/step - loss: 0.1772 - accuracy: 0.5016 - val_loss: 0.0099 - val_accuracy: 0.4980\n",
            "Epoch 2/2\n",
            "71/71 [==============================] - 7s 95ms/step - loss: 0.0041 - accuracy: 0.5002 - val_loss: 0.0015 - val_accuracy: 0.4980\n",
            "Iteration No: 10 ended. Evaluation done at random point.\n",
            "Time taken: 16.4016\n",
            "Function value obtained: 0.0015\n",
            "Current minimum: 0.0015\n",
            "Melhores hiperparâmetros encontrados: lambda1 = 0.00032831800791001604, lambda2 = 0.005295269136558054\n"
          ]
        }
      ],
      "source": [
        "space = [(0.0001, 0.01, \"uniform\"), (0.0001, 0.01, \"uniform\")]\n",
        "\n",
        "result = gp_minimize(func=objective, dimensions=space, n_calls=10, random_state=42, verbose=1)\n",
        "\n",
        "#Imprimir os melhores hiperparâmetros encontrados\n",
        "best_lambda1, best_lambda2 = result.x\n",
        "print(f\"Melhores hiperparâmetros encontrados: lambda1 = {best_lambda1}, lambda2 = {best_lambda2}\")"
      ]
    },
    {
      "cell_type": "code",
      "execution_count": 48,
      "metadata": {
        "colab": {
          "base_uri": "https://localhost:8080/"
        },
        "id": "y6HiCGIXAHVW",
        "outputId": "11b139a7-6274-4bad-f2e5-c2a15dc39c37"
      },
      "outputs": [
        {
          "output_type": "stream",
          "name": "stdout",
          "text": [
            "Epoch 1/2\n",
            "71/71 [==============================] - 9s 112ms/step - loss: 0.4594 - accuracy: 0.7807 - val_loss: 0.3383 - val_accuracy: 0.8610\n",
            "Epoch 2/2\n",
            "71/71 [==============================] - 8s 106ms/step - loss: 0.3214 - accuracy: 0.8601 - val_loss: 0.2739 - val_accuracy: 0.8770\n",
            "63/63 [==============================] - 1s 10ms/step - loss: 0.2616 - accuracy: 0.8870\n",
            "Test loss: 0.2615981101989746, Test accuracy: 0.8870000243186951\n"
          ]
        }
      ],
      "source": [
        "#Construir e treinar o melhor base\n",
        "base_model = build_cnn_model()\n",
        "base_model.compile(loss=\"categorical_crossentropy\", optimizer=keras.optimizers.Adam(), metrics=[\"accuracy\"])\n",
        "base_model.fit(x_train, y_train, batch_size=128, epochs=2, validation_split=0.1, verbose=1)\n",
        "\n",
        "#Avaliar o melhor base\n",
        "score = base_model.evaluate(x_test, y_test, verbose=1)\n",
        "print(f\"Test loss: {score[0]}, Test accuracy: {score[1]}\")"
      ]
    },
    {
      "cell_type": "code",
      "execution_count": 51,
      "metadata": {
        "id": "qgaRJq6M6784",
        "colab": {
          "base_uri": "https://localhost:8080/"
        },
        "outputId": "8a74e38f-016f-4178-ca13-a0c65196d1f1"
      },
      "outputs": [
        {
          "output_type": "stream",
          "name": "stdout",
          "text": [
            "Epoch 1/2\n",
            "71/71 [==============================] - 13s 178ms/step - loss: 0.1778 - accuracy: 0.4947 - val_loss: 0.0100 - val_accuracy: 0.4980\n",
            "Epoch 2/2\n",
            "71/71 [==============================] - 8s 107ms/step - loss: 0.0041 - accuracy: 0.4909 - val_loss: 0.0015 - val_accuracy: 0.5020\n",
            "63/63 [==============================] - 1s 8ms/step - loss: 0.0015 - accuracy: 0.5000\n",
            "Test loss: 0.0014701948966830969, Test accuracy: 0.5\n"
          ]
        }
      ],
      "source": [
        "#Construir e treinar o melhor modelo\n",
        "best_model = build_cnn_model()\n",
        "best_model.compile(loss=lambda y_true, y_pred: chebyshev_loss(y_true, y_pred, best_model, best_lambda1, best_lambda2),\n",
        "optimizer=keras.optimizers.Adam(), metrics=[\"accuracy\"])\n",
        "best_model.fit(x_train, y_train, batch_size=128, epochs=2, validation_split=0.1, verbose=1)\n",
        "\n",
        "#Avaliar o melhor modelo\n",
        "score = best_model.evaluate(x_test, y_test, verbose=1)\n",
        "print(f\"Test loss: {score[0]}, Test accuracy: {score[1]}\")"
      ]
    }
  ],
  "metadata": {
    "colab": {
      "provenance": []
    },
    "kernelspec": {
      "display_name": "Python 3",
      "name": "python3"
    },
    "language_info": {
      "name": "python"
    }
  },
  "nbformat": 4,
  "nbformat_minor": 0
}