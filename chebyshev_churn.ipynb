{
  "nbformat": 4,
  "nbformat_minor": 0,
  "metadata": {
    "colab": {
      "provenance": []
    },
    "kernelspec": {
      "name": "python3",
      "display_name": "Python 3"
    },
    "language_info": {
      "name": "python"
    }
  },
  "cells": [
    {
      "cell_type": "code",
      "execution_count": null,
      "metadata": {
        "colab": {
          "base_uri": "https://localhost:8080/"
        },
        "id": "TSk-WfNUeJSt",
        "outputId": "ae8d64aa-dad5-49ea-d9cc-e8f0b42926d2"
      },
      "outputs": [
        {
          "output_type": "stream",
          "name": "stdout",
          "text": [
            "Looking in indexes: https://pypi.org/simple, https://us-python.pkg.dev/colab-wheels/public/simple/\n",
            "Collecting pymoo\n",
            "  Downloading pymoo-0.6.0.1-cp310-cp310-manylinux_2_5_x86_64.manylinux1_x86_64.manylinux_2_12_x86_64.manylinux2010_x86_64.whl (2.5 MB)\n",
            "\u001b[2K     \u001b[90m━━━━━━━━━━━━━━━━━━━━━━━━━━━━━━━━━━━━━━━━\u001b[0m \u001b[32m2.5/2.5 MB\u001b[0m \u001b[31m31.0 MB/s\u001b[0m eta \u001b[36m0:00:00\u001b[0m\n",
            "\u001b[?25hRequirement already satisfied: autograd>=1.4 in /usr/local/lib/python3.10/dist-packages (from pymoo) (1.5)\n",
            "Collecting alive-progress\n",
            "  Downloading alive_progress-3.1.1-py3-none-any.whl (75 kB)\n",
            "\u001b[2K     \u001b[90m━━━━━━━━━━━━━━━━━━━━━━━━━━━━━━━━━━━━━━━━\u001b[0m \u001b[32m75.7/75.7 kB\u001b[0m \u001b[31m5.7 MB/s\u001b[0m eta \u001b[36m0:00:00\u001b[0m\n",
            "\u001b[?25hRequirement already satisfied: scipy>=1.1 in /usr/local/lib/python3.10/dist-packages (from pymoo) (1.10.1)\n",
            "Collecting cma==3.2.2\n",
            "  Downloading cma-3.2.2-py2.py3-none-any.whl (249 kB)\n",
            "\u001b[2K     \u001b[90m━━━━━━━━━━━━━━━━━━━━━━━━━━━━━━━━━━━━━━\u001b[0m \u001b[32m249.1/249.1 kB\u001b[0m \u001b[31m18.1 MB/s\u001b[0m eta \u001b[36m0:00:00\u001b[0m\n",
            "\u001b[?25hCollecting Deprecated\n",
            "  Downloading Deprecated-1.2.13-py2.py3-none-any.whl (9.6 kB)\n",
            "Requirement already satisfied: matplotlib>=3 in /usr/local/lib/python3.10/dist-packages (from pymoo) (3.7.1)\n",
            "Collecting dill\n",
            "  Downloading dill-0.3.6-py3-none-any.whl (110 kB)\n",
            "\u001b[2K     \u001b[90m━━━━━━━━━━━━━━━━━━━━━━━━━━━━━━━━━━━━━━━\u001b[0m \u001b[32m110.5/110.5 kB\u001b[0m \u001b[31m8.4 MB/s\u001b[0m eta \u001b[36m0:00:00\u001b[0m\n",
            "\u001b[?25hRequirement already satisfied: numpy>=1.15 in /usr/local/lib/python3.10/dist-packages (from pymoo) (1.22.4)\n",
            "Requirement already satisfied: future>=0.15.2 in /usr/local/lib/python3.10/dist-packages (from autograd>=1.4->pymoo) (0.18.3)\n",
            "Requirement already satisfied: cycler>=0.10 in /usr/local/lib/python3.10/dist-packages (from matplotlib>=3->pymoo) (0.11.0)\n",
            "Requirement already satisfied: python-dateutil>=2.7 in /usr/local/lib/python3.10/dist-packages (from matplotlib>=3->pymoo) (2.8.2)\n",
            "Requirement already satisfied: fonttools>=4.22.0 in /usr/local/lib/python3.10/dist-packages (from matplotlib>=3->pymoo) (4.39.3)\n",
            "Requirement already satisfied: packaging>=20.0 in /usr/local/lib/python3.10/dist-packages (from matplotlib>=3->pymoo) (23.1)\n",
            "Requirement already satisfied: pyparsing>=2.3.1 in /usr/local/lib/python3.10/dist-packages (from matplotlib>=3->pymoo) (3.0.9)\n",
            "Requirement already satisfied: kiwisolver>=1.0.1 in /usr/local/lib/python3.10/dist-packages (from matplotlib>=3->pymoo) (1.4.4)\n",
            "Requirement already satisfied: contourpy>=1.0.1 in /usr/local/lib/python3.10/dist-packages (from matplotlib>=3->pymoo) (1.0.7)\n",
            "Requirement already satisfied: pillow>=6.2.0 in /usr/local/lib/python3.10/dist-packages (from matplotlib>=3->pymoo) (8.4.0)\n",
            "Collecting grapheme==0.6.0\n",
            "  Downloading grapheme-0.6.0.tar.gz (207 kB)\n",
            "\u001b[2K     \u001b[90m━━━━━━━━━━━━━━━━━━━━━━━━━━━━━━━━━━━━━━━\u001b[0m \u001b[32m207.3/207.3 kB\u001b[0m \u001b[31m7.0 MB/s\u001b[0m eta \u001b[36m0:00:00\u001b[0m\n",
            "\u001b[?25h  Preparing metadata (setup.py) ... \u001b[?25l\u001b[?25hdone\n",
            "Collecting about-time==4.2.1\n",
            "  Downloading about_time-4.2.1-py3-none-any.whl (13 kB)\n",
            "Requirement already satisfied: wrapt<2,>=1.10 in /usr/local/lib/python3.10/dist-packages (from Deprecated->pymoo) (1.14.1)\n",
            "Requirement already satisfied: six>=1.5 in /usr/local/lib/python3.10/dist-packages (from python-dateutil>=2.7->matplotlib>=3->pymoo) (1.16.0)\n",
            "Building wheels for collected packages: grapheme\n",
            "  Building wheel for grapheme (setup.py) ... \u001b[?25l\u001b[?25hdone\n",
            "  Created wheel for grapheme: filename=grapheme-0.6.0-py3-none-any.whl size=210095 sha256=752b18d82fb6cdafb8f9b1f4e9a362593782fca5c21dff708f3780263fb252e4\n",
            "  Stored in directory: /root/.cache/pip/wheels/01/e1/49/37e6bde9886439057450c494a79b0bef8bbe897a54aebfc757\n",
            "Successfully built grapheme\n",
            "Installing collected packages: grapheme, dill, Deprecated, cma, about-time, alive-progress, pymoo\n",
            "Successfully installed Deprecated-1.2.13 about-time-4.2.1 alive-progress-3.1.1 cma-3.2.2 dill-0.3.6 grapheme-0.6.0 pymoo-0.6.0.1\n",
            "Looking in indexes: https://pypi.org/simple, https://us-python.pkg.dev/colab-wheels/public/simple/\n",
            "Collecting scikit-optimize\n",
            "  Downloading scikit_optimize-0.9.0-py2.py3-none-any.whl (100 kB)\n",
            "\u001b[2K     \u001b[90m━━━━━━━━━━━━━━━━━━━━━━━━━━━━━━━━━━━━━━━\u001b[0m \u001b[32m100.3/100.3 kB\u001b[0m \u001b[31m3.3 MB/s\u001b[0m eta \u001b[36m0:00:00\u001b[0m\n",
            "\u001b[?25hRequirement already satisfied: scikit-learn>=0.20.0 in /usr/local/lib/python3.10/dist-packages (from scikit-optimize) (1.2.2)\n",
            "Requirement already satisfied: joblib>=0.11 in /usr/local/lib/python3.10/dist-packages (from scikit-optimize) (1.2.0)\n",
            "Requirement already satisfied: numpy>=1.13.3 in /usr/local/lib/python3.10/dist-packages (from scikit-optimize) (1.22.4)\n",
            "Collecting pyaml>=16.9\n",
            "  Downloading pyaml-23.5.8-py3-none-any.whl (17 kB)\n",
            "Requirement already satisfied: scipy>=0.19.1 in /usr/local/lib/python3.10/dist-packages (from scikit-optimize) (1.10.1)\n",
            "Requirement already satisfied: PyYAML in /usr/local/lib/python3.10/dist-packages (from pyaml>=16.9->scikit-optimize) (6.0)\n",
            "Requirement already satisfied: threadpoolctl>=2.0.0 in /usr/local/lib/python3.10/dist-packages (from scikit-learn>=0.20.0->scikit-optimize) (3.1.0)\n",
            "Installing collected packages: pyaml, scikit-optimize\n",
            "Successfully installed pyaml-23.5.8 scikit-optimize-0.9.0\n"
          ]
        }
      ],
      "source": [
        "!pip install -U pymoo\n",
        "!pip install scikit-optimize"
      ]
    },
    {
      "cell_type": "code",
      "source": [
        "import tensorflow as tf\n",
        "import pandas as pd\n",
        "import numpy as np\n",
        "import keras\n",
        "from keras import layers\n",
        "from keras.utils import to_categorical\n",
        "from pymoo.algorithms.moo.nsga2 import NSGA2\n",
        "from pymoo.core.problem import Problem\n",
        "from pymoo.optimize import minimize\n",
        "from sklearn.preprocessing import LabelEncoder, MinMaxScaler\n",
        "from sklearn.model_selection import train_test_split\n",
        "from sklearn.metrics import accuracy_score\n",
        "import matplotlib.pyplot as plt\n",
        "from pymoo.visualization.scatter import Scatter\n",
        "from pymoo.core.callback import Callback\n",
        "from skopt import gp_minimize"
      ],
      "metadata": {
        "id": "Ie8_9iyzeSgd"
      },
      "execution_count": null,
      "outputs": []
    },
    {
      "cell_type": "code",
      "source": [
        "data = pd.read_csv(\"data/Credit.csv\")\n",
        "data"
      ],
      "metadata": {
        "colab": {
          "base_uri": "https://localhost:8080/",
          "height": 626
        },
        "id": "cBwb_laseUBC",
        "outputId": "540014c0-70b9-40b3-d4d0-bf087364566d"
      },
      "execution_count": null,
      "outputs": [
        {
          "output_type": "execute_result",
          "data": {
            "text/plain": [
              "    checking_status  duration                    credit_history  \\\n",
              "0                <0         6  'critical/other existing credit'   \n",
              "1          0<=X<200        48                   'existing paid'   \n",
              "2     'no checking'        12  'critical/other existing credit'   \n",
              "3                <0        42                   'existing paid'   \n",
              "4                <0        24              'delayed previously'   \n",
              "..              ...       ...                               ...   \n",
              "995   'no checking'        12                   'existing paid'   \n",
              "996              <0        30                   'existing paid'   \n",
              "997   'no checking'        12                   'existing paid'   \n",
              "998              <0        45                   'existing paid'   \n",
              "999        0<=X<200        45  'critical/other existing credit'   \n",
              "\n",
              "                 purpose  credit_amount      savings_status  employment  \\\n",
              "0               radio/tv           1169  'no known savings'         >=7   \n",
              "1               radio/tv           5951                <100      1<=X<4   \n",
              "2              education           2096                <100      4<=X<7   \n",
              "3    furniture/equipment           7882                <100      4<=X<7   \n",
              "4              'new car'           4870                <100      1<=X<4   \n",
              "..                   ...            ...                 ...         ...   \n",
              "995  furniture/equipment           1736                <100      4<=X<7   \n",
              "996           'used car'           3857                <100      1<=X<4   \n",
              "997             radio/tv            804                <100         >=7   \n",
              "998             radio/tv           1845                <100      1<=X<4   \n",
              "999           'used car'           4576          100<=X<500  unemployed   \n",
              "\n",
              "     installment_commitment       personal_status other_parties  ...  \\\n",
              "0                         4         'male single'          none  ...   \n",
              "1                         2  'female div/dep/mar'          none  ...   \n",
              "2                         2         'male single'          none  ...   \n",
              "3                         2         'male single'     guarantor  ...   \n",
              "4                         3         'male single'          none  ...   \n",
              "..                      ...                   ...           ...  ...   \n",
              "995                       3  'female div/dep/mar'          none  ...   \n",
              "996                       4        'male div/sep'          none  ...   \n",
              "997                       4         'male single'          none  ...   \n",
              "998                       4         'male single'          none  ...   \n",
              "999                       3         'male single'          none  ...   \n",
              "\n",
              "      property_magnitude age  other_payment_plans     housing  \\\n",
              "0          'real estate'  67                 none         own   \n",
              "1          'real estate'  22                 none         own   \n",
              "2          'real estate'  49                 none         own   \n",
              "3       'life insurance'  45                 none  'for free'   \n",
              "4    'no known property'  53                 none  'for free'   \n",
              "..                   ...  ..                  ...         ...   \n",
              "995        'real estate'  31                 none         own   \n",
              "996     'life insurance'  40                 none         own   \n",
              "997                  car  38                 none         own   \n",
              "998  'no known property'  23                 none  'for free'   \n",
              "999                  car  27                 none         own   \n",
              "\n",
              "    existing_credits                          job num_dependents  \\\n",
              "0                  2                      skilled              1   \n",
              "1                  1                      skilled              1   \n",
              "2                  1         'unskilled resident'              2   \n",
              "3                  1                      skilled              2   \n",
              "4                  2                      skilled              2   \n",
              "..               ...                          ...            ...   \n",
              "995                1         'unskilled resident'              1   \n",
              "996                1  'high qualif/self emp/mgmt'              1   \n",
              "997                1                      skilled              1   \n",
              "998                1                      skilled              1   \n",
              "999                1                      skilled              1   \n",
              "\n",
              "     own_telephone foreign_worker class  \n",
              "0              yes            yes  good  \n",
              "1             none            yes   bad  \n",
              "2             none            yes  good  \n",
              "3             none            yes  good  \n",
              "4             none            yes   bad  \n",
              "..             ...            ...   ...  \n",
              "995           none            yes  good  \n",
              "996            yes            yes  good  \n",
              "997           none            yes  good  \n",
              "998            yes            yes   bad  \n",
              "999           none            yes  good  \n",
              "\n",
              "[1000 rows x 21 columns]"
            ],
            "text/html": [
              "\n",
              "  <div id=\"df-0bba6ae1-ca87-43a0-88dc-fa11d9190956\">\n",
              "    <div class=\"colab-df-container\">\n",
              "      <div>\n",
              "<style scoped>\n",
              "    .dataframe tbody tr th:only-of-type {\n",
              "        vertical-align: middle;\n",
              "    }\n",
              "\n",
              "    .dataframe tbody tr th {\n",
              "        vertical-align: top;\n",
              "    }\n",
              "\n",
              "    .dataframe thead th {\n",
              "        text-align: right;\n",
              "    }\n",
              "</style>\n",
              "<table border=\"1\" class=\"dataframe\">\n",
              "  <thead>\n",
              "    <tr style=\"text-align: right;\">\n",
              "      <th></th>\n",
              "      <th>checking_status</th>\n",
              "      <th>duration</th>\n",
              "      <th>credit_history</th>\n",
              "      <th>purpose</th>\n",
              "      <th>credit_amount</th>\n",
              "      <th>savings_status</th>\n",
              "      <th>employment</th>\n",
              "      <th>installment_commitment</th>\n",
              "      <th>personal_status</th>\n",
              "      <th>other_parties</th>\n",
              "      <th>...</th>\n",
              "      <th>property_magnitude</th>\n",
              "      <th>age</th>\n",
              "      <th>other_payment_plans</th>\n",
              "      <th>housing</th>\n",
              "      <th>existing_credits</th>\n",
              "      <th>job</th>\n",
              "      <th>num_dependents</th>\n",
              "      <th>own_telephone</th>\n",
              "      <th>foreign_worker</th>\n",
              "      <th>class</th>\n",
              "    </tr>\n",
              "  </thead>\n",
              "  <tbody>\n",
              "    <tr>\n",
              "      <th>0</th>\n",
              "      <td>&lt;0</td>\n",
              "      <td>6</td>\n",
              "      <td>'critical/other existing credit'</td>\n",
              "      <td>radio/tv</td>\n",
              "      <td>1169</td>\n",
              "      <td>'no known savings'</td>\n",
              "      <td>&gt;=7</td>\n",
              "      <td>4</td>\n",
              "      <td>'male single'</td>\n",
              "      <td>none</td>\n",
              "      <td>...</td>\n",
              "      <td>'real estate'</td>\n",
              "      <td>67</td>\n",
              "      <td>none</td>\n",
              "      <td>own</td>\n",
              "      <td>2</td>\n",
              "      <td>skilled</td>\n",
              "      <td>1</td>\n",
              "      <td>yes</td>\n",
              "      <td>yes</td>\n",
              "      <td>good</td>\n",
              "    </tr>\n",
              "    <tr>\n",
              "      <th>1</th>\n",
              "      <td>0&lt;=X&lt;200</td>\n",
              "      <td>48</td>\n",
              "      <td>'existing paid'</td>\n",
              "      <td>radio/tv</td>\n",
              "      <td>5951</td>\n",
              "      <td>&lt;100</td>\n",
              "      <td>1&lt;=X&lt;4</td>\n",
              "      <td>2</td>\n",
              "      <td>'female div/dep/mar'</td>\n",
              "      <td>none</td>\n",
              "      <td>...</td>\n",
              "      <td>'real estate'</td>\n",
              "      <td>22</td>\n",
              "      <td>none</td>\n",
              "      <td>own</td>\n",
              "      <td>1</td>\n",
              "      <td>skilled</td>\n",
              "      <td>1</td>\n",
              "      <td>none</td>\n",
              "      <td>yes</td>\n",
              "      <td>bad</td>\n",
              "    </tr>\n",
              "    <tr>\n",
              "      <th>2</th>\n",
              "      <td>'no checking'</td>\n",
              "      <td>12</td>\n",
              "      <td>'critical/other existing credit'</td>\n",
              "      <td>education</td>\n",
              "      <td>2096</td>\n",
              "      <td>&lt;100</td>\n",
              "      <td>4&lt;=X&lt;7</td>\n",
              "      <td>2</td>\n",
              "      <td>'male single'</td>\n",
              "      <td>none</td>\n",
              "      <td>...</td>\n",
              "      <td>'real estate'</td>\n",
              "      <td>49</td>\n",
              "      <td>none</td>\n",
              "      <td>own</td>\n",
              "      <td>1</td>\n",
              "      <td>'unskilled resident'</td>\n",
              "      <td>2</td>\n",
              "      <td>none</td>\n",
              "      <td>yes</td>\n",
              "      <td>good</td>\n",
              "    </tr>\n",
              "    <tr>\n",
              "      <th>3</th>\n",
              "      <td>&lt;0</td>\n",
              "      <td>42</td>\n",
              "      <td>'existing paid'</td>\n",
              "      <td>furniture/equipment</td>\n",
              "      <td>7882</td>\n",
              "      <td>&lt;100</td>\n",
              "      <td>4&lt;=X&lt;7</td>\n",
              "      <td>2</td>\n",
              "      <td>'male single'</td>\n",
              "      <td>guarantor</td>\n",
              "      <td>...</td>\n",
              "      <td>'life insurance'</td>\n",
              "      <td>45</td>\n",
              "      <td>none</td>\n",
              "      <td>'for free'</td>\n",
              "      <td>1</td>\n",
              "      <td>skilled</td>\n",
              "      <td>2</td>\n",
              "      <td>none</td>\n",
              "      <td>yes</td>\n",
              "      <td>good</td>\n",
              "    </tr>\n",
              "    <tr>\n",
              "      <th>4</th>\n",
              "      <td>&lt;0</td>\n",
              "      <td>24</td>\n",
              "      <td>'delayed previously'</td>\n",
              "      <td>'new car'</td>\n",
              "      <td>4870</td>\n",
              "      <td>&lt;100</td>\n",
              "      <td>1&lt;=X&lt;4</td>\n",
              "      <td>3</td>\n",
              "      <td>'male single'</td>\n",
              "      <td>none</td>\n",
              "      <td>...</td>\n",
              "      <td>'no known property'</td>\n",
              "      <td>53</td>\n",
              "      <td>none</td>\n",
              "      <td>'for free'</td>\n",
              "      <td>2</td>\n",
              "      <td>skilled</td>\n",
              "      <td>2</td>\n",
              "      <td>none</td>\n",
              "      <td>yes</td>\n",
              "      <td>bad</td>\n",
              "    </tr>\n",
              "    <tr>\n",
              "      <th>...</th>\n",
              "      <td>...</td>\n",
              "      <td>...</td>\n",
              "      <td>...</td>\n",
              "      <td>...</td>\n",
              "      <td>...</td>\n",
              "      <td>...</td>\n",
              "      <td>...</td>\n",
              "      <td>...</td>\n",
              "      <td>...</td>\n",
              "      <td>...</td>\n",
              "      <td>...</td>\n",
              "      <td>...</td>\n",
              "      <td>...</td>\n",
              "      <td>...</td>\n",
              "      <td>...</td>\n",
              "      <td>...</td>\n",
              "      <td>...</td>\n",
              "      <td>...</td>\n",
              "      <td>...</td>\n",
              "      <td>...</td>\n",
              "      <td>...</td>\n",
              "    </tr>\n",
              "    <tr>\n",
              "      <th>995</th>\n",
              "      <td>'no checking'</td>\n",
              "      <td>12</td>\n",
              "      <td>'existing paid'</td>\n",
              "      <td>furniture/equipment</td>\n",
              "      <td>1736</td>\n",
              "      <td>&lt;100</td>\n",
              "      <td>4&lt;=X&lt;7</td>\n",
              "      <td>3</td>\n",
              "      <td>'female div/dep/mar'</td>\n",
              "      <td>none</td>\n",
              "      <td>...</td>\n",
              "      <td>'real estate'</td>\n",
              "      <td>31</td>\n",
              "      <td>none</td>\n",
              "      <td>own</td>\n",
              "      <td>1</td>\n",
              "      <td>'unskilled resident'</td>\n",
              "      <td>1</td>\n",
              "      <td>none</td>\n",
              "      <td>yes</td>\n",
              "      <td>good</td>\n",
              "    </tr>\n",
              "    <tr>\n",
              "      <th>996</th>\n",
              "      <td>&lt;0</td>\n",
              "      <td>30</td>\n",
              "      <td>'existing paid'</td>\n",
              "      <td>'used car'</td>\n",
              "      <td>3857</td>\n",
              "      <td>&lt;100</td>\n",
              "      <td>1&lt;=X&lt;4</td>\n",
              "      <td>4</td>\n",
              "      <td>'male div/sep'</td>\n",
              "      <td>none</td>\n",
              "      <td>...</td>\n",
              "      <td>'life insurance'</td>\n",
              "      <td>40</td>\n",
              "      <td>none</td>\n",
              "      <td>own</td>\n",
              "      <td>1</td>\n",
              "      <td>'high qualif/self emp/mgmt'</td>\n",
              "      <td>1</td>\n",
              "      <td>yes</td>\n",
              "      <td>yes</td>\n",
              "      <td>good</td>\n",
              "    </tr>\n",
              "    <tr>\n",
              "      <th>997</th>\n",
              "      <td>'no checking'</td>\n",
              "      <td>12</td>\n",
              "      <td>'existing paid'</td>\n",
              "      <td>radio/tv</td>\n",
              "      <td>804</td>\n",
              "      <td>&lt;100</td>\n",
              "      <td>&gt;=7</td>\n",
              "      <td>4</td>\n",
              "      <td>'male single'</td>\n",
              "      <td>none</td>\n",
              "      <td>...</td>\n",
              "      <td>car</td>\n",
              "      <td>38</td>\n",
              "      <td>none</td>\n",
              "      <td>own</td>\n",
              "      <td>1</td>\n",
              "      <td>skilled</td>\n",
              "      <td>1</td>\n",
              "      <td>none</td>\n",
              "      <td>yes</td>\n",
              "      <td>good</td>\n",
              "    </tr>\n",
              "    <tr>\n",
              "      <th>998</th>\n",
              "      <td>&lt;0</td>\n",
              "      <td>45</td>\n",
              "      <td>'existing paid'</td>\n",
              "      <td>radio/tv</td>\n",
              "      <td>1845</td>\n",
              "      <td>&lt;100</td>\n",
              "      <td>1&lt;=X&lt;4</td>\n",
              "      <td>4</td>\n",
              "      <td>'male single'</td>\n",
              "      <td>none</td>\n",
              "      <td>...</td>\n",
              "      <td>'no known property'</td>\n",
              "      <td>23</td>\n",
              "      <td>none</td>\n",
              "      <td>'for free'</td>\n",
              "      <td>1</td>\n",
              "      <td>skilled</td>\n",
              "      <td>1</td>\n",
              "      <td>yes</td>\n",
              "      <td>yes</td>\n",
              "      <td>bad</td>\n",
              "    </tr>\n",
              "    <tr>\n",
              "      <th>999</th>\n",
              "      <td>0&lt;=X&lt;200</td>\n",
              "      <td>45</td>\n",
              "      <td>'critical/other existing credit'</td>\n",
              "      <td>'used car'</td>\n",
              "      <td>4576</td>\n",
              "      <td>100&lt;=X&lt;500</td>\n",
              "      <td>unemployed</td>\n",
              "      <td>3</td>\n",
              "      <td>'male single'</td>\n",
              "      <td>none</td>\n",
              "      <td>...</td>\n",
              "      <td>car</td>\n",
              "      <td>27</td>\n",
              "      <td>none</td>\n",
              "      <td>own</td>\n",
              "      <td>1</td>\n",
              "      <td>skilled</td>\n",
              "      <td>1</td>\n",
              "      <td>none</td>\n",
              "      <td>yes</td>\n",
              "      <td>good</td>\n",
              "    </tr>\n",
              "  </tbody>\n",
              "</table>\n",
              "<p>1000 rows × 21 columns</p>\n",
              "</div>\n",
              "      <button class=\"colab-df-convert\" onclick=\"convertToInteractive('df-0bba6ae1-ca87-43a0-88dc-fa11d9190956')\"\n",
              "              title=\"Convert this dataframe to an interactive table.\"\n",
              "              style=\"display:none;\">\n",
              "        \n",
              "  <svg xmlns=\"http://www.w3.org/2000/svg\" height=\"24px\"viewBox=\"0 0 24 24\"\n",
              "       width=\"24px\">\n",
              "    <path d=\"M0 0h24v24H0V0z\" fill=\"none\"/>\n",
              "    <path d=\"M18.56 5.44l.94 2.06.94-2.06 2.06-.94-2.06-.94-.94-2.06-.94 2.06-2.06.94zm-11 1L8.5 8.5l.94-2.06 2.06-.94-2.06-.94L8.5 2.5l-.94 2.06-2.06.94zm10 10l.94 2.06.94-2.06 2.06-.94-2.06-.94-.94-2.06-.94 2.06-2.06.94z\"/><path d=\"M17.41 7.96l-1.37-1.37c-.4-.4-.92-.59-1.43-.59-.52 0-1.04.2-1.43.59L10.3 9.45l-7.72 7.72c-.78.78-.78 2.05 0 2.83L4 21.41c.39.39.9.59 1.41.59.51 0 1.02-.2 1.41-.59l7.78-7.78 2.81-2.81c.8-.78.8-2.07 0-2.86zM5.41 20L4 18.59l7.72-7.72 1.47 1.35L5.41 20z\"/>\n",
              "  </svg>\n",
              "      </button>\n",
              "      \n",
              "  <style>\n",
              "    .colab-df-container {\n",
              "      display:flex;\n",
              "      flex-wrap:wrap;\n",
              "      gap: 12px;\n",
              "    }\n",
              "\n",
              "    .colab-df-convert {\n",
              "      background-color: #E8F0FE;\n",
              "      border: none;\n",
              "      border-radius: 50%;\n",
              "      cursor: pointer;\n",
              "      display: none;\n",
              "      fill: #1967D2;\n",
              "      height: 32px;\n",
              "      padding: 0 0 0 0;\n",
              "      width: 32px;\n",
              "    }\n",
              "\n",
              "    .colab-df-convert:hover {\n",
              "      background-color: #E2EBFA;\n",
              "      box-shadow: 0px 1px 2px rgba(60, 64, 67, 0.3), 0px 1px 3px 1px rgba(60, 64, 67, 0.15);\n",
              "      fill: #174EA6;\n",
              "    }\n",
              "\n",
              "    [theme=dark] .colab-df-convert {\n",
              "      background-color: #3B4455;\n",
              "      fill: #D2E3FC;\n",
              "    }\n",
              "\n",
              "    [theme=dark] .colab-df-convert:hover {\n",
              "      background-color: #434B5C;\n",
              "      box-shadow: 0px 1px 3px 1px rgba(0, 0, 0, 0.15);\n",
              "      filter: drop-shadow(0px 1px 2px rgba(0, 0, 0, 0.3));\n",
              "      fill: #FFFFFF;\n",
              "    }\n",
              "  </style>\n",
              "\n",
              "      <script>\n",
              "        const buttonEl =\n",
              "          document.querySelector('#df-0bba6ae1-ca87-43a0-88dc-fa11d9190956 button.colab-df-convert');\n",
              "        buttonEl.style.display =\n",
              "          google.colab.kernel.accessAllowed ? 'block' : 'none';\n",
              "\n",
              "        async function convertToInteractive(key) {\n",
              "          const element = document.querySelector('#df-0bba6ae1-ca87-43a0-88dc-fa11d9190956');\n",
              "          const dataTable =\n",
              "            await google.colab.kernel.invokeFunction('convertToInteractive',\n",
              "                                                     [key], {});\n",
              "          if (!dataTable) return;\n",
              "\n",
              "          const docLinkHtml = 'Like what you see? Visit the ' +\n",
              "            '<a target=\"_blank\" href=https://colab.research.google.com/notebooks/data_table.ipynb>data table notebook</a>'\n",
              "            + ' to learn more about interactive tables.';\n",
              "          element.innerHTML = '';\n",
              "          dataTable['output_type'] = 'display_data';\n",
              "          await google.colab.output.renderOutput(dataTable, element);\n",
              "          const docLink = document.createElement('div');\n",
              "          docLink.innerHTML = docLinkHtml;\n",
              "          element.appendChild(docLink);\n",
              "        }\n",
              "      </script>\n",
              "    </div>\n",
              "  </div>\n",
              "  "
            ]
          },
          "metadata": {},
          "execution_count": 4
        }
      ]
    },
    {
      "cell_type": "code",
      "source": [
        "cat_columns = list(data.select_dtypes(include=['object']).columns)"
      ],
      "metadata": {
        "id": "Dy9OTmLAeVTw"
      },
      "execution_count": null,
      "outputs": []
    },
    {
      "cell_type": "code",
      "source": [
        "le = LabelEncoder()\n",
        "for col in cat_columns:\n",
        "    data[col] = le.fit_transform(data[col])"
      ],
      "metadata": {
        "id": "bfEt8kAUeWX7"
      },
      "execution_count": null,
      "outputs": []
    },
    {
      "cell_type": "code",
      "source": [
        "x_train, x_test, y_train, y_test = train_test_split(\n",
        "    data.iloc[:, :-1],\n",
        "    data.iloc[:, -1],\n",
        "    test_size=0.3,\n",
        "    random_state=0\n",
        ")"
      ],
      "metadata": {
        "id": "0-tYoVMteXgZ"
      },
      "execution_count": null,
      "outputs": []
    },
    {
      "cell_type": "code",
      "source": [
        "model = keras.models.Sequential([\n",
        "    keras.layers.Dense(64, activation=\"relu\", input_shape=(x_train.shape[1],)),\n",
        "    keras.layers.Dense(32, activation=\"relu\"),\n",
        "    keras.layers.Dense(1, activation=\"sigmoid\")\n",
        "])"
      ],
      "metadata": {
        "id": "ICqSKs6EIRs9"
      },
      "execution_count": null,
      "outputs": []
    },
    {
      "cell_type": "code",
      "source": [
        "model.compile(loss=\"binary_crossentropy\", optimizer=\"adam\", metrics=[\"accuracy\"])"
      ],
      "metadata": {
        "id": "RvlbQLEieb0X"
      },
      "execution_count": null,
      "outputs": []
    },
    {
      "cell_type": "code",
      "source": [
        "history = model.fit(x_train, y_train, epochs=20, batch_size=32, validation_split=0.2)"
      ],
      "metadata": {
        "colab": {
          "base_uri": "https://localhost:8080/"
        },
        "id": "AmV4sd5EedG1",
        "outputId": "6dc6fc09-55bc-41cc-dd1c-8db76b51b0ff"
      },
      "execution_count": null,
      "outputs": [
        {
          "output_type": "stream",
          "name": "stdout",
          "text": [
            "Epoch 1/20\n",
            "18/18 [==============================] - 3s 24ms/step - loss: 10.2532 - accuracy: 0.5518 - val_loss: 8.8544 - val_accuracy: 0.3357\n",
            "Epoch 2/20\n",
            "18/18 [==============================] - 0s 6ms/step - loss: 8.9476 - accuracy: 0.4839 - val_loss: 12.1662 - val_accuracy: 0.6571\n",
            "Epoch 3/20\n",
            "18/18 [==============================] - 0s 6ms/step - loss: 6.9942 - accuracy: 0.4982 - val_loss: 2.5163 - val_accuracy: 0.6214\n",
            "Epoch 4/20\n",
            "18/18 [==============================] - 0s 5ms/step - loss: 3.6604 - accuracy: 0.5429 - val_loss: 10.6733 - val_accuracy: 0.6643\n",
            "Epoch 5/20\n",
            "18/18 [==============================] - 0s 5ms/step - loss: 3.6051 - accuracy: 0.5518 - val_loss: 2.5919 - val_accuracy: 0.3143\n",
            "Epoch 6/20\n",
            "18/18 [==============================] - 0s 5ms/step - loss: 4.3807 - accuracy: 0.5893 - val_loss: 2.3219 - val_accuracy: 0.6643\n",
            "Epoch 7/20\n",
            "18/18 [==============================] - 0s 5ms/step - loss: 3.2181 - accuracy: 0.6196 - val_loss: 0.7407 - val_accuracy: 0.6643\n",
            "Epoch 8/20\n",
            "18/18 [==============================] - 0s 4ms/step - loss: 4.0903 - accuracy: 0.5482 - val_loss: 3.7662 - val_accuracy: 0.6643\n",
            "Epoch 9/20\n",
            "18/18 [==============================] - 0s 5ms/step - loss: 3.3325 - accuracy: 0.6304 - val_loss: 4.6790 - val_accuracy: 0.3357\n",
            "Epoch 10/20\n",
            "18/18 [==============================] - 0s 5ms/step - loss: 4.3965 - accuracy: 0.5857 - val_loss: 1.3063 - val_accuracy: 0.6643\n",
            "Epoch 11/20\n",
            "18/18 [==============================] - 0s 5ms/step - loss: 2.7856 - accuracy: 0.6214 - val_loss: 3.5645 - val_accuracy: 0.6643\n",
            "Epoch 12/20\n",
            "18/18 [==============================] - 0s 4ms/step - loss: 2.9691 - accuracy: 0.5839 - val_loss: 2.0498 - val_accuracy: 0.6643\n",
            "Epoch 13/20\n",
            "18/18 [==============================] - 0s 4ms/step - loss: 2.8395 - accuracy: 0.5768 - val_loss: 5.0114 - val_accuracy: 0.3286\n",
            "Epoch 14/20\n",
            "18/18 [==============================] - 0s 5ms/step - loss: 2.0443 - accuracy: 0.5911 - val_loss: 1.1242 - val_accuracy: 0.6643\n",
            "Epoch 15/20\n",
            "18/18 [==============================] - 0s 6ms/step - loss: 1.4256 - accuracy: 0.6607 - val_loss: 4.5216 - val_accuracy: 0.6643\n",
            "Epoch 16/20\n",
            "18/18 [==============================] - 0s 4ms/step - loss: 5.8296 - accuracy: 0.5911 - val_loss: 8.9275 - val_accuracy: 0.3429\n",
            "Epoch 17/20\n",
            "18/18 [==============================] - 0s 5ms/step - loss: 7.6204 - accuracy: 0.5875 - val_loss: 8.6950 - val_accuracy: 0.3429\n",
            "Epoch 18/20\n",
            "18/18 [==============================] - 0s 5ms/step - loss: 5.9154 - accuracy: 0.5536 - val_loss: 1.7903 - val_accuracy: 0.6643\n",
            "Epoch 19/20\n",
            "18/18 [==============================] - 0s 5ms/step - loss: 3.4571 - accuracy: 0.6089 - val_loss: 1.4500 - val_accuracy: 0.5643\n",
            "Epoch 20/20\n",
            "18/18 [==============================] - 0s 5ms/step - loss: 1.4523 - accuracy: 0.6536 - val_loss: 1.5406 - val_accuracy: 0.5357\n"
          ]
        }
      ]
    },
    {
      "cell_type": "code",
      "source": [
        "y_pred = model.predict(x_test)\n",
        "y_pred = (y_pred > 0.5).astype(int)\n",
        "accuracy = accuracy_score(y_test, y_pred)\n",
        "print(f'Testing accuracy: {accuracy}')"
      ],
      "metadata": {
        "colab": {
          "base_uri": "https://localhost:8080/"
        },
        "id": "eQuLm5gieeJw",
        "outputId": "2c2df6d9-7c1c-46d1-92fb-b80e0e26e66a"
      },
      "execution_count": null,
      "outputs": [
        {
          "output_type": "stream",
          "name": "stdout",
          "text": [
            "10/10 [==============================] - 0s 2ms/step\n",
            "Testing accuracy: 0.5566666666666666\n"
          ]
        }
      ]
    },
    {
      "cell_type": "code",
      "source": [
        "def build_model():\n",
        "    # Criar o modelo da rede neural convolucional\n",
        "    model = keras.Sequential([\n",
        "        keras.layers.Dense(64, activation=\"relu\", input_shape=(20,)),\n",
        "        keras.layers.Dense(32, activation=\"relu\"),\n",
        "        keras.layers.Dense(1, activation=\"sigmoid\")\n",
        "    ])\n",
        "\n",
        "    return model"
      ],
      "metadata": {
        "id": "brQiknGpIUKh"
      },
      "execution_count": null,
      "outputs": []
    },
    {
      "cell_type": "code",
      "source": [
        "def chebyshev_loss(y_true, y_pred, model, lambda1, lambda2):\n",
        "    # Função de perda Categorical Crossentropy\n",
        "    ce_loss = keras.losses.BinaryCrossentropy()(y_true, y_pred)\n",
        "\n",
        "    # Função de regularização L2\n",
        "    l2_loss = sum([tf.nn.l2_loss(layer.kernel) for layer in model.layers if 'Conv2D' in str(layer) or 'Dense' in str(layer)])\n",
        "\n",
        "    # Combinar as funções de perda com os pesos de Chebyshev\n",
        "    combined_loss = lambda1 * ce_loss + lambda2 * l2_loss\n",
        "\n",
        "    return combined_loss"
      ],
      "metadata": {
        "id": "gUJa9MQCH7Ky"
      },
      "execution_count": null,
      "outputs": []
    },
    {
      "cell_type": "code",
      "source": [
        "def objective(params):\n",
        "    lambda1, lambda2 = params\n",
        "    \n",
        "    # Construir o modelo da CNN\n",
        "    model = build_model()\n",
        "\n",
        "    # Compilar o modelo com a função de perda personalizada e otimizador\n",
        "    model.compile(loss=lambda y_true, y_pred: chebyshev_loss(y_true, y_pred, model, lambda1, lambda2), optimizer=keras.optimizers.Adam(), metrics=[\"accuracy\"])\n",
        "\n",
        "    # Treinar o modelo\n",
        "    model.fit(x_train, y_train, batch_size=128, epochs=2, validation_split=0.1, verbose=1)\n",
        "\n",
        "    # Avaliar o desempenho do modelo\n",
        "    score = model.evaluate(x_test, y_test, verbose=0)\n",
        "    \n",
        "    return score[0]"
      ],
      "metadata": {
        "id": "mMBiXv0IIBmD"
      },
      "execution_count": null,
      "outputs": []
    },
    {
      "cell_type": "code",
      "source": [
        "space = [(0.0001, 0.01, \"uniform\"), (0.0001, 0.01, \"uniform\")]"
      ],
      "metadata": {
        "id": "Oq27HyMLIsfL"
      },
      "execution_count": null,
      "outputs": []
    },
    {
      "cell_type": "code",
      "source": [
        "result = gp_minimize(func=objective, dimensions=space, n_calls=10, random_state=42, verbose=1)"
      ],
      "metadata": {
        "colab": {
          "base_uri": "https://localhost:8080/"
        },
        "id": "f9mxCpwbI8fY",
        "outputId": "a59939bc-a292-4e0c-f51f-1cab53f0d5d8"
      },
      "execution_count": null,
      "outputs": [
        {
          "output_type": "stream",
          "name": "stdout",
          "text": [
            "Iteration No: 1 started. Evaluating function at random point.\n",
            "Epoch 1/2\n",
            "5/5 [==============================] - 1s 65ms/step - loss: 0.1656 - accuracy: 0.5143 - val_loss: 0.1604 - val_accuracy: 0.6571\n",
            "Epoch 2/2\n",
            "5/5 [==============================] - 0s 12ms/step - loss: 0.1182 - accuracy: 0.4952 - val_loss: 0.1118 - val_accuracy: 0.6571\n",
            "Iteration No: 1 ended. Evaluation done at random point.\n",
            "Time taken: 1.6112\n",
            "Function value obtained: 0.1002\n",
            "Current minimum: 0.1002\n",
            "Iteration No: 2 started. Evaluating function at random point.\n",
            "Epoch 1/2\n",
            "5/5 [==============================] - 1s 146ms/step - loss: 2.6279 - accuracy: 0.3016 - val_loss: 1.9365 - val_accuracy: 0.3429\n",
            "Epoch 2/2\n",
            "5/5 [==============================] - 0s 16ms/step - loss: 1.6215 - accuracy: 0.3016 - val_loss: 0.9823 - val_accuracy: 0.3429\n",
            "Iteration No: 2 ended. Evaluation done at random point.\n",
            "Time taken: 2.2864\n",
            "Function value obtained: 1.0253\n",
            "Current minimum: 0.1002\n",
            "Iteration No: 3 started. Evaluating function at random point.\n",
            "Epoch 1/2\n",
            "5/5 [==============================] - 1s 63ms/step - loss: 0.3715 - accuracy: 0.6984 - val_loss: 0.1464 - val_accuracy: 0.6571\n",
            "Epoch 2/2\n",
            "5/5 [==============================] - 0s 11ms/step - loss: 0.1626 - accuracy: 0.4635 - val_loss: 0.1939 - val_accuracy: 0.3571\n",
            "Iteration No: 3 ended. Evaluation done at random point.\n",
            "Time taken: 1.1381\n",
            "Function value obtained: 0.2071\n",
            "Current minimum: 0.1002\n",
            "Iteration No: 4 started. Evaluating function at random point.\n",
            "Epoch 1/2\n",
            "5/5 [==============================] - 1s 73ms/step - loss: 0.2079 - accuracy: 0.4794 - val_loss: 0.1586 - val_accuracy: 0.6571\n",
            "Epoch 2/2\n",
            "5/5 [==============================] - 0s 14ms/step - loss: 0.1495 - accuracy: 0.6984 - val_loss: 0.1516 - val_accuracy: 0.3571\n",
            "Iteration No: 4 ended. Evaluation done at random point.\n",
            "Time taken: 1.5087\n",
            "Function value obtained: 0.1527\n",
            "Current minimum: 0.1002\n",
            "Iteration No: 5 started. Evaluating function at random point.\n",
            "Epoch 1/2\n",
            "5/5 [==============================] - 1s 94ms/step - loss: 0.2548 - accuracy: 0.6127 - val_loss: 0.2421 - val_accuracy: 0.3857\n",
            "Epoch 2/2\n",
            "5/5 [==============================] - 0s 19ms/step - loss: 0.2374 - accuracy: 0.4762 - val_loss: 0.2330 - val_accuracy: 0.6571\n",
            "Iteration No: 5 ended. Evaluation done at random point.\n",
            "Time taken: 1.9495\n",
            "Function value obtained: 0.2301\n",
            "Current minimum: 0.1002\n",
            "Iteration No: 6 started. Evaluating function at random point.\n",
            "Epoch 1/2\n",
            "5/5 [==============================] - 1s 95ms/step - loss: 0.3658 - accuracy: 0.3016 - val_loss: 0.2932 - val_accuracy: 0.3429\n",
            "Epoch 2/2\n",
            "5/5 [==============================] - 0s 19ms/step - loss: 0.2682 - accuracy: 0.4524 - val_loss: 0.2716 - val_accuracy: 0.6571\n",
            "Iteration No: 6 ended. Evaluation done at random point.\n",
            "Time taken: 1.6674\n",
            "Function value obtained: 0.2645\n",
            "Current minimum: 0.1002\n",
            "Iteration No: 7 started. Evaluating function at random point.\n",
            "Epoch 1/2\n",
            "5/5 [==============================] - 1s 63ms/step - loss: 0.6831 - accuracy: 0.6984 - val_loss: 0.0974 - val_accuracy: 0.3429\n",
            "Epoch 2/2\n",
            "5/5 [==============================] - 0s 12ms/step - loss: 0.1430 - accuracy: 0.3698 - val_loss: 0.1299 - val_accuracy: 0.6571\n",
            "Iteration No: 7 ended. Evaluation done at random point.\n",
            "Time taken: 1.1926\n",
            "Function value obtained: 0.0978\n",
            "Current minimum: 0.0978\n",
            "Iteration No: 8 started. Evaluating function at random point.\n",
            "Epoch 1/2\n",
            "5/5 [==============================] - 1s 57ms/step - loss: 0.4005 - accuracy: 0.3937 - val_loss: 0.3633 - val_accuracy: 0.6571\n",
            "Epoch 2/2\n",
            "5/5 [==============================] - 0s 11ms/step - loss: 0.4132 - accuracy: 0.6984 - val_loss: 0.4239 - val_accuracy: 0.6571\n",
            "Iteration No: 8 ended. Evaluation done at random point.\n",
            "Time taken: 1.1517\n",
            "Function value obtained: 0.3705\n",
            "Current minimum: 0.0978\n",
            "Iteration No: 9 started. Evaluating function at random point.\n",
            "Epoch 1/2\n",
            "5/5 [==============================] - 1s 72ms/step - loss: 0.1791 - accuracy: 0.5508 - val_loss: 0.2378 - val_accuracy: 0.6571\n",
            "Epoch 2/2\n",
            "5/5 [==============================] - 0s 12ms/step - loss: 0.1187 - accuracy: 0.6000 - val_loss: 0.1748 - val_accuracy: 0.3429\n",
            "Iteration No: 9 ended. Evaluation done at random point.\n",
            "Time taken: 1.2507\n",
            "Function value obtained: 0.1861\n",
            "Current minimum: 0.0978\n",
            "Iteration No: 10 started. Evaluating function at random point.\n",
            "Epoch 1/2\n",
            "5/5 [==============================] - 1s 63ms/step - loss: 0.2632 - accuracy: 0.3016 - val_loss: 0.2250 - val_accuracy: 0.3429\n",
            "Epoch 2/2\n",
            "5/5 [==============================] - 0s 15ms/step - loss: 0.2058 - accuracy: 0.3016 - val_loss: 0.1793 - val_accuracy: 0.6429\n",
            "Iteration No: 10 ended. Evaluation done at random point.\n",
            "Time taken: 1.9618\n",
            "Function value obtained: 0.1788\n",
            "Current minimum: 0.0978\n"
          ]
        }
      ]
    },
    {
      "cell_type": "code",
      "source": [
        "best_lambda1, best_lambda2 = result.x\n",
        "print(f\"Melhores hiperparâmetros encontrados: lambda1 = {best_lambda1}, lambda2 = {best_lambda2}\")"
      ],
      "metadata": {
        "colab": {
          "base_uri": "https://localhost:8080/"
        },
        "id": "XadfwbGGJGzH",
        "outputId": "24a2f79c-558b-43f5-9769-11201c049caa"
      },
      "execution_count": null,
      "outputs": [
        {
          "output_type": "stream",
          "name": "stdout",
          "text": [
            "Melhores hiperparâmetros encontrados: lambda1 = 0.00939167181925593, lambda2 = 0.00010770978182604186\n"
          ]
        }
      ]
    },
    {
      "cell_type": "code",
      "source": [
        "#Construir e treinar o melhor modelo\n",
        "best_model = build_model()\n",
        "best_model.compile(loss=lambda y_true, y_pred: chebyshev_loss(y_true, y_pred, best_model, best_lambda1, best_lambda2),\n",
        "optimizer=keras.optimizers.Adam(), metrics=[\"accuracy\"])\n",
        "best_model.fit(x_train, y_train, batch_size=128, epochs=2, validation_split=0.1, verbose=1)"
      ],
      "metadata": {
        "colab": {
          "base_uri": "https://localhost:8080/"
        },
        "id": "1cc0xDwqJKf4",
        "outputId": "da08454e-0818-44e2-b13e-95db85c5f303"
      },
      "execution_count": null,
      "outputs": [
        {
          "output_type": "stream",
          "name": "stdout",
          "text": [
            "Epoch 1/2\n",
            "5/5 [==============================] - 1s 64ms/step - loss: 2.7899 - accuracy: 0.3016 - val_loss: 1.4197 - val_accuracy: 0.3429\n",
            "Epoch 2/2\n",
            "5/5 [==============================] - 0s 11ms/step - loss: 0.6625 - accuracy: 0.3778 - val_loss: 0.3875 - val_accuracy: 0.6429\n"
          ]
        },
        {
          "output_type": "execute_result",
          "data": {
            "text/plain": [
              "<keras.callbacks.History at 0x7f8d1d5324d0>"
            ]
          },
          "metadata": {},
          "execution_count": 18
        }
      ]
    },
    {
      "cell_type": "code",
      "source": [
        "#Avaliar o melhor modelo\n",
        "score = best_model.evaluate(x_test, y_test, verbose=1)\n",
        "print(f\"Test loss: {score[0]}, Test accuracy: {score[1]}\")"
      ],
      "metadata": {
        "colab": {
          "base_uri": "https://localhost:8080/"
        },
        "id": "Kn1NbT_jJWtQ",
        "outputId": "e91b283f-df64-4936-d84b-011d0323e78e"
      },
      "execution_count": null,
      "outputs": [
        {
          "output_type": "stream",
          "name": "stdout",
          "text": [
            "10/10 [==============================] - 0s 2ms/step - loss: 0.2898 - accuracy: 0.7100\n",
            "Test loss: 0.2897811532020569, Test accuracy: 0.7099999785423279\n"
          ]
        }
      ]
    },
    {
      "cell_type": "code",
      "source": [
        "#Função para calcular a norma L2 dos pesos do modelo\n",
        "def calculate_l2_norm(model):\n",
        "    l2_norm = sum([np.sum(np.square(layer.kernel.numpy())) for layer in model.layers if 'Conv2D' in str(layer) or 'Dense' in str(layer)])\n",
        "    return l2_norm"
      ],
      "metadata": {
        "id": "FV3Cl7rGJhy6"
      },
      "execution_count": null,
      "outputs": []
    },
    {
      "cell_type": "code",
      "source": [
        "#Preparar os dados para o gráfico do conjunto Pareto\n",
        "pareto_error_data = [objective(params) for params in result.x_iters]\n",
        "pareto_norm_data = [calculate_l2_norm(build_model()) for params in result.x_iters]"
      ],
      "metadata": {
        "colab": {
          "base_uri": "https://localhost:8080/"
        },
        "id": "IueYMmE0JkLR",
        "outputId": "3c28ab90-ab2a-41e2-c2e4-d0fb928e947e"
      },
      "execution_count": null,
      "outputs": [
        {
          "output_type": "stream",
          "name": "stdout",
          "text": [
            "Epoch 1/2\n",
            "5/5 [==============================] - 1s 90ms/step - loss: 2.3045 - accuracy: 0.3016 - val_loss: 1.6586 - val_accuracy: 0.3429\n",
            "Epoch 2/2\n",
            "5/5 [==============================] - 0s 23ms/step - loss: 1.3956 - accuracy: 0.3016 - val_loss: 0.8363 - val_accuracy: 0.3429\n",
            "Epoch 1/2\n",
            "5/5 [==============================] - 1s 65ms/step - loss: 0.8555 - accuracy: 0.6984 - val_loss: 0.4705 - val_accuracy: 0.6571\n",
            "Epoch 2/2\n",
            "5/5 [==============================] - 0s 17ms/step - loss: 0.4006 - accuracy: 0.4508 - val_loss: 0.4662 - val_accuracy: 0.3429\n",
            "Epoch 1/2\n",
            "5/5 [==============================] - 1s 65ms/step - loss: 0.4316 - accuracy: 0.6984 - val_loss: 0.3541 - val_accuracy: 0.6571\n",
            "Epoch 2/2\n",
            "5/5 [==============================] - 0s 12ms/step - loss: 0.1979 - accuracy: 0.6968 - val_loss: 0.0658 - val_accuracy: 0.6286\n",
            "Epoch 1/2\n",
            "5/5 [==============================] - 2s 63ms/step - loss: 1.5067 - accuracy: 0.3016 - val_loss: 0.8171 - val_accuracy: 0.3429\n",
            "Epoch 2/2\n",
            "5/5 [==============================] - 0s 16ms/step - loss: 0.4752 - accuracy: 0.3683 - val_loss: 0.2876 - val_accuracy: 0.6571\n",
            "Epoch 1/2\n",
            "5/5 [==============================] - 1s 62ms/step - loss: 0.4549 - accuracy: 0.6984 - val_loss: 0.2872 - val_accuracy: 0.6571\n",
            "Epoch 2/2\n",
            "5/5 [==============================] - 0s 15ms/step - loss: 0.2822 - accuracy: 0.3778 - val_loss: 0.2447 - val_accuracy: 0.3429\n",
            "Epoch 1/2\n",
            "5/5 [==============================] - 1s 70ms/step - loss: 0.2769 - accuracy: 0.5603 - val_loss: 0.2679 - val_accuracy: 0.3429\n",
            "Epoch 2/2\n",
            "5/5 [==============================] - 0s 14ms/step - loss: 0.2602 - accuracy: 0.5429 - val_loss: 0.2582 - val_accuracy: 0.6571\n",
            "Epoch 1/2\n",
            "5/5 [==============================] - 1s 68ms/step - loss: 1.6401 - accuracy: 0.3016 - val_loss: 1.0978 - val_accuracy: 0.3429\n",
            "Epoch 2/2\n",
            "5/5 [==============================] - 0s 17ms/step - loss: 0.8451 - accuracy: 0.3016 - val_loss: 0.3791 - val_accuracy: 0.3429\n",
            "Epoch 1/2\n",
            "5/5 [==============================] - 1s 71ms/step - loss: 0.6313 - accuracy: 0.4825 - val_loss: 0.6194 - val_accuracy: 0.6571\n",
            "Epoch 2/2\n",
            "5/5 [==============================] - 0s 18ms/step - loss: 0.5240 - accuracy: 0.6984 - val_loss: 0.3895 - val_accuracy: 0.6571\n",
            "Epoch 1/2\n",
            "5/5 [==============================] - 1s 88ms/step - loss: 1.9588 - accuracy: 0.3016 - val_loss: 1.2990 - val_accuracy: 0.3429\n",
            "Epoch 2/2\n",
            "5/5 [==============================] - 0s 18ms/step - loss: 1.0071 - accuracy: 0.3016 - val_loss: 0.4440 - val_accuracy: 0.3429\n",
            "Epoch 1/2\n",
            "5/5 [==============================] - 1s 64ms/step - loss: 0.1931 - accuracy: 0.5349 - val_loss: 0.1838 - val_accuracy: 0.6286\n",
            "Epoch 2/2\n",
            "5/5 [==============================] - 0s 12ms/step - loss: 0.1803 - accuracy: 0.6603 - val_loss: 0.1751 - val_accuracy: 0.3857\n"
          ]
        }
      ]
    },
    {
      "cell_type": "code",
      "source": [
        "#Criar o gráfico do conjunto Pareto\n",
        "plt.scatter(pareto_error_data, pareto_norm_data)\n",
        "plt.xlabel(\"Erro de teste\")\n",
        "plt.ylabel(\"Norma L2 dos pesos\")\n",
        "plt.title(\"Conjunto Pareto de soluções: Erro x Norma dos pesos\")\n",
        "plt.show()"
      ],
      "metadata": {
        "colab": {
          "base_uri": "https://localhost:8080/",
          "height": 472
        },
        "id": "hE4TJ1JBJtyU",
        "outputId": "74b098f6-d9f4-4a89-a747-a9fe3ea6f0df"
      },
      "execution_count": null,
      "outputs": [
        {
          "output_type": "display_data",
          "data": {
            "text/plain": [
              "<Figure size 640x480 with 1 Axes>"
            ],
            "image/png": "[encoded data removed]"
          },
          "metadata": {}
        }
      ]
    },
    {
      "cell_type": "code",
      "source": [
        "#Função para calcular a norma L2 dos pesos do modelo\n",
        "def calculate_l2_norm(model):\n",
        "    l2_norm = sum([np.sum(np.square(layer.kernel.numpy())) for layer in model.layers if 'Conv2D' in str(layer) or 'Dense' in str(layer)])\n",
        "    return l2_norm\n",
        "\n",
        "#Preparar os dados para o gráfico do conjunto Pareto\n",
        "pareto_error_data = [objective(params) for params in result.x_iters]\n",
        "pareto_norm_data = [calculate_l2_norm(build_model()) for params in result.x_iters]\n",
        "\n",
        "#Criar o gráfico do conjunto Pareto\n",
        "plt.scatter(pareto_error_data, pareto_norm_data)\n",
        "plt.xlabel(\"Erro de teste\")\n",
        "plt.ylabel(\"Norma L2 dos pesos\")\n",
        "plt.title(\"Conjunto Pareto de soluções: Erro x Norma dos pesos\")\n",
        "plt.show()"
      ],
      "metadata": {
        "colab": {
          "base_uri": "https://localhost:8080/",
          "height": 1000
        },
        "id": "7aLdAdLgJxSO",
        "outputId": "6913bde8-1311-4875-bc1b-2f9a3a44c6fc"
      },
      "execution_count": null,
      "outputs": [
        {
          "output_type": "stream",
          "name": "stdout",
          "text": [
            "Epoch 1/2\n",
            "5/5 [==============================] - 1s 64ms/step - loss: 0.2814 - accuracy: 0.5397 - val_loss: 0.0891 - val_accuracy: 0.3429\n",
            "Epoch 2/2\n",
            "5/5 [==============================] - 0s 10ms/step - loss: 0.1430 - accuracy: 0.6143 - val_loss: 0.1481 - val_accuracy: 0.6571\n",
            "Epoch 1/2\n",
            "5/5 [==============================] - 1s 76ms/step - loss: 2.0125 - accuracy: 0.3016 - val_loss: 1.1715 - val_accuracy: 0.3429\n",
            "Epoch 2/2\n",
            "5/5 [==============================] - 0s 17ms/step - loss: 0.7061 - accuracy: 0.3254 - val_loss: 0.3643 - val_accuracy: 0.6571\n",
            "Epoch 1/2\n",
            "5/5 [==============================] - 1s 58ms/step - loss: 0.2116 - accuracy: 0.5397 - val_loss: 0.2251 - val_accuracy: 0.3429\n",
            "Epoch 2/2\n",
            "5/5 [==============================] - 0s 11ms/step - loss: 0.1297 - accuracy: 0.5476 - val_loss: 0.1483 - val_accuracy: 0.6571\n",
            "Epoch 1/2\n",
            "5/5 [==============================] - 1s 65ms/step - loss: 0.2267 - accuracy: 0.4492 - val_loss: 0.1441 - val_accuracy: 0.6286\n",
            "Epoch 2/2\n",
            "5/5 [==============================] - 0s 15ms/step - loss: 0.1659 - accuracy: 0.6841 - val_loss: 0.1503 - val_accuracy: 0.6429\n",
            "Epoch 1/2\n",
            "5/5 [==============================] - 1s 60ms/step - loss: 0.2695 - accuracy: 0.5333 - val_loss: 0.2729 - val_accuracy: 0.6571\n",
            "Epoch 2/2\n",
            "5/5 [==============================] - 0s 10ms/step - loss: 0.2477 - accuracy: 0.5413 - val_loss: 0.2271 - val_accuracy: 0.4000\n",
            "Epoch 1/2\n",
            "5/5 [==============================] - 1s 66ms/step - loss: 0.2873 - accuracy: 0.4413 - val_loss: 0.2650 - val_accuracy: 0.4571\n",
            "Epoch 2/2\n",
            "5/5 [==============================] - 0s 13ms/step - loss: 0.2641 - accuracy: 0.6190 - val_loss: 0.2567 - val_accuracy: 0.6286\n",
            "Epoch 1/2\n",
            "5/5 [==============================] - 1s 102ms/step - loss: 0.3818 - accuracy: 0.5778 - val_loss: 0.2975 - val_accuracy: 0.6571\n",
            "Epoch 2/2\n",
            "5/5 [==============================] - 0s 19ms/step - loss: 0.1672 - accuracy: 0.5270 - val_loss: 0.1605 - val_accuracy: 0.3429\n",
            "Epoch 1/2\n",
            "5/5 [==============================] - 2s 77ms/step - loss: 0.4587 - accuracy: 0.5587 - val_loss: 0.4326 - val_accuracy: 0.6571\n",
            "Epoch 2/2\n",
            "5/5 [==============================] - 0s 16ms/step - loss: 0.3176 - accuracy: 0.5841 - val_loss: 0.2880 - val_accuracy: 0.3571\n",
            "Epoch 1/2\n",
            "5/5 [==============================] - 1s 66ms/step - loss: 0.7299 - accuracy: 0.3016 - val_loss: 0.0256 - val_accuracy: 0.4286\n",
            "Epoch 2/2\n",
            "5/5 [==============================] - 0s 16ms/step - loss: 0.1682 - accuracy: 0.6635 - val_loss: 0.3991 - val_accuracy: 0.6571\n",
            "Epoch 1/2\n",
            "5/5 [==============================] - 1s 63ms/step - loss: 0.2034 - accuracy: 0.5810 - val_loss: 0.1993 - val_accuracy: 0.6571\n",
            "Epoch 2/2\n",
            "5/5 [==============================] - 0s 18ms/step - loss: 0.1907 - accuracy: 0.6302 - val_loss: 0.1851 - val_accuracy: 0.3857\n"
          ]
        },
        {
          "output_type": "display_data",
          "data": {
            "text/plain": [
              "<Figure size 640x480 with 1 Axes>"
            ],
            "image/png": "[encoded data removed]"
          },
          "metadata": {}
        }
      ]
    }
  ]
}