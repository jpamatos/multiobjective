{
  "cells": [
    {
      "cell_type": "code",
      "execution_count": 1,
      "metadata": {
        "id": "uvjEixY8k5Bm"
      },
      "outputs": [],
      "source": [
        "from __future__ import annotations\n",
        "import pandas as pd\n",
        "import numpy as np\n",
        "from sklearn.model_selection import train_test_split\n",
        "from sklearn.preprocessing import LabelEncoder, MinMaxScaler\n",
        "import keras\n",
        "import matplotlib.pyplot as plt\n",
        "from tqdm import tqdm"
      ]
    },
    {
      "cell_type": "code",
      "execution_count": 2,
      "metadata": {
        "id": "ZlRWRFawk5Bn"
      },
      "outputs": [],
      "source": [
        "data = pd.read_csv(\"Credit.csv\")\n",
        "\n",
        "cat_columns = list(data.select_dtypes(include=[\"object\"]).columns)\n",
        "le = LabelEncoder()\n",
        "for col in cat_columns:\n",
        "    data[col] = le.fit_transform(data[col])\n",
        "\n",
        "X_train, X_test, y_train, y_test = train_test_split(\n",
        "    data.iloc[:, :-1],\n",
        "    data.iloc[:, -1],\n",
        "    test_size=0.3,\n",
        "    random_state=0\n",
        ")\n",
        "\n",
        "num_columns = list(set(data.columns) - set(cat_columns))\n",
        "scaler = MinMaxScaler()\n",
        "X_train[num_columns] = scaler.fit_transform(X_train[num_columns])\n",
        "X_test[num_columns] = scaler.transform(X_test[num_columns])"
      ]
    },
    {
      "cell_type": "code",
      "execution_count": 3,
      "metadata": {
        "id": "fspQY6MAk5Bo"
      },
      "outputs": [],
      "source": [
        "class Individual:\n",
        "    def __init__(self, generation: int=0) -> None:\n",
        "        self.generation = generation\n",
        "        self.gene = [0 if np.random.random() < 0.5 else 1 for _ in range(12)]\n",
        "        self.eval = 0\n",
        "\n",
        "    def _evaluate(self, X_train, X_test, y_train, y_test) -> None:\n",
        "        self.model = keras.Sequential()\n",
        "        self.model.add(keras.layers.Input(shape=(20, )))\n",
        "        for _ in range(int(\"\".join(map(str, self.gene[0:3])), 2) + 1):\n",
        "            self.model.add(keras.layers.Dense(int(\"\".join(map(str, self.gene[3:7])), 2) + 1, activation=\"relu\"))\n",
        "        for _ in range(int(\"\".join(map(str, self.gene[7:9])), 2) + 1):\n",
        "            self.model.add(keras.layers.Dense(int(\"\".join(map(str, self.gene[9:12])), 2) + 1, activation=\"relu\"))\n",
        "        self.model.add(keras.layers.Dense(1, activation=\"sigmoid\"))\n",
        "\n",
        "        self.model.compile(loss=\"binary_crossentropy\", optimizer=\"adam\", metrics=[\"accuracy\"])\n",
        "        self.model.fit(X_train, y_train, epochs=25, batch_size=32, validation_split=0.2, verbose=False)\n",
        "\n",
        "        loss, accuracy = self.model.evaluate(X_test, y_test, verbose=False)\n",
        "\n",
        "        self.loss = loss\n",
        "        self.eval = accuracy\n",
        "\n",
        "    def crossover(self, other_individual: Individual) -> list[Individual]:\n",
        "        cut = round(np.random.rand() * len(self.gene))\n",
        "        child1 = other_individual.gene[0:cut] + self.gene[cut::]\n",
        "        child2 = self.gene[0:cut] + other_individual.gene[cut::]\n",
        "\n",
        "        children = [Individual(self.generation + 1), Individual(self.generation + 1)]\n",
        "\n",
        "        children[0].gene = child1\n",
        "        children[1].gene = child2\n",
        "\n",
        "        return children\n",
        "\n",
        "    def mutation(self, mutation_rate: float) -> Individual:\n",
        "        for i in range(len(self.gene)):\n",
        "            if np.random.random() < mutation_rate:\n",
        "                if self.gene[i]:\n",
        "                    self.gene[i] = 0\n",
        "                else:\n",
        "                    self.gene[i] = 1\n",
        "        return self\n",
        "\n",
        "    def __repr__(self):\n",
        "        return f\"\"\"Generation: {self.generation}\n",
        "Gene: {self.gene}\n",
        "{int(\"\".join(map(str, self.gene[0:3])), 2) + 1} camadas com {int(\"\".join(map(str, self.gene[3:7])), 2) + 1} neurons\n",
        "{int(\"\".join(map(str, self.gene[7:9])), 2) + 1} camadas com {int(\"\".join(map(str, self.gene[9:12])), 2) + 1} neurons\n",
        "\"\"\""
      ]
    },
    {
      "cell_type": "code",
      "execution_count": null,
      "metadata": {
        "id": "yGqS6V3lk5Bo"
      },
      "outputs": [],
      "source": [
        "class GeneticAlgorithm:\n",
        "    def __init__(self, population_size: int, X_train, X_test, y_train, y_test) -> None:\n",
        "        self.population_size = population_size\n",
        "        self.population = []\n",
        "        self.generation = 0\n",
        "        self.eval_sum = 0\n",
        "        self.best_solution = 0\n",
        "        self.solution_list = []\n",
        "        self.X_train = X_train\n",
        "        self.X_test = X_test\n",
        "        self.y_train = y_train\n",
        "        self.y_test = y_test\n",
        "        self.pareto = []\n",
        "\n",
        "    def init_population(self) -> None:\n",
        "        for _ in range(self.population_size):\n",
        "            self.population.append(Individual())\n",
        "        self.best_solution = self.population[0]\n",
        "\n",
        "    def sort_population(self) -> None:\n",
        "        self.population = sorted(self.population, key=lambda individual: individual.eval, reverse=True)\n",
        "\n",
        "    def best_individual(self, individual: Individual) -> None:\n",
        "        if individual.eval > self.best_solution.eval:\n",
        "            self.best_solution = individual\n",
        "\n",
        "    def sum_eval(self) -> float:\n",
        "        sum = 0\n",
        "        for individual in self.population:\n",
        "            sum += individual.eval\n",
        "        return sum\n",
        "\n",
        "    def select_parent(self, sum_eval:float) -> int:\n",
        "        parent = -1\n",
        "        value = np.random.rand() * sum_eval\n",
        "        sum = 0\n",
        "        i = 0\n",
        "        while i < len(self.population) and sum < value:\n",
        "            sum += self.population[i].eval\n",
        "            parent += 1\n",
        "            i += 1\n",
        "        return parent\n",
        "\n",
        "    def visualize_generation(self) -> None:\n",
        "        best = self.population[0]\n",
        "        print(f\"G:{self.population[0].generation} -> \",\n",
        "              f\"Eval: {round(best.eval, 2)}\",\n",
        "              f\" Gene: {best.gene}\")\n",
        "\n",
        "    def solve(self, mutation_rate=0.05, generations=0) -> list[int]:\n",
        "        self.init_population()\n",
        "\n",
        "        print(\"Generation 0\")\n",
        "\n",
        "        for i in tqdm(range(len(self.population))):\n",
        "            self.population[i]._evaluate(self.X_train, self.X_test, self.y_train, self.y_test)\n",
        "\n",
        "        self.sort_population()\n",
        "\n",
        "        self.best_solution = self.population[0]\n",
        "        self.solution_list.append(self.best_solution.eval)\n",
        "\n",
        "        self.visualize_generation()\n",
        "\n",
        "        for i in range(generations):\n",
        "            print(f\"Generation {i + 1}\")\n",
        "            eval_sum = self.sum_eval()\n",
        "            new_population = []\n",
        "\n",
        "            for _ in range(0, self.population_size, 2):\n",
        "                parent1 = self.select_parent(eval_sum)\n",
        "                parent2 = self.select_parent(eval_sum)\n",
        "\n",
        "                children = self.population[parent1].crossover(self.population[parent2])\n",
        "\n",
        "                new_population.append(children[0].mutation(mutation_rate))\n",
        "                new_population.append(children[1].mutation(mutation_rate))\n",
        "\n",
        "            self.population = list(new_population)\n",
        "\n",
        "            for i in tqdm(range(len(self.population))):\n",
        "                self.population[i]._evaluate(self.X_train, self.X_test, self.y_train, self.y_test)\n",
        "\n",
        "            pareto = []\n",
        "            for individual in self.population:\n",
        "                frontier = not any((individual.loss > other_individual.loss and individual.eval < other_individual.eval) for other_individual in self.population)\n",
        "\n",
        "                if frontier:\n",
        "                    pareto.append(individual)\n",
        "\n",
        "            self.pareto.extend(pareto)\n",
        "\n",
        "\n",
        "            self.sort_population()\n",
        "            self.visualize_generation()\n",
        "\n",
        "            self.solution_list.append(self.population[0].eval)\n",
        "\n",
        "            self.best_individual(self.population[0])\n",
        "\n",
        "        self.pareto_frontier = []\n",
        "        for individual in self.pareto:\n",
        "            frontier = not any((individual.loss > other_individual.loss and individual.eval < other_individual.eval) for other_individual in self.pareto)\n",
        "\n",
        "            if frontier:\n",
        "                self.pareto_frontier.append(individual)\n",
        "\n",
        "        print(f\"Best Solution -> G:{self.best_solution.generation} -> \",\n",
        "              f\"Eval: {round(self.best_solution.eval, 3)}\",\n",
        "              f\" Gene: {self.best_solution.gene}\")\n",
        "\n",
        "        return self.best_solution\n",
        "\n",
        "ga = GeneticAlgorithm(6, X_train, X_test, y_train, y_test)"
      ]
    },
    {
      "cell_type": "code",
      "execution_count": null,
      "metadata": {
        "id": "an4aNpG4k5Bp",
        "outputId": "d41b744c-db36-40b1-8722-0ab5db19ef10"
      },
      "outputs": [
        {
          "name": "stdout",
          "output_type": "stream",
          "text": [
            "Generation 0\n",
            "G:0 ->  Eval: 0.73  Gene: [1, 1, 0, 0, 1, 1, 0, 0, 1, 0, 1, 0]\n",
            "Generation 1\n",
            "G:1 ->  Eval: 0.71  Gene: [1, 1, 0, 0, 1, 1, 0, 0, 1, 0, 0, 0]\n",
            "Generation 2\n",
            "G:2 ->  Eval: 0.71  Gene: [1, 0, 0, 0, 1, 1, 0, 1, 0, 0, 1, 0]\n",
            "Generation 3\n",
            "G:3 ->  Eval: 0.71  Gene: [0, 1, 1, 0, 1, 1, 0, 1, 0, 1, 1, 0]\n",
            "Generation 4\n",
            "G:4 ->  Eval: 0.74  Gene: [0, 0, 1, 1, 0, 1, 0, 0, 0, 0, 0, 1]\n",
            "Generation 5\n",
            "G:5 ->  Eval: 0.71  Gene: [0, 0, 0, 0, 1, 1, 0, 0, 1, 0, 0, 0]\n",
            "Generation 6\n",
            "G:6 ->  Eval: 0.71  Gene: [0, 0, 0, 1, 1, 1, 0, 0, 1, 0, 0, 0]\n",
            "Generation 7\n",
            "G:7 ->  Eval: 0.71  Gene: [0, 0, 0, 1, 1, 1, 0, 0, 1, 0, 0, 0]\n",
            "Generation 8\n",
            "G:8 ->  Eval: 0.71  Gene: [0, 1, 1, 0, 1, 1, 0, 1, 0, 0, 1, 1]\n",
            "Generation 9\n",
            "G:9 ->  Eval: 0.72  Gene: [0, 0, 0, 1, 1, 1, 0, 0, 1, 0, 1, 1]\n",
            "Generation 10\n",
            "G:10 ->  Eval: 0.71  Gene: [0, 1, 1, 0, 1, 1, 0, 1, 0, 1, 0, 1]\n",
            "Best Solution -> G:4 ->  Eval: 0.737  Gene: [0, 0, 1, 1, 0, 1, 0, 0, 0, 0, 0, 1]\n"
          ]
        }
      ],
      "source": [
        "result = ga.solve(generations=10)"
      ]
    },
    {
      "cell_type": "code",
      "execution_count": null,
      "metadata": {
        "id": "tU9R4G99k5Bp",
        "outputId": "ac5da63d-a1d2-41f2-bd17-063f51d8afb1"
      },
      "outputs": [
        {
          "data": {
            "text/plain": [
              "Generation: 4\n",
              "Gene: [0, 0, 1, 1, 0, 1, 0, 0, 0, 0, 0, 1]\n",
              "2 camadas com 11 neurons\n",
              "1 camadas com 2 neurons"
            ]
          },
          "execution_count": 6,
          "metadata": {},
          "output_type": "execute_result"
        }
      ],
      "source": [
        "result"
      ]
    },
    {
      "cell_type": "code",
      "execution_count": null,
      "metadata": {
        "id": "LUd4Ntmnk5Bp",
        "outputId": "bb1c12c3-c357-493e-82b6-7c9b69174eb1"
      },
      "outputs": [
        {
          "data": {
            "text/plain": [
              "[<matplotlib.lines.Line2D at 0x1b105622020>]"
            ]
          },
          "execution_count": 7,
          "metadata": {},
          "output_type": "execute_result"
        },
        {
          "data": {
            "image/png": "[encoded data removed]",
            "text/plain": [
              "<Figure size 640x480 with 1 Axes>"
            ]
          },
          "metadata": {},
          "output_type": "display_data"
        }
      ],
      "source": [
        "loss = []\n",
        "acc = []\n",
        "for individual in ga.pareto_frontier:\n",
        "    loss.append(individual.loss)\n",
        "    acc.append(-individual.eval)\n",
        "plt.plot(acc, loss, marker=\"*\", linestyle=\"None\")"
      ]
    },
    {
      "cell_type": "code",
      "execution_count": null,
      "metadata": {
        "id": "4SrE9khOk5Bq",
        "outputId": "158c566f-fa60-4752-e07b-362a23c9c065"
      },
      "outputs": [
        {
          "name": "stdout",
          "output_type": "stream",
          "text": [
            "Generation 0\n",
            "G:0 ->  Eval: 0.71  Gene: [1, 0, 0, 0, 1, 1, 0, 1, 1, 1, 0, 0]\n",
            "Generation 1\n",
            "G:1 ->  Eval: 0.72  Gene: [1, 0, 1, 1, 0, 1, 1, 1, 0, 1, 0, 0]\n",
            "Generation 2\n",
            "G:2 ->  Eval: 0.71  Gene: [1, 0, 1, 1, 0, 1, 0, 1, 1, 1, 0, 0]\n",
            "Generation 3\n",
            "G:3 ->  Eval: 0.71  Gene: [1, 0, 1, 1, 0, 0, 0, 0, 0, 1, 1, 1]\n",
            "Generation 4\n",
            "G:4 ->  Eval: 0.71  Gene: [1, 0, 1, 0, 1, 1, 1, 1, 0, 1, 0, 0]\n",
            "Generation 5\n",
            "G:5 ->  Eval: 0.71  Gene: [1, 0, 1, 0, 1, 1, 1, 1, 0, 1, 0, 0]\n",
            "Generation 6\n",
            "G:6 ->  Eval: 0.73  Gene: [1, 0, 1, 1, 0, 0, 1, 0, 0, 0, 1, 1]\n",
            "Generation 7\n",
            "G:7 ->  Eval: 0.74  Gene: [1, 0, 0, 1, 0, 0, 1, 0, 0, 0, 1, 1]\n",
            "Generation 8\n",
            "G:8 ->  Eval: 0.73  Gene: [1, 0, 1, 1, 1, 0, 1, 1, 0, 1, 1, 0]\n",
            "Generation 9\n",
            "G:9 ->  Eval: 0.71  Gene: [1, 0, 1, 1, 0, 0, 1, 0, 0, 0, 0, 0]\n",
            "Generation 10\n",
            "G:10 ->  Eval: 0.72  Gene: [1, 1, 1, 1, 0, 0, 1, 0, 0, 0, 1, 1]\n",
            "Best Solution -> G:7 ->  Eval: 0.74  Gene: [1, 0, 0, 1, 0, 0, 1, 0, 0, 0, 1, 1]\n"
          ]
        },
        {
          "data": {
            "text/plain": [
              "Generation: 7\n",
              "Gene: [1, 0, 0, 1, 0, 0, 1, 0, 0, 0, 1, 1]\n",
              "5 camadas com 10 neurons\n",
              "1 camadas com 4 neurons"
            ]
          },
          "execution_count": 8,
          "metadata": {},
          "output_type": "execute_result"
        }
      ],
      "source": [
        "ga2 = GeneticAlgorithm(6, X_train, X_test, y_train, y_test)\n",
        "result2 = ga2.solve(generations=10)\n",
        "result2"
      ]
    },
    {
      "cell_type": "code",
      "execution_count": null,
      "metadata": {
        "id": "NkOHIv18k5Bq",
        "outputId": "c19257ac-8332-43b3-e4d4-a6241954d95f"
      },
      "outputs": [
        {
          "data": {
            "text/plain": [
              "[<matplotlib.lines.Line2D at 0x1b1b212ff40>]"
            ]
          },
          "execution_count": 9,
          "metadata": {},
          "output_type": "execute_result"
        },
        {
          "data": {
            "image/png": "[encoded data removed]",
            "text/plain": [
              "<Figure size 640x480 with 1 Axes>"
            ]
          },
          "metadata": {},
          "output_type": "display_data"
        }
      ],
      "source": [
        "loss = []\n",
        "acc = []\n",
        "for individual in ga2.pareto_frontier:\n",
        "    loss.append(individual.loss)\n",
        "    acc.append(-individual.eval)\n",
        "plt.plot(acc, loss, marker=\"*\", linestyle=\"None\")"
      ]
    },
    {
      "cell_type": "code",
      "execution_count": null,
      "metadata": {
        "id": "GmS6UOddk5Bq",
        "outputId": "5e5809ea-f071-4715-c14e-8ad51c6a0468"
      },
      "outputs": [
        {
          "name": "stdout",
          "output_type": "stream",
          "text": [
            "Generation 0\n",
            "G:0 ->  Eval: 0.72  Gene: [0, 0, 0, 1, 1, 0, 0, 0, 0, 0, 1, 1]\n",
            "Generation 1\n",
            "G:1 ->  Eval: 0.71  Gene: [0, 1, 0, 1, 0, 1, 0, 1, 0, 0, 0, 1]\n",
            "Generation 2\n",
            "G:2 ->  Eval: 0.71  Gene: [1, 0, 0, 0, 1, 0, 1, 0, 1, 0, 1, 0]\n",
            "Generation 3\n",
            "G:3 ->  Eval: 0.71  Gene: [1, 1, 1, 0, 1, 1, 0, 1, 0, 0, 0, 1]\n",
            "Generation 4\n",
            "G:4 ->  Eval: 0.71  Gene: [1, 1, 1, 0, 1, 1, 0, 1, 0, 0, 0, 1]\n",
            "Generation 5\n",
            "G:5 ->  Eval: 0.71  Gene: [1, 1, 0, 1, 0, 0, 0, 1, 1, 0, 1, 0]\n",
            "Generation 6\n",
            "G:6 ->  Eval: 0.71  Gene: [1, 1, 0, 1, 0, 0, 0, 1, 0, 0, 1, 1]\n",
            "Generation 7\n",
            "G:7 ->  Eval: 0.71  Gene: [1, 1, 0, 1, 0, 0, 0, 1, 1, 0, 1, 1]\n",
            "Generation 8\n",
            "G:8 ->  Eval: 0.71  Gene: [0, 0, 0, 1, 0, 0, 0, 1, 1, 0, 1, 1]\n",
            "Generation 9\n",
            "G:9 ->  Eval: 0.71  Gene: [0, 1, 0, 0, 0, 0, 1, 1, 1, 0, 1, 1]\n",
            "Generation 10\n",
            "G:10 ->  Eval: 0.74  Gene: [1, 1, 0, 1, 0, 0, 0, 1, 0, 0, 1, 1]\n",
            "Best Solution -> G:10 ->  Eval: 0.74  Gene: [1, 1, 0, 1, 0, 0, 0, 1, 0, 0, 1, 1]\n"
          ]
        },
        {
          "data": {
            "text/plain": [
              "Generation: 10\n",
              "Gene: [1, 1, 0, 1, 0, 0, 0, 1, 0, 0, 1, 1]\n",
              "7 camadas com 9 neurons\n",
              "3 camadas com 4 neurons"
            ]
          },
          "execution_count": 10,
          "metadata": {},
          "output_type": "execute_result"
        }
      ],
      "source": [
        "ga3 = GeneticAlgorithm(6, X_train, X_test, y_train, y_test)\n",
        "result3 = ga3.solve(generations=10)\n",
        "result3"
      ]
    },
    {
      "cell_type": "code",
      "execution_count": null,
      "metadata": {
        "id": "bWjc8EI5k5Bq",
        "outputId": "c2da29e9-e3be-4824-ebc0-c842fab8230d"
      },
      "outputs": [
        {
          "data": {
            "text/plain": [
              "[<matplotlib.lines.Line2D at 0x1b210989bd0>]"
            ]
          },
          "execution_count": 11,
          "metadata": {},
          "output_type": "execute_result"
        },
        {
          "data": {
            "image/png": "[encoded data removed]",
            "text/plain": [
              "<Figure size 640x480 with 1 Axes>"
            ]
          },
          "metadata": {},
          "output_type": "display_data"
        }
      ],
      "source": [
        "loss = []\n",
        "acc = []\n",
        "for individual in ga3.pareto_frontier:\n",
        "    loss.append(individual.loss)\n",
        "    acc.append(-individual.eval)\n",
        "plt.plot(acc, loss, marker=\"*\", linestyle=\"None\")"
      ]
    },
    {
      "cell_type": "code",
      "execution_count": null,
      "metadata": {
        "id": "bLc9VOLwk5Br"
      },
      "outputs": [],
      "source": [
        "class GeneticAlgorithm:\n",
        "    def __init__(self, population_size: int, X_train, X_test, y_train, y_test) -> None:\n",
        "        self.population_size = population_size\n",
        "        self.population = []\n",
        "        self.generation = 0\n",
        "        self.eval_sum = 0\n",
        "        self.best_solution = 0\n",
        "        self.solution_list = []\n",
        "        self.X_train = X_train\n",
        "        self.X_test = X_test\n",
        "        self.y_train = y_train\n",
        "        self.y_test = y_test\n",
        "        self.pareto = []\n",
        "\n",
        "    def init_population(self) -> None:\n",
        "        for _ in range(self.population_size):\n",
        "            self.population.append(Individual())\n",
        "        self.best_solution = self.population[0]\n",
        "\n",
        "    def sort_population(self) -> None:\n",
        "        self.population = sorted(self.population, key=lambda individual: individual.eval, reverse=True)\n",
        "\n",
        "    def best_individual(self, individual: Individual) -> None:\n",
        "        if individual.eval > self.best_solution.eval:\n",
        "            self.best_solution = individual\n",
        "\n",
        "    def sum_eval(self) -> float:\n",
        "        sum = 0\n",
        "        for individual in self.population:\n",
        "            sum += individual.eval\n",
        "        return sum\n",
        "\n",
        "    def select_parent(self, sum_eval:float) -> int:\n",
        "        parent = -1\n",
        "        value = np.random.rand() * sum_eval\n",
        "        sum = 0\n",
        "        i = 0\n",
        "        while i < len(self.population) and sum < value:\n",
        "            sum += self.population[i].eval\n",
        "            parent += 1\n",
        "            i += 1\n",
        "        return parent\n",
        "\n",
        "    def visualize_generation(self) -> None:\n",
        "        best = self.population[0]\n",
        "        print(f\"G:{self.population[0].generation} -> \",\n",
        "              f\"Eval: {round(best.eval, 2)}\",\n",
        "              f\" Gene: {best.gene}\")\n",
        "\n",
        "    def solve(self, mutation_rate=0.05, generations=0) -> list[int]:\n",
        "        self.init_population()\n",
        "\n",
        "        print(\"Generation 0\")\n",
        "\n",
        "        for i in tqdm(range(len(self.population))):\n",
        "            self.population[i]._evaluate(self.X_train, self.X_test, self.y_train, self.y_test)\n",
        "\n",
        "        self.sort_population()\n",
        "\n",
        "        self.best_solution = self.population[0]\n",
        "        self.solution_list.append(self.best_solution.eval)\n",
        "\n",
        "        self.visualize_generation()\n",
        "\n",
        "        for i in range(generations):\n",
        "            print(f\"Generation {i + 1}\")\n",
        "            eval_sum = self.sum_eval()\n",
        "            new_population = []\n",
        "\n",
        "            for _ in range(0, self.population_size, 2):\n",
        "                parent1 = self.select_parent(eval_sum)\n",
        "                parent2 = self.select_parent(eval_sum)\n",
        "\n",
        "                children = self.population[parent1].crossover(self.population[parent2])\n",
        "\n",
        "                new_population.append(children[0].mutation(mutation_rate))\n",
        "                new_population.append(children[1].mutation(mutation_rate))\n",
        "\n",
        "            self.population = list(new_population)\n",
        "\n",
        "            for i in tqdm(range(len(self.population))):\n",
        "                self.population[i]._evaluate(self.X_train, self.X_test, self.y_train, self.y_test)\n",
        "\n",
        "            pareto = []\n",
        "            for individual in self.population:\n",
        "                frontier = not any((individual.loss > other_individual.loss and individual.eval < other_individual.eval) for other_individual in self.population)\n",
        "\n",
        "                if frontier:\n",
        "                    pareto.append(individual)\n",
        "\n",
        "            self.pareto.extend(pareto)\n",
        "\n",
        "\n",
        "            self.sort_population()\n",
        "            self.visualize_generation()\n",
        "\n",
        "            self.solution_list.append(self.population[0].eval)\n",
        "\n",
        "            self.best_individual(self.population[0])\n",
        "\n",
        "        self.pareto_frontier = []\n",
        "        for individual in self.pareto:\n",
        "            frontier = not any((individual.loss > other_individual.loss and individual.eval < other_individual.eval) for other_individual in self.pareto)\n",
        "\n",
        "            if frontier:\n",
        "                self.pareto_frontier.append(individual)\n",
        "\n",
        "        print(f\"Best Solution -> G:{self.best_solution.generation} -> \",\n",
        "              f\"Eval: {round(self.best_solution.eval, 3)}\",\n",
        "              f\" Gene: {self.best_solution.gene}\")\n",
        "\n",
        "        return self.best_solution"
      ]
    },
    {
      "cell_type": "code",
      "execution_count": null,
      "metadata": {
        "id": "c-HFcZO2k5Br",
        "outputId": "b29c10b9-a346-40e1-e2e2-1d49f10ffbac"
      },
      "outputs": [
        {
          "name": "stdout",
          "output_type": "stream",
          "text": [
            "Generation 0\n"
          ]
        },
        {
          "name": "stderr",
          "output_type": "stream",
          "text": [
            "100%|██████████| 20/20 [01:06<00:00,  3.34s/it]\n"
          ]
        },
        {
          "name": "stdout",
          "output_type": "stream",
          "text": [
            "G:0 ->  Eval: 0.74  Gene: [0, 1, 1, 1, 1, 1, 1, 0, 0, 0, 1, 1]\n",
            "Generation 1\n"
          ]
        },
        {
          "name": "stderr",
          "output_type": "stream",
          "text": [
            "100%|██████████| 20/20 [01:04<00:00,  3.22s/it]\n"
          ]
        },
        {
          "name": "stdout",
          "output_type": "stream",
          "text": [
            "G:1 ->  Eval: 0.73  Gene: [0, 1, 0, 1, 1, 1, 1, 0, 0, 1, 1, 0]\n",
            "Generation 2\n"
          ]
        },
        {
          "name": "stderr",
          "output_type": "stream",
          "text": [
            "100%|██████████| 20/20 [01:04<00:00,  3.24s/it]\n"
          ]
        },
        {
          "name": "stdout",
          "output_type": "stream",
          "text": [
            "G:2 ->  Eval: 0.72  Gene: [1, 1, 1, 0, 1, 1, 1, 0, 0, 1, 1, 1]\n",
            "Generation 3\n"
          ]
        },
        {
          "name": "stderr",
          "output_type": "stream",
          "text": [
            "100%|██████████| 20/20 [01:11<00:00,  3.57s/it]\n"
          ]
        },
        {
          "name": "stdout",
          "output_type": "stream",
          "text": [
            "G:3 ->  Eval: 0.72  Gene: [0, 0, 1, 0, 1, 0, 0, 0, 0, 1, 1, 0]\n",
            "Generation 4\n"
          ]
        },
        {
          "name": "stderr",
          "output_type": "stream",
          "text": [
            "100%|██████████| 20/20 [01:06<00:00,  3.30s/it]\n"
          ]
        },
        {
          "name": "stdout",
          "output_type": "stream",
          "text": [
            "G:4 ->  Eval: 0.72  Gene: [0, 1, 0, 1, 1, 1, 0, 0, 1, 1, 0, 0]\n",
            "Generation 5\n"
          ]
        },
        {
          "name": "stderr",
          "output_type": "stream",
          "text": [
            "100%|██████████| 20/20 [01:03<00:00,  3.18s/it]\n"
          ]
        },
        {
          "name": "stdout",
          "output_type": "stream",
          "text": [
            "G:5 ->  Eval: 0.72  Gene: [0, 0, 1, 1, 1, 1, 1, 0, 1, 1, 0, 0]\n",
            "Generation 6\n"
          ]
        },
        {
          "name": "stderr",
          "output_type": "stream",
          "text": [
            "100%|██████████| 20/20 [01:05<00:00,  3.29s/it]\n"
          ]
        },
        {
          "name": "stdout",
          "output_type": "stream",
          "text": [
            "G:6 ->  Eval: 0.73  Gene: [0, 0, 0, 1, 0, 0, 1, 0, 0, 1, 1, 1]\n",
            "Generation 7\n"
          ]
        },
        {
          "name": "stderr",
          "output_type": "stream",
          "text": [
            "100%|██████████| 20/20 [01:04<00:00,  3.22s/it]\n"
          ]
        },
        {
          "name": "stdout",
          "output_type": "stream",
          "text": [
            "G:7 ->  Eval: 0.72  Gene: [1, 1, 1, 1, 1, 0, 1, 0, 1, 1, 0, 0]\n",
            "Generation 8\n"
          ]
        },
        {
          "name": "stderr",
          "output_type": "stream",
          "text": [
            "100%|██████████| 20/20 [01:12<00:00,  3.63s/it]\n"
          ]
        },
        {
          "name": "stdout",
          "output_type": "stream",
          "text": [
            "G:8 ->  Eval: 0.72  Gene: [0, 1, 0, 1, 0, 0, 1, 0, 1, 1, 1, 1]\n",
            "Generation 9\n"
          ]
        },
        {
          "name": "stderr",
          "output_type": "stream",
          "text": [
            "100%|██████████| 20/20 [01:18<00:00,  3.91s/it]\n"
          ]
        },
        {
          "name": "stdout",
          "output_type": "stream",
          "text": [
            "G:9 ->  Eval: 0.72  Gene: [0, 0, 0, 1, 1, 1, 0, 0, 1, 1, 1, 1]\n",
            "Generation 10\n"
          ]
        },
        {
          "name": "stderr",
          "output_type": "stream",
          "text": [
            "100%|██████████| 20/20 [01:20<00:00,  4.02s/it]\n"
          ]
        },
        {
          "name": "stdout",
          "output_type": "stream",
          "text": [
            "G:10 ->  Eval: 0.72  Gene: [1, 1, 0, 0, 1, 1, 1, 1, 0, 1, 1, 1]\n",
            "Generation 11\n"
          ]
        },
        {
          "name": "stderr",
          "output_type": "stream",
          "text": [
            "100%|██████████| 20/20 [01:19<00:00,  3.99s/it]\n"
          ]
        },
        {
          "name": "stdout",
          "output_type": "stream",
          "text": [
            "G:11 ->  Eval: 0.72  Gene: [0, 1, 1, 1, 1, 1, 0, 0, 1, 0, 0, 1]\n",
            "Generation 12\n"
          ]
        },
        {
          "name": "stderr",
          "output_type": "stream",
          "text": [
            "100%|██████████| 20/20 [01:15<00:00,  3.79s/it]\n"
          ]
        },
        {
          "name": "stdout",
          "output_type": "stream",
          "text": [
            "G:12 ->  Eval: 0.72  Gene: [1, 1, 1, 1, 1, 1, 0, 0, 1, 0, 0, 1]\n",
            "Generation 13\n"
          ]
        },
        {
          "name": "stderr",
          "output_type": "stream",
          "text": [
            "100%|██████████| 20/20 [01:15<00:00,  3.79s/it]\n"
          ]
        },
        {
          "name": "stdout",
          "output_type": "stream",
          "text": [
            "G:13 ->  Eval: 0.72  Gene: [1, 1, 0, 1, 1, 0, 0, 0, 1, 0, 0, 1]\n",
            "Generation 14\n"
          ]
        },
        {
          "name": "stderr",
          "output_type": "stream",
          "text": [
            "100%|██████████| 20/20 [01:18<00:00,  3.92s/it]\n"
          ]
        },
        {
          "name": "stdout",
          "output_type": "stream",
          "text": [
            "G:14 ->  Eval: 0.72  Gene: [0, 1, 0, 1, 0, 1, 0, 1, 0, 1, 0, 1]\n",
            "Generation 15\n"
          ]
        },
        {
          "name": "stderr",
          "output_type": "stream",
          "text": [
            "100%|██████████| 20/20 [01:26<00:00,  4.31s/it]\n"
          ]
        },
        {
          "name": "stdout",
          "output_type": "stream",
          "text": [
            "G:15 ->  Eval: 0.73  Gene: [1, 0, 0, 1, 0, 1, 1, 1, 0, 0, 1, 1]\n",
            "Generation 16\n"
          ]
        },
        {
          "name": "stderr",
          "output_type": "stream",
          "text": [
            "100%|██████████| 20/20 [01:20<00:00,  4.05s/it]\n"
          ]
        },
        {
          "name": "stdout",
          "output_type": "stream",
          "text": [
            "G:16 ->  Eval: 0.73  Gene: [0, 1, 1, 1, 1, 1, 0, 0, 1, 0, 0, 1]\n",
            "Generation 17\n"
          ]
        },
        {
          "name": "stderr",
          "output_type": "stream",
          "text": [
            "100%|██████████| 20/20 [01:19<00:00,  3.99s/it]\n"
          ]
        },
        {
          "name": "stdout",
          "output_type": "stream",
          "text": [
            "G:17 ->  Eval: 0.73  Gene: [0, 1, 1, 1, 1, 0, 0, 1, 1, 0, 1, 1]\n",
            "Generation 18\n"
          ]
        },
        {
          "name": "stderr",
          "output_type": "stream",
          "text": [
            "100%|██████████| 20/20 [01:20<00:00,  4.05s/it]\n"
          ]
        },
        {
          "name": "stdout",
          "output_type": "stream",
          "text": [
            "G:18 ->  Eval: 0.71  Gene: [0, 0, 0, 1, 0, 1, 1, 1, 1, 0, 1, 1]\n",
            "Generation 19\n"
          ]
        },
        {
          "name": "stderr",
          "output_type": "stream",
          "text": [
            "100%|██████████| 20/20 [01:18<00:00,  3.93s/it]\n"
          ]
        },
        {
          "name": "stdout",
          "output_type": "stream",
          "text": [
            "G:19 ->  Eval: 0.72  Gene: [0, 0, 0, 0, 0, 1, 0, 0, 1, 0, 1, 0]\n",
            "Generation 20\n"
          ]
        },
        {
          "name": "stderr",
          "output_type": "stream",
          "text": [
            "100%|██████████| 20/20 [01:24<00:00,  4.23s/it]"
          ]
        },
        {
          "name": "stdout",
          "output_type": "stream",
          "text": [
            "G:20 ->  Eval: 0.71  Gene: [1, 1, 0, 1, 1, 1, 1, 1, 1, 0, 0, 0]\n",
            "Best Solution -> G:0 ->  Eval: 0.74  Gene: [0, 1, 1, 1, 1, 1, 1, 0, 0, 0, 1, 1]\n"
          ]
        },
        {
          "name": "stderr",
          "output_type": "stream",
          "text": [
            "\n"
          ]
        },
        {
          "data": {
            "text/plain": [
              "Generation: 0\n",
              "Gene: [0, 1, 1, 1, 1, 1, 1, 0, 0, 0, 1, 1]\n",
              "4 camadas com 16 neurons\n",
              "1 camadas com 4 neurons"
            ]
          },
          "execution_count": 27,
          "metadata": {},
          "output_type": "execute_result"
        }
      ],
      "source": [
        "ga4 = GeneticAlgorithm(20, X_train, X_test, y_train, y_test)\n",
        "result4 = ga4.solve(generations=20)\n",
        "result4"
      ]
    },
    {
      "cell_type": "code",
      "execution_count": null,
      "metadata": {
        "id": "c7RBpHnok5Br",
        "outputId": "8bd67700-3d6c-4d64-9914-0ac697559677"
      },
      "outputs": [
        {
          "ename": "NameError",
          "evalue": "name 'ga4' is not defined",
          "output_type": "error",
          "traceback": [
            "\u001b[1;31m---------------------------------------------------------------------------\u001b[0m",
            "\u001b[1;31mNameError\u001b[0m                                 Traceback (most recent call last)",
            "\u001b[1;32md:\\Desktop\\Computação\\TCC\\repo\\multiobjective\\notebooks\\geneticalgorithm.ipynb Cell 14\u001b[0m line \u001b[0;36m3\n\u001b[0;32m      <a href='vscode-notebook-cell:/d%3A/Desktop/Computa%C3%A7%C3%A3o/TCC/repo/multiobjective/notebooks/geneticalgorithm.ipynb#X16sZmlsZQ%3D%3D?line=0'>1</a>\u001b[0m loss \u001b[39m=\u001b[39m []\n\u001b[0;32m      <a href='vscode-notebook-cell:/d%3A/Desktop/Computa%C3%A7%C3%A3o/TCC/repo/multiobjective/notebooks/geneticalgorithm.ipynb#X16sZmlsZQ%3D%3D?line=1'>2</a>\u001b[0m acc \u001b[39m=\u001b[39m []\n\u001b[1;32m----> <a href='vscode-notebook-cell:/d%3A/Desktop/Computa%C3%A7%C3%A3o/TCC/repo/multiobjective/notebooks/geneticalgorithm.ipynb#X16sZmlsZQ%3D%3D?line=2'>3</a>\u001b[0m \u001b[39mfor\u001b[39;00m individual \u001b[39min\u001b[39;00m ga4\u001b[39m.\u001b[39mpareto_frontier:\n\u001b[0;32m      <a href='vscode-notebook-cell:/d%3A/Desktop/Computa%C3%A7%C3%A3o/TCC/repo/multiobjective/notebooks/geneticalgorithm.ipynb#X16sZmlsZQ%3D%3D?line=3'>4</a>\u001b[0m     loss\u001b[39m.\u001b[39mappend(individual\u001b[39m.\u001b[39mloss)\n\u001b[0;32m      <a href='vscode-notebook-cell:/d%3A/Desktop/Computa%C3%A7%C3%A3o/TCC/repo/multiobjective/notebooks/geneticalgorithm.ipynb#X16sZmlsZQ%3D%3D?line=4'>5</a>\u001b[0m     acc\u001b[39m.\u001b[39mappend(\u001b[39m-\u001b[39mindividual\u001b[39m.\u001b[39meval)\n",
            "\u001b[1;31mNameError\u001b[0m: name 'ga4' is not defined"
          ]
        }
      ],
      "source": [
        "loss = []\n",
        "acc = []\n",
        "for individual in ga4.pareto_frontier:\n",
        "    loss.append(individual.loss)\n",
        "    acc.append(-individual.eval)\n",
        "plt.plot(acc, loss, marker=\"*\", linestyle=\"None\")"
      ]
    },
    {
      "cell_type": "code",
      "execution_count": null,
      "metadata": {
        "id": "NbU92VhAk5Bs",
        "outputId": "68d5a0a9-633a-49e2-8049-b4bb111e6bd8"
      },
      "outputs": [
        {
          "name": "stdout",
          "output_type": "stream",
          "text": [
            "Generation 0\n"
          ]
        },
        {
          "name": "stderr",
          "output_type": "stream",
          "text": [
            "100%|██████████| 25/25 [01:29<00:00,  3.60s/it]\n"
          ]
        },
        {
          "name": "stdout",
          "output_type": "stream",
          "text": [
            "G:0 ->  Eval: 0.73  Gene: [1, 0, 0, 1, 0, 1, 0, 1, 1, 1, 1, 1]\n",
            "Generation 1\n"
          ]
        },
        {
          "name": "stderr",
          "output_type": "stream",
          "text": [
            "100%|██████████| 26/26 [01:37<00:00,  3.76s/it]\n"
          ]
        },
        {
          "name": "stdout",
          "output_type": "stream",
          "text": [
            "G:1 ->  Eval: 0.72  Gene: [1, 1, 0, 1, 0, 0, 0, 0, 0, 1, 1, 1]\n",
            "Generation 2\n"
          ]
        },
        {
          "name": "stderr",
          "output_type": "stream",
          "text": [
            "100%|██████████| 26/26 [01:39<00:00,  3.84s/it]\n"
          ]
        },
        {
          "name": "stdout",
          "output_type": "stream",
          "text": [
            "G:2 ->  Eval: 0.73  Gene: [1, 1, 0, 1, 0, 1, 0, 1, 0, 0, 1, 1]\n",
            "Generation 3\n"
          ]
        },
        {
          "name": "stderr",
          "output_type": "stream",
          "text": [
            "100%|██████████| 26/26 [01:36<00:00,  3.72s/it]\n"
          ]
        },
        {
          "name": "stdout",
          "output_type": "stream",
          "text": [
            "G:3 ->  Eval: 0.74  Gene: [1, 1, 1, 1, 0, 0, 0, 0, 0, 0, 0, 1]\n",
            "Generation 4\n"
          ]
        },
        {
          "name": "stderr",
          "output_type": "stream",
          "text": [
            "100%|██████████| 26/26 [01:38<00:00,  3.79s/it]\n"
          ]
        },
        {
          "name": "stdout",
          "output_type": "stream",
          "text": [
            "G:4 ->  Eval: 0.71  Gene: [0, 0, 1, 0, 1, 0, 0, 1, 1, 0, 1, 1]\n",
            "Generation 5\n"
          ]
        },
        {
          "name": "stderr",
          "output_type": "stream",
          "text": [
            "100%|██████████| 26/26 [01:36<00:00,  3.72s/it]\n"
          ]
        },
        {
          "name": "stdout",
          "output_type": "stream",
          "text": [
            "G:5 ->  Eval: 0.72  Gene: [0, 0, 1, 0, 1, 0, 1, 0, 1, 0, 1, 0]\n",
            "Generation 6\n"
          ]
        },
        {
          "name": "stderr",
          "output_type": "stream",
          "text": [
            "100%|██████████| 26/26 [01:34<00:00,  3.65s/it]\n"
          ]
        },
        {
          "name": "stdout",
          "output_type": "stream",
          "text": [
            "G:6 ->  Eval: 0.72  Gene: [0, 0, 1, 1, 1, 1, 0, 0, 1, 0, 1, 0]\n",
            "Generation 7\n"
          ]
        },
        {
          "name": "stderr",
          "output_type": "stream",
          "text": [
            "100%|██████████| 26/26 [01:33<00:00,  3.61s/it]\n"
          ]
        },
        {
          "name": "stdout",
          "output_type": "stream",
          "text": [
            "G:7 ->  Eval: 0.72  Gene: [1, 0, 1, 1, 1, 1, 0, 1, 0, 1, 0, 0]\n",
            "Generation 8\n"
          ]
        },
        {
          "name": "stderr",
          "output_type": "stream",
          "text": [
            "100%|██████████| 26/26 [01:38<00:00,  3.78s/it]\n"
          ]
        },
        {
          "name": "stdout",
          "output_type": "stream",
          "text": [
            "G:8 ->  Eval: 0.72  Gene: [1, 0, 1, 1, 1, 1, 0, 1, 1, 1, 0, 0]\n",
            "Generation 9\n"
          ]
        },
        {
          "name": "stderr",
          "output_type": "stream",
          "text": [
            "100%|██████████| 26/26 [01:38<00:00,  3.77s/it]\n"
          ]
        },
        {
          "name": "stdout",
          "output_type": "stream",
          "text": [
            "G:9 ->  Eval: 0.72  Gene: [1, 1, 1, 1, 1, 1, 1, 1, 1, 1, 0, 1]\n",
            "Generation 10\n"
          ]
        },
        {
          "name": "stderr",
          "output_type": "stream",
          "text": [
            "100%|██████████| 26/26 [01:30<00:00,  3.50s/it]\n"
          ]
        },
        {
          "name": "stdout",
          "output_type": "stream",
          "text": [
            "G:10 ->  Eval: 0.72  Gene: [1, 0, 0, 1, 0, 0, 0, 1, 1, 1, 1, 0]\n",
            "Generation 11\n"
          ]
        },
        {
          "name": "stderr",
          "output_type": "stream",
          "text": [
            "100%|██████████| 26/26 [01:38<00:00,  3.79s/it]\n"
          ]
        },
        {
          "name": "stdout",
          "output_type": "stream",
          "text": [
            "G:11 ->  Eval: 0.72  Gene: [0, 1, 0, 0, 1, 1, 1, 0, 1, 0, 1, 0]\n",
            "Generation 12\n"
          ]
        },
        {
          "name": "stderr",
          "output_type": "stream",
          "text": [
            "100%|██████████| 26/26 [01:32<00:00,  3.55s/it]\n"
          ]
        },
        {
          "name": "stdout",
          "output_type": "stream",
          "text": [
            "G:12 ->  Eval: 0.72  Gene: [0, 1, 1, 0, 1, 0, 1, 1, 1, 1, 1, 0]\n",
            "Generation 13\n"
          ]
        },
        {
          "name": "stderr",
          "output_type": "stream",
          "text": [
            "100%|██████████| 26/26 [01:36<00:00,  3.70s/it]\n"
          ]
        },
        {
          "name": "stdout",
          "output_type": "stream",
          "text": [
            "G:13 ->  Eval: 0.74  Gene: [0, 1, 1, 1, 1, 0, 0, 0, 0, 1, 1, 1]\n",
            "Generation 14\n"
          ]
        },
        {
          "name": "stderr",
          "output_type": "stream",
          "text": [
            "100%|██████████| 26/26 [01:38<00:00,  3.79s/it]\n"
          ]
        },
        {
          "name": "stdout",
          "output_type": "stream",
          "text": [
            "G:14 ->  Eval: 0.73  Gene: [1, 0, 1, 1, 1, 0, 1, 1, 0, 1, 1, 1]\n",
            "Generation 15\n"
          ]
        },
        {
          "name": "stderr",
          "output_type": "stream",
          "text": [
            "100%|██████████| 26/26 [01:37<00:00,  3.75s/it]\n"
          ]
        },
        {
          "name": "stdout",
          "output_type": "stream",
          "text": [
            "G:15 ->  Eval: 0.72  Gene: [1, 0, 1, 1, 1, 0, 0, 1, 1, 0, 1, 1]\n",
            "Generation 16\n"
          ]
        },
        {
          "name": "stderr",
          "output_type": "stream",
          "text": [
            "100%|██████████| 26/26 [01:31<00:00,  3.51s/it]\n"
          ]
        },
        {
          "name": "stdout",
          "output_type": "stream",
          "text": [
            "G:16 ->  Eval: 0.73  Gene: [0, 0, 1, 1, 0, 0, 1, 0, 0, 0, 1, 0]\n",
            "Generation 17\n"
          ]
        },
        {
          "name": "stderr",
          "output_type": "stream",
          "text": [
            "100%|██████████| 26/26 [01:30<00:00,  3.49s/it]\n"
          ]
        },
        {
          "name": "stdout",
          "output_type": "stream",
          "text": [
            "G:17 ->  Eval: 0.71  Gene: [0, 0, 1, 0, 1, 1, 0, 1, 0, 0, 1, 0]\n",
            "Generation 18\n"
          ]
        },
        {
          "name": "stderr",
          "output_type": "stream",
          "text": [
            "100%|██████████| 26/26 [01:27<00:00,  3.38s/it]\n"
          ]
        },
        {
          "name": "stdout",
          "output_type": "stream",
          "text": [
            "G:18 ->  Eval: 0.72  Gene: [0, 0, 1, 1, 1, 1, 0, 0, 0, 0, 1, 0]\n",
            "Generation 19\n"
          ]
        },
        {
          "name": "stderr",
          "output_type": "stream",
          "text": [
            "100%|██████████| 26/26 [01:23<00:00,  3.22s/it]\n"
          ]
        },
        {
          "name": "stdout",
          "output_type": "stream",
          "text": [
            "G:19 ->  Eval: 0.73  Gene: [1, 0, 1, 1, 1, 1, 1, 1, 0, 1, 1, 1]\n",
            "Generation 20\n"
          ]
        },
        {
          "name": "stderr",
          "output_type": "stream",
          "text": [
            "100%|██████████| 26/26 [01:28<00:00,  3.41s/it]\n"
          ]
        },
        {
          "name": "stdout",
          "output_type": "stream",
          "text": [
            "G:20 ->  Eval: 0.74  Gene: [0, 0, 1, 1, 1, 1, 1, 0, 0, 0, 1, 1]\n",
            "Generation 21\n"
          ]
        },
        {
          "name": "stderr",
          "output_type": "stream",
          "text": [
            "100%|██████████| 26/26 [01:24<00:00,  3.26s/it]\n"
          ]
        },
        {
          "name": "stdout",
          "output_type": "stream",
          "text": [
            "G:21 ->  Eval: 0.72  Gene: [0, 0, 1, 1, 1, 0, 1, 0, 0, 0, 1, 1]\n",
            "Generation 22\n"
          ]
        },
        {
          "name": "stderr",
          "output_type": "stream",
          "text": [
            "100%|██████████| 26/26 [01:26<00:00,  3.33s/it]\n"
          ]
        },
        {
          "name": "stdout",
          "output_type": "stream",
          "text": [
            "G:22 ->  Eval: 0.75  Gene: [1, 0, 0, 1, 1, 0, 1, 0, 0, 0, 1, 1]\n",
            "Generation 23\n"
          ]
        },
        {
          "name": "stderr",
          "output_type": "stream",
          "text": [
            "100%|██████████| 26/26 [01:22<00:00,  3.18s/it]\n"
          ]
        },
        {
          "name": "stdout",
          "output_type": "stream",
          "text": [
            "G:23 ->  Eval: 0.73  Gene: [0, 0, 1, 1, 1, 0, 1, 0, 0, 0, 1, 1]\n",
            "Generation 24\n"
          ]
        },
        {
          "name": "stderr",
          "output_type": "stream",
          "text": [
            "100%|██████████| 26/26 [01:23<00:00,  3.22s/it]\n"
          ]
        },
        {
          "name": "stdout",
          "output_type": "stream",
          "text": [
            "G:24 ->  Eval: 0.73  Gene: [0, 0, 1, 1, 1, 1, 1, 0, 0, 0, 1, 1]\n",
            "Generation 25\n"
          ]
        },
        {
          "name": "stderr",
          "output_type": "stream",
          "text": [
            "100%|██████████| 26/26 [01:33<00:00,  3.58s/it]\n"
          ]
        },
        {
          "name": "stdout",
          "output_type": "stream",
          "text": [
            "G:25 ->  Eval: 0.72  Gene: [0, 1, 0, 1, 1, 1, 1, 1, 1, 1, 1, 0]\n",
            "Generation 26\n"
          ]
        },
        {
          "name": "stderr",
          "output_type": "stream",
          "text": [
            "100%|██████████| 26/26 [01:25<00:00,  3.30s/it]\n"
          ]
        },
        {
          "name": "stdout",
          "output_type": "stream",
          "text": [
            "G:26 ->  Eval: 0.72  Gene: [0, 0, 0, 0, 1, 1, 1, 1, 1, 1, 1, 0]\n",
            "Generation 27\n"
          ]
        },
        {
          "name": "stderr",
          "output_type": "stream",
          "text": [
            "100%|██████████| 26/26 [01:27<00:00,  3.36s/it]\n"
          ]
        },
        {
          "name": "stdout",
          "output_type": "stream",
          "text": [
            "G:27 ->  Eval: 0.72  Gene: [1, 0, 1, 1, 0, 1, 1, 1, 0, 1, 1, 1]\n",
            "Generation 28\n"
          ]
        },
        {
          "name": "stderr",
          "output_type": "stream",
          "text": [
            "100%|██████████| 26/26 [01:28<00:00,  3.41s/it]\n"
          ]
        },
        {
          "name": "stdout",
          "output_type": "stream",
          "text": [
            "G:28 ->  Eval: 0.71  Gene: [1, 0, 0, 0, 1, 1, 1, 1, 0, 1, 1, 0]\n",
            "Generation 29\n"
          ]
        },
        {
          "name": "stderr",
          "output_type": "stream",
          "text": [
            "100%|██████████| 26/26 [01:25<00:00,  3.27s/it]\n"
          ]
        },
        {
          "name": "stdout",
          "output_type": "stream",
          "text": [
            "G:29 ->  Eval: 0.73  Gene: [0, 0, 1, 1, 1, 1, 1, 1, 1, 1, 0, 0]\n",
            "Generation 30\n"
          ]
        },
        {
          "name": "stderr",
          "output_type": "stream",
          "text": [
            "100%|██████████| 26/26 [01:27<00:00,  3.35s/it]"
          ]
        },
        {
          "name": "stdout",
          "output_type": "stream",
          "text": [
            "G:30 ->  Eval: 0.73  Gene: [1, 0, 1, 1, 1, 1, 1, 0, 1, 1, 1, 0]\n",
            "Best Solution -> G:22 ->  Eval: 0.747  Gene: [1, 0, 0, 1, 1, 0, 1, 0, 0, 0, 1, 1]\n"
          ]
        },
        {
          "name": "stderr",
          "output_type": "stream",
          "text": [
            "\n"
          ]
        },
        {
          "data": {
            "text/plain": [
              "Generation: 22\n",
              "Gene: [1, 0, 0, 1, 1, 0, 1, 0, 0, 0, 1, 1]\n",
              "5 camadas com 14 neurons\n",
              "1 camadas com 4 neurons"
            ]
          },
          "execution_count": 5,
          "metadata": {},
          "output_type": "execute_result"
        }
      ],
      "source": [
        "ga5 = GeneticAlgorithm(25, X_train, X_test, y_train, y_test)\n",
        "result5 = ga5.solve(generations=30)\n",
        "result5"
      ]
    },
    {
      "cell_type": "code",
      "execution_count": null,
      "metadata": {
        "id": "eGvFYAzxk5Bs",
        "outputId": "022e166c-46ab-4044-e62b-92cb595983ca"
      },
      "outputs": [
        {
          "data": {
            "text/plain": [
              "[<matplotlib.lines.Line2D at 0x19e42778070>]"
            ]
          },
          "execution_count": 7,
          "metadata": {},
          "output_type": "execute_result"
        },
        {
          "data": {
            "image/png": "[encoded data removed]",
            "text/plain": [
              "<Figure size 640x480 with 1 Axes>"
            ]
          },
          "metadata": {},
          "output_type": "display_data"
        }
      ],
      "source": [
        "loss = []\n",
        "acc = []\n",
        "for individual in ga5.pareto_frontier:\n",
        "    loss.append(individual.loss)\n",
        "    acc.append(-individual.eval)\n",
        "plt.plot(acc, loss, marker=\"*\", linestyle=\"None\")"
      ]
    },
    {
      "cell_type": "code",
      "execution_count": null,
      "metadata": {
        "id": "09SMkB34k5Bs"
      },
      "outputs": [],
      "source": [
        "class GeneticAlgorithm:\n",
        "    def __init__(self, population_size: int, X_train, X_test, y_train, y_test) -> None:\n",
        "        self.population_size = population_size\n",
        "        self.population = []\n",
        "        self.generation = 0\n",
        "        self.eval_sum = 0\n",
        "        self.best_solution = 0\n",
        "        self.solution_list = []\n",
        "        self.X_train = X_train\n",
        "        self.X_test = X_test\n",
        "        self.y_train = y_train\n",
        "        self.y_test = y_test\n",
        "        self.pareto = []\n",
        "\n",
        "    def init_population(self) -> None:\n",
        "        for _ in range(self.population_size):\n",
        "            self.population.append(Individual())\n",
        "        self.best_solution = self.population[0]\n",
        "\n",
        "    def sort_population(self) -> None:\n",
        "        self.population = sorted(self.population, key=lambda individual: individual.eval, reverse=True)\n",
        "\n",
        "    def best_individual(self, individual: Individual) -> None:\n",
        "        if individual.eval > self.best_solution.eval:\n",
        "            self.best_solution = individual\n",
        "\n",
        "    def sum_eval(self) -> float:\n",
        "        sum = 0\n",
        "        for individual in self.population:\n",
        "            sum += individual.eval\n",
        "        return sum\n",
        "\n",
        "    def select_parent(self, sum_eval:float) -> int:\n",
        "        parent = -1\n",
        "        value = np.random.rand() * sum_eval\n",
        "        sum = 0\n",
        "        i = 0\n",
        "        while i < len(self.population) and sum < value:\n",
        "            sum += self.population[i].eval\n",
        "            parent += 1\n",
        "            i += 1\n",
        "        return parent\n",
        "\n",
        "    def visualize_generation(self) -> None:\n",
        "        best = self.population[0]\n",
        "        print(f\"G:{self.population[0].generation} -> \",\n",
        "              f\"Eval: {round(best.eval, 2)}\",\n",
        "              f\" Gene: {best.gene}\")\n",
        "\n",
        "    def solve(self, mutation_rate=0.05, generations=0) -> list[int]:\n",
        "        self.init_population()\n",
        "\n",
        "        print(\"Generation 0\")\n",
        "\n",
        "        for i in tqdm(range(len(self.population))):\n",
        "            self.population[i]._evaluate(self.X_train, self.X_test, self.y_train, self.y_test)\n",
        "\n",
        "        self.sort_population()\n",
        "\n",
        "        self.best_solution = self.population[0]\n",
        "        self.solution_list.append(self.best_solution.eval)\n",
        "\n",
        "        self.visualize_generation()\n",
        "\n",
        "        for i in range(generations):\n",
        "            print(f\"Generation {i + 1}\")\n",
        "            eval_sum = self.sum_eval()\n",
        "            new_population = []\n",
        "\n",
        "            pareto = []\n",
        "            for individual in self.population:\n",
        "                frontier = not any((individual.loss > other_individual.loss and individual.eval < other_individual.eval) for other_individual in self.population)\n",
        "\n",
        "                if frontier:\n",
        "                    pareto.append(individual)\n",
        "            self.pareto.append(pareto)\n",
        "\n",
        "            for _ in range(0, self.population_size, 2):\n",
        "                parent1 = self.select_parent(eval_sum)\n",
        "                parent2 = self.select_parent(eval_sum)\n",
        "\n",
        "                children = self.population[parent1].crossover(self.population[parent2])\n",
        "\n",
        "                new_population.append(children[0].mutation(mutation_rate))\n",
        "                new_population.append(children[1].mutation(mutation_rate))\n",
        "\n",
        "            self.population = list(new_population)\n",
        "\n",
        "            for i in tqdm(range(len(self.population))):\n",
        "                self.population[i]._evaluate(self.X_train, self.X_test, self.y_train, self.y_test)\n",
        "\n",
        "            self.sort_population()\n",
        "            self.visualize_generation()\n",
        "\n",
        "            self.solution_list.append(self.population[0].eval)\n",
        "\n",
        "            self.best_individual(self.population[0])\n",
        "\n",
        "        self.pareto = [item for row in self.pareto for item in row]\n",
        "\n",
        "        self.pareto_frontier = []\n",
        "        for individual in self.pareto:\n",
        "            frontier = not any((individual.loss > other_individual.loss and individual.eval < other_individual.eval) for other_individual in self.pareto)\n",
        "\n",
        "            if frontier:\n",
        "                self.pareto_frontier.append(individual)\n",
        "\n",
        "        print(f\"Best Solution -> G:{self.best_solution.generation} -> \",\n",
        "              f\"Eval: {round(self.best_solution.eval, 3)}\",\n",
        "              f\" Gene: {self.best_solution.gene}\")\n",
        "\n",
        "        return self.best_solution"
      ]
    },
    {
      "cell_type": "code",
      "execution_count": null,
      "metadata": {
        "id": "lLbK5iK4k5Bs",
        "outputId": "6fe28abd-81fe-4e8b-f5ae-b57705cee838"
      },
      "outputs": [
        {
          "name": "stdout",
          "output_type": "stream",
          "text": [
            "Generation 0\n"
          ]
        },
        {
          "name": "stderr",
          "output_type": "stream",
          "text": [
            "100%|██████████| 6/6 [00:20<00:00,  3.37s/it]\n"
          ]
        },
        {
          "name": "stdout",
          "output_type": "stream",
          "text": [
            "G:0 ->  Eval: 0.71  Gene: [0, 0, 0, 0, 0, 0, 0, 0, 0, 1, 1, 0]\n",
            "Generation 1\n"
          ]
        },
        {
          "name": "stderr",
          "output_type": "stream",
          "text": [
            "100%|██████████| 6/6 [00:18<00:00,  3.06s/it]\n"
          ]
        },
        {
          "name": "stdout",
          "output_type": "stream",
          "text": [
            "G:1 ->  Eval: 0.72  Gene: [0, 0, 0, 0, 1, 0, 0, 0, 0, 0, 1, 1]\n",
            "Generation 2\n"
          ]
        },
        {
          "name": "stderr",
          "output_type": "stream",
          "text": [
            "100%|██████████| 6/6 [00:17<00:00,  2.84s/it]\n"
          ]
        },
        {
          "name": "stdout",
          "output_type": "stream",
          "text": [
            "G:2 ->  Eval: 0.71  Gene: [0, 1, 0, 0, 1, 0, 0, 0, 0, 0, 1, 1]\n",
            "Generation 3\n"
          ]
        },
        {
          "name": "stderr",
          "output_type": "stream",
          "text": [
            "100%|██████████| 6/6 [00:19<00:00,  3.22s/it]\n"
          ]
        },
        {
          "name": "stdout",
          "output_type": "stream",
          "text": [
            "G:3 ->  Eval: 0.72  Gene: [0, 0, 1, 1, 0, 1, 0, 0, 0, 1, 0, 1]\n",
            "Generation 4\n"
          ]
        },
        {
          "name": "stderr",
          "output_type": "stream",
          "text": [
            "100%|██████████| 6/6 [00:18<00:00,  3.07s/it]\n"
          ]
        },
        {
          "name": "stdout",
          "output_type": "stream",
          "text": [
            "G:4 ->  Eval: 0.74  Gene: [0, 0, 1, 1, 0, 1, 0, 0, 0, 0, 1, 0]\n",
            "Generation 5\n"
          ]
        },
        {
          "name": "stderr",
          "output_type": "stream",
          "text": [
            "100%|██████████| 6/6 [00:18<00:00,  3.07s/it]\n"
          ]
        },
        {
          "name": "stdout",
          "output_type": "stream",
          "text": [
            "G:5 ->  Eval: 0.72  Gene: [0, 0, 1, 1, 0, 1, 0, 0, 0, 0, 1, 0]\n",
            "Generation 6\n"
          ]
        },
        {
          "name": "stderr",
          "output_type": "stream",
          "text": [
            "100%|██████████| 6/6 [00:19<00:00,  3.23s/it]"
          ]
        },
        {
          "name": "stdout",
          "output_type": "stream",
          "text": [
            "G:6 ->  Eval: 0.71  Gene: [0, 0, 1, 0, 0, 1, 1, 0, 0, 1, 0, 0]\n",
            "Best Solution -> G:4 ->  Eval: 0.737  Gene: [0, 0, 1, 1, 0, 1, 0, 0, 0, 0, 1, 0]\n"
          ]
        },
        {
          "name": "stderr",
          "output_type": "stream",
          "text": [
            "\n"
          ]
        },
        {
          "data": {
            "text/plain": [
              "Generation: 4\n",
              "Gene: [0, 0, 1, 1, 0, 1, 0, 0, 0, 0, 1, 0]\n",
              "2 camadas com 11 neurons\n",
              "1 camadas com 3 neurons"
            ]
          },
          "execution_count": 9,
          "metadata": {},
          "output_type": "execute_result"
        }
      ],
      "source": [
        "ga6 = GeneticAlgorithm(6, X_train, X_test, y_train, y_test)\n",
        "result6 = ga6.solve(generations=6)\n",
        "result6"
      ]
    },
    {
      "cell_type": "code",
      "execution_count": null,
      "metadata": {
        "id": "RXaY7-Vxk5Bs"
      },
      "outputs": [],
      "source": [
        "class GeneticAlgorithm:\n",
        "    def __init__(self, population_size: int, X_train, X_test, y_train, y_test) -> None:\n",
        "        self.population_size = population_size\n",
        "        self.population = []\n",
        "        self.generation = 0\n",
        "        self.eval_sum = 0\n",
        "        self.best_solution = 0\n",
        "        self.solution_list = []\n",
        "        self.X_train = X_train\n",
        "        self.X_test = X_test\n",
        "        self.y_train = y_train\n",
        "        self.y_test = y_test\n",
        "        self.pareto = []\n",
        "        self.frontier = []\n",
        "\n",
        "    def init_population(self) -> None:\n",
        "        for _ in range(self.population_size):\n",
        "            self.population.append(Individual())\n",
        "        self.best_solution = self.population[0]\n",
        "\n",
        "    def sort_population(self) -> None:\n",
        "        self.population = sorted(self.population, key=lambda individual: individual.eval, reverse=True)\n",
        "\n",
        "    def best_individual(self, individual: Individual) -> None:\n",
        "        if individual.eval > self.best_solution.eval:\n",
        "            self.best_solution = individual\n",
        "\n",
        "    def sum_eval(self) -> float:\n",
        "        sum = 0\n",
        "        for individual in self.population:\n",
        "            sum += individual.eval\n",
        "        return sum\n",
        "\n",
        "    def select_parent(self, size:int) -> int:\n",
        "        return np.random.randint(size)\n",
        "\n",
        "    def visualize_generation(self) -> None:\n",
        "        best = self.population[0]\n",
        "        print(f\"G:{self.population[0].generation} -> \",\n",
        "              f\"Eval: {round(best.eval, 2)}\",\n",
        "              f\" Gene: {best.gene}\")\n",
        "\n",
        "    def solve(self, mutation_rate=0.05, generations=0) -> list[int]:\n",
        "        self.init_population()\n",
        "\n",
        "        print(\"Generation 0\")\n",
        "\n",
        "        for i in tqdm(range(len(self.population))):\n",
        "            self.population[i]._evaluate(self.X_train, self.X_test, self.y_train, self.y_test)\n",
        "\n",
        "\n",
        "        for i in range(generations):\n",
        "            for individual in self.population:\n",
        "                frontier = not any((individual.loss > other_individual.loss and individual.eval < other_individual.eval) for other_individual in self.population)\n",
        "\n",
        "                if frontier:\n",
        "                    self.pareto.append(individual)\n",
        "            self.frontier.append(self.pareto)\n",
        "            new_population = []\n",
        "            match len(self.pareto):\n",
        "                case 0:\n",
        "                    for _ in range(0, self.population_size, 2):\n",
        "                        parent1 = self.select_parent(self.population_size)\n",
        "                        parent2 = self.select_parent(self.population_size)\n",
        "\n",
        "                        children = self.population[parent1].crossover(self.population[parent2])\n",
        "\n",
        "                        new_population.append(children[0].mutation(mutation_rate))\n",
        "                        new_population.append(children[1].mutation(mutation_rate))\n",
        "                case 1:\n",
        "                    for _ in range(0, self.population_size, 2):\n",
        "                        parent1 = self.select_parent(len(self.pareto))\n",
        "                        parent2 = self.select_parent(self.population_size)\n",
        "\n",
        "                        children = self.pareto[parent1].crossover(self.population[parent2])\n",
        "\n",
        "                        new_population.append(children[0].mutation(mutation_rate))\n",
        "                        new_population.append(children[1].mutation(mutation_rate))\n",
        "                case _:\n",
        "                    for _ in range(0, self.population_size, 2):\n",
        "                        parent1 = self.select_parent(len(self.pareto))\n",
        "                        parent2 = self.select_parent(len(self.pareto))\n",
        "\n",
        "                        children = self.pareto[parent1].crossover(self.pareto[parent2])\n",
        "\n",
        "                        new_population.append(children[0].mutation(mutation_rate))\n",
        "                        new_population.append(children[1].mutation(mutation_rate))\n",
        "\n",
        "            print(f\"Generation {i + 1}\")\n",
        "\n",
        "            self.population = list(new_population)\n",
        "\n",
        "            for i in tqdm(range(len(self.population))):\n",
        "                self.population[i]._evaluate(self.X_train, self.X_test, self.y_train, self.y_test)\n",
        "\n",
        "        self.frontier = [item for row in self.frontier for item in row]\n",
        "\n",
        "        self.pareto_frontier = []\n",
        "        for individual in self.frontier:\n",
        "            frontier = not any((individual.loss > other_individual.loss and individual.eval < other_individual.eval) for other_individual in self.frontier)\n",
        "\n",
        "            if frontier:\n",
        "                self.pareto_frontier.append(individual)"
      ]
    },
    {
      "cell_type": "code",
      "execution_count": null,
      "metadata": {
        "id": "w2jmK2o9k5Bt",
        "outputId": "9050267f-4344-4090-c07d-22844e7a3511"
      },
      "outputs": [
        {
          "name": "stdout",
          "output_type": "stream",
          "text": [
            "Generation 0\n"
          ]
        },
        {
          "name": "stderr",
          "output_type": "stream",
          "text": [
            "100%|██████████| 10/10 [00:33<00:00,  3.36s/it]\n"
          ]
        },
        {
          "name": "stdout",
          "output_type": "stream",
          "text": [
            "Generation 1\n"
          ]
        },
        {
          "name": "stderr",
          "output_type": "stream",
          "text": [
            "100%|██████████| 10/10 [00:31<00:00,  3.16s/it]\n"
          ]
        },
        {
          "name": "stdout",
          "output_type": "stream",
          "text": [
            "Generation 2\n"
          ]
        },
        {
          "name": "stderr",
          "output_type": "stream",
          "text": [
            "100%|██████████| 10/10 [00:32<00:00,  3.20s/it]\n"
          ]
        },
        {
          "name": "stdout",
          "output_type": "stream",
          "text": [
            "Generation 3\n"
          ]
        },
        {
          "name": "stderr",
          "output_type": "stream",
          "text": [
            "100%|██████████| 10/10 [00:32<00:00,  3.29s/it]\n"
          ]
        },
        {
          "name": "stdout",
          "output_type": "stream",
          "text": [
            "Generation 4\n"
          ]
        },
        {
          "name": "stderr",
          "output_type": "stream",
          "text": [
            "100%|██████████| 10/10 [00:37<00:00,  3.76s/it]\n"
          ]
        },
        {
          "name": "stdout",
          "output_type": "stream",
          "text": [
            "Generation 5\n"
          ]
        },
        {
          "name": "stderr",
          "output_type": "stream",
          "text": [
            "100%|██████████| 10/10 [00:36<00:00,  3.66s/it]\n"
          ]
        },
        {
          "name": "stdout",
          "output_type": "stream",
          "text": [
            "Generation 6\n"
          ]
        },
        {
          "name": "stderr",
          "output_type": "stream",
          "text": [
            "100%|██████████| 10/10 [00:34<00:00,  3.48s/it]\n"
          ]
        }
      ],
      "source": [
        "ga7 = GeneticAlgorithm(10, X_train, X_test, y_train, y_test)\n",
        "result7 = ga7.solve(generations=6)\n",
        "result7"
      ]
    },
    {
      "cell_type": "code",
      "execution_count": null,
      "metadata": {
        "id": "0mwlYFupk5Bt",
        "outputId": "22798c2a-a149-47d2-89bc-d384543a2a30"
      },
      "outputs": [
        {
          "data": {
            "text/plain": [
              "[<matplotlib.lines.Line2D at 0x2c978be01c0>]"
            ]
          },
          "execution_count": 47,
          "metadata": {},
          "output_type": "execute_result"
        },
        {
          "data": {
            "image/png": "[encoded data removed]",
            "text/plain": [
              "<Figure size 640x480 with 1 Axes>"
            ]
          },
          "metadata": {},
          "output_type": "display_data"
        }
      ],
      "source": [
        "frontier_loss = []\n",
        "frontier_acc = []\n",
        "for individual in ga7.pareto_frontier:\n",
        "    frontier_loss.append(individual.loss)\n",
        "    frontier_acc.append(-individual.eval)\n",
        "pareto_loss = []\n",
        "pareto_acc = []\n",
        "for individual in ga7.frontier:\n",
        "    pareto_loss.append(individual.loss)\n",
        "    pareto_acc.append(-individual.eval)\n",
        "plt.plot(pareto_acc, pareto_loss, color=\"blue\", marker=\"*\", linestyle=\"None\")\n",
        "plt.plot(frontier_acc, frontier_loss, color=\"red\", marker=\"*\", linestyle=\"None\")"
      ]
    },
    {
      "cell_type": "code",
      "execution_count": null,
      "metadata": {
        "id": "OfonucsMk5Bt",
        "outputId": "7059ffbe-3cd6-40bc-a2a4-5e318359b2f6"
      },
      "outputs": [
        {
          "name": "stdout",
          "output_type": "stream",
          "text": [
            "Generation 0\n"
          ]
        },
        {
          "name": "stderr",
          "output_type": "stream",
          "text": [
            "100%|██████████| 10/10 [00:33<00:00,  3.32s/it]\n"
          ]
        },
        {
          "name": "stdout",
          "output_type": "stream",
          "text": [
            "Generation 1\n"
          ]
        },
        {
          "name": "stderr",
          "output_type": "stream",
          "text": [
            "100%|██████████| 10/10 [00:30<00:00,  3.01s/it]\n"
          ]
        },
        {
          "name": "stdout",
          "output_type": "stream",
          "text": [
            "Generation 2\n"
          ]
        },
        {
          "name": "stderr",
          "output_type": "stream",
          "text": [
            "100%|██████████| 10/10 [00:31<00:00,  3.11s/it]\n"
          ]
        },
        {
          "name": "stdout",
          "output_type": "stream",
          "text": [
            "Generation 3\n"
          ]
        },
        {
          "name": "stderr",
          "output_type": "stream",
          "text": [
            "100%|██████████| 10/10 [00:33<00:00,  3.35s/it]\n"
          ]
        },
        {
          "name": "stdout",
          "output_type": "stream",
          "text": [
            "Generation 4\n"
          ]
        },
        {
          "name": "stderr",
          "output_type": "stream",
          "text": [
            "100%|██████████| 10/10 [00:31<00:00,  3.15s/it]\n"
          ]
        },
        {
          "name": "stdout",
          "output_type": "stream",
          "text": [
            "Generation 5\n"
          ]
        },
        {
          "name": "stderr",
          "output_type": "stream",
          "text": [
            "100%|██████████| 10/10 [00:32<00:00,  3.23s/it]\n"
          ]
        },
        {
          "name": "stdout",
          "output_type": "stream",
          "text": [
            "Generation 6\n"
          ]
        },
        {
          "name": "stderr",
          "output_type": "stream",
          "text": [
            "100%|██████████| 10/10 [00:30<00:00,  3.10s/it]\n"
          ]
        }
      ],
      "source": [
        "ga8 = GeneticAlgorithm(10, X_train, X_test, y_train, y_test)\n",
        "result8 = ga8.solve(generations=6)\n",
        "result8"
      ]
    },
    {
      "cell_type": "code",
      "execution_count": null,
      "metadata": {
        "id": "_43HYlxlk5Bt",
        "outputId": "7f00a150-6c7c-4c53-b390-d1d3ae7b241e"
      },
      "outputs": [
        {
          "data": {
            "text/plain": [
              "[<matplotlib.lines.Line2D at 0x2c978b5d7b0>]"
            ]
          },
          "execution_count": 46,
          "metadata": {},
          "output_type": "execute_result"
        },
        {
          "data": {
            "image/png": "[encoded data removed]",
            "text/plain": [
              "<Figure size 640x480 with 1 Axes>"
            ]
          },
          "metadata": {},
          "output_type": "display_data"
        }
      ],
      "source": [
        "frontier_loss = []\n",
        "frontier_acc = []\n",
        "for individual in ga8.pareto_frontier:\n",
        "    frontier_loss.append(individual.loss)\n",
        "    frontier_acc.append(-individual.eval)\n",
        "pareto_loss = []\n",
        "pareto_acc = []\n",
        "for individual in ga8.frontier:\n",
        "    pareto_loss.append(individual.loss)\n",
        "    pareto_acc.append(-individual.eval)\n",
        "plt.plot(pareto_acc, pareto_loss, color=\"blue\", marker=\"*\", linestyle=\"None\")\n",
        "plt.plot(frontier_acc, frontier_loss, color=\"red\", marker=\"*\", linestyle=\"None\")"
      ]
    },
    {
      "cell_type": "code",
      "execution_count": null,
      "metadata": {
        "id": "r-OPT8jEk5Bt",
        "outputId": "475f0bf4-2d1d-45d0-be8e-138c51df47c2"
      },
      "outputs": [
        {
          "name": "stdout",
          "output_type": "stream",
          "text": [
            "Generation 0\n"
          ]
        },
        {
          "name": "stderr",
          "output_type": "stream",
          "text": [
            "100%|██████████| 10/10 [00:37<00:00,  3.78s/it]\n"
          ]
        },
        {
          "name": "stdout",
          "output_type": "stream",
          "text": [
            "Generation 1\n"
          ]
        },
        {
          "name": "stderr",
          "output_type": "stream",
          "text": [
            "100%|██████████| 10/10 [00:38<00:00,  3.82s/it]\n"
          ]
        },
        {
          "name": "stdout",
          "output_type": "stream",
          "text": [
            "Generation 2\n"
          ]
        },
        {
          "name": "stderr",
          "output_type": "stream",
          "text": [
            "100%|██████████| 10/10 [00:41<00:00,  4.15s/it]\n"
          ]
        },
        {
          "name": "stdout",
          "output_type": "stream",
          "text": [
            "Generation 3\n"
          ]
        },
        {
          "name": "stderr",
          "output_type": "stream",
          "text": [
            "100%|██████████| 10/10 [00:33<00:00,  3.34s/it]\n"
          ]
        },
        {
          "name": "stdout",
          "output_type": "stream",
          "text": [
            "Generation 4\n"
          ]
        },
        {
          "name": "stderr",
          "output_type": "stream",
          "text": [
            "100%|██████████| 10/10 [00:35<00:00,  3.51s/it]\n"
          ]
        },
        {
          "name": "stdout",
          "output_type": "stream",
          "text": [
            "Generation 5\n"
          ]
        },
        {
          "name": "stderr",
          "output_type": "stream",
          "text": [
            "100%|██████████| 10/10 [00:34<00:00,  3.40s/it]\n"
          ]
        },
        {
          "name": "stdout",
          "output_type": "stream",
          "text": [
            "Generation 6\n"
          ]
        },
        {
          "name": "stderr",
          "output_type": "stream",
          "text": [
            "100%|██████████| 10/10 [00:31<00:00,  3.17s/it]\n"
          ]
        },
        {
          "name": "stdout",
          "output_type": "stream",
          "text": [
            "Generation 7\n"
          ]
        },
        {
          "name": "stderr",
          "output_type": "stream",
          "text": [
            "100%|██████████| 10/10 [00:34<00:00,  3.45s/it]\n"
          ]
        },
        {
          "name": "stdout",
          "output_type": "stream",
          "text": [
            "Generation 8\n"
          ]
        },
        {
          "name": "stderr",
          "output_type": "stream",
          "text": [
            "100%|██████████| 10/10 [00:33<00:00,  3.32s/it]\n"
          ]
        }
      ],
      "source": [
        "ga9 = GeneticAlgorithm(10, X_train, X_test, y_train, y_test)\n",
        "result9 = ga9.solve(generations=8)\n",
        "result9"
      ]
    },
    {
      "cell_type": "code",
      "execution_count": null,
      "metadata": {
        "id": "z3sJTFA_k5Bu",
        "outputId": "5088c7c0-d791-412c-dee1-053f006fc747"
      },
      "outputs": [
        {
          "data": {
            "text/plain": [
              "[<matplotlib.lines.Line2D at 0x2c9d9b19ea0>]"
            ]
          },
          "execution_count": 49,
          "metadata": {},
          "output_type": "execute_result"
        },
        {
          "data": {
            "image/png": "[encoded data removed]",
            "text/plain": [
              "<Figure size 640x480 with 1 Axes>"
            ]
          },
          "metadata": {},
          "output_type": "display_data"
        }
      ],
      "source": [
        "frontier_loss = []\n",
        "frontier_acc = []\n",
        "for individual in ga9.pareto_frontier:\n",
        "    frontier_loss.append(individual.loss)\n",
        "    frontier_acc.append(-individual.eval)\n",
        "pareto_loss = []\n",
        "pareto_acc = []\n",
        "for individual in ga9.frontier:\n",
        "    pareto_loss.append(individual.loss)\n",
        "    pareto_acc.append(-individual.eval)\n",
        "plt.plot(pareto_acc, pareto_loss, color=\"blue\", marker=\"*\", linestyle=\"None\")\n",
        "plt.plot(frontier_acc, frontier_loss, color=\"red\", marker=\"*\", linestyle=\"None\")"
      ]
    },
    {
      "cell_type": "code",
      "execution_count": 4,
      "metadata": {
        "id": "ykS6yo_Dk5Bu"
      },
      "outputs": [],
      "source": [
        "class GeneticAlgorithm:\n",
        "    def __init__(self, population_size: int, X_train, X_test, y_train, y_test) -> None:\n",
        "        self.population_size = population_size\n",
        "        self.population = []\n",
        "        self.generation = 0\n",
        "        self.eval_sum = 0\n",
        "        self.best_solution = None\n",
        "        self.solution_list = []\n",
        "        self.X_train = X_train\n",
        "        self.X_test = X_test\n",
        "        self.y_train = y_train\n",
        "        self.y_test = y_test\n",
        "        self.pareto = []\n",
        "        self.frontier = []\n",
        "\n",
        "    def init_population(self) -> None:\n",
        "        for _ in range(self.population_size):\n",
        "            self.population.append(Individual())\n",
        "        self.best_solution = self.population[0]\n",
        "\n",
        "    def sort_population(self) -> None:\n",
        "        self.population = sorted(self.population, key=lambda individual: individual.eval, reverse=True)\n",
        "\n",
        "    def best_individual(self) -> Individual:\n",
        "        maximum = max(self.pareto, key=lambda x: x.eval)\n",
        "        threshold_first = maximum.eval * 0.05\n",
        "        interval = [individual for individual in self.pareto if maximum.eval - threshold_first <= maximum.eval <= maximum.eval + threshold_first]\n",
        "        minimum = min(interval, key=lambda x:x.loss)\n",
        "        threshold_second = minimum.loss * 0.05\n",
        "        interval2 = [individual for individual in interval if minimum.loss - threshold_second <= minimum.loss <= minimum.loss + threshold_second]\n",
        "        if len(interval2) == 1:\n",
        "            return minimum\n",
        "        else:\n",
        "            return max(interval2, key=lambda x: x.eval)\n",
        "\n",
        "    def sum_eval(self) -> float:\n",
        "        sum = 0\n",
        "        for individual in self.population:\n",
        "            sum += individual.eval\n",
        "        return sum\n",
        "\n",
        "    def select_parent(self, size:int) -> int:\n",
        "        return np.random.randint(size)\n",
        "\n",
        "    def visualize_generation(self) -> None:\n",
        "        best = self.population[0]\n",
        "        print(f\"G:{self.population[0].generation} -> \",\n",
        "              f\"Eval: {round(best.eval, 2)}\",\n",
        "              f\" Gene: {best.gene}\")\n",
        "\n",
        "    def solve(self, mutation_rate=0.05, generations=0) -> list[int]:\n",
        "        self.init_population()\n",
        "\n",
        "        print(\"Generation 0\")\n",
        "\n",
        "        for i in tqdm(range(len(self.population))):\n",
        "            self.population[i]._evaluate(self.X_train, self.X_test, self.y_train, self.y_test)\n",
        "\n",
        "\n",
        "        for i in range(generations):\n",
        "            for individual in self.population:\n",
        "                frontier = not any((individual.loss > other_individual.loss and individual.eval < other_individual.eval) for other_individual in self.population)\n",
        "\n",
        "                if frontier:\n",
        "                    self.pareto.append(individual)\n",
        "            self.frontier.append(self.pareto)\n",
        "            new_population = []\n",
        "            if len(self.pareto) == 1:\n",
        "                for _ in range(0, self.population_size, 2):\n",
        "                    parent1 = self.select_parent(len(self.pareto))\n",
        "                    parent2 = self.select_parent(self.population_size)\n",
        "\n",
        "                    children = self.pareto[parent1].crossover(self.population[parent2])\n",
        "\n",
        "                    new_population.append(children[0].mutation(mutation_rate))\n",
        "                    new_population.append(children[1].mutation(mutation_rate))\n",
        "                    self.best_solution = self.pareto[0]\n",
        "            else:\n",
        "                for _ in range(0, self.population_size, 2):\n",
        "                    parent1 = self.select_parent(len(self.pareto))\n",
        "                    parent2 = self.select_parent(len(self.pareto))\n",
        "\n",
        "                    children = self.pareto[parent1].crossover(self.pareto[parent2])\n",
        "\n",
        "                    new_population.append(children[0].mutation(mutation_rate))\n",
        "                    new_population.append(children[1].mutation(mutation_rate))\n",
        "                    self.best_solution = self.best_individual()\n",
        "            print(f\"Best Solution -> G:{self.best_solution.generation} -> \",\n",
        "              f\"Eval: {round(self.best_solution.eval, 3)}\",\n",
        "              f\" Gene: {self.best_solution.gene}\")\n",
        "            print(f\"Generation {i + 1}\")\n",
        "\n",
        "            self.population = list(new_population)\n",
        "\n",
        "            for i in tqdm(range(len(self.population))):\n",
        "                self.population[i]._evaluate(self.X_train, self.X_test, self.y_train, self.y_test)\n",
        "\n",
        "        self.frontier = [item for row in self.frontier for item in row]\n",
        "\n",
        "        self.pareto_frontier = []\n",
        "        for individual in self.frontier:\n",
        "            frontier = not any((individual.loss > other_individual.loss and individual.eval < other_individual.eval) for other_individual in self.frontier)\n",
        "\n",
        "            if frontier:\n",
        "                self.pareto_frontier.append(individual)\n",
        "\n",
        "        return self.best_solution"
      ]
    },
    {
      "cell_type": "code",
      "execution_count": null,
      "metadata": {
        "id": "C3B7A-Ilk5Bu",
        "outputId": "870276be-41dd-437f-f6d9-0c0a85dc3d8d"
      },
      "outputs": [
        {
          "name": "stdout",
          "output_type": "stream",
          "text": [
            "Generation 0\n"
          ]
        },
        {
          "name": "stderr",
          "output_type": "stream",
          "text": [
            "100%|██████████| 6/6 [00:18<00:00,  3.07s/it]\n"
          ]
        },
        {
          "name": "stdout",
          "output_type": "stream",
          "text": [
            "Best Solution -> G:0 ->  Eval: 0.713  Gene: [1, 0, 1, 0, 1, 0, 0, 1, 1, 1, 0, 1]\n",
            "Generation 1\n"
          ]
        },
        {
          "name": "stderr",
          "output_type": "stream",
          "text": [
            "100%|██████████| 6/6 [00:16<00:00,  2.82s/it]\n"
          ]
        },
        {
          "name": "stdout",
          "output_type": "stream",
          "text": [
            "Best Solution -> G:1 ->  Eval: 0.717  Gene: [0, 0, 1, 0, 1, 1, 0, 0, 0, 1, 0, 1]\n",
            "Generation 2\n"
          ]
        },
        {
          "name": "stderr",
          "output_type": "stream",
          "text": [
            "100%|██████████| 6/6 [00:16<00:00,  2.82s/it]\n"
          ]
        },
        {
          "name": "stdout",
          "output_type": "stream",
          "text": [
            "Best Solution -> G:1 ->  Eval: 0.717  Gene: [0, 0, 1, 0, 1, 1, 0, 0, 0, 1, 0, 1]\n",
            "Generation 3\n"
          ]
        },
        {
          "name": "stderr",
          "output_type": "stream",
          "text": [
            "100%|██████████| 6/6 [00:16<00:00,  2.73s/it]\n"
          ]
        },
        {
          "name": "stdout",
          "output_type": "stream",
          "text": [
            "Best Solution -> G:1 ->  Eval: 0.717  Gene: [0, 0, 1, 0, 1, 1, 0, 0, 0, 1, 0, 1]\n",
            "Generation 4\n"
          ]
        },
        {
          "name": "stderr",
          "output_type": "stream",
          "text": [
            "100%|██████████| 6/6 [00:16<00:00,  2.83s/it]\n"
          ]
        },
        {
          "name": "stdout",
          "output_type": "stream",
          "text": [
            "Best Solution -> G:1 ->  Eval: 0.717  Gene: [0, 0, 1, 0, 1, 1, 0, 0, 0, 1, 0, 1]\n",
            "Generation 5\n"
          ]
        },
        {
          "name": "stderr",
          "output_type": "stream",
          "text": [
            "100%|██████████| 6/6 [00:18<00:00,  3.02s/it]\n"
          ]
        },
        {
          "name": "stdout",
          "output_type": "stream",
          "text": [
            "Best Solution -> G:1 ->  Eval: 0.717  Gene: [0, 0, 1, 0, 1, 1, 0, 0, 0, 1, 0, 1]\n",
            "Generation 6\n"
          ]
        },
        {
          "name": "stderr",
          "output_type": "stream",
          "text": [
            "100%|██████████| 6/6 [00:14<00:00,  2.36s/it]\n"
          ]
        },
        {
          "data": {
            "text/plain": [
              "Generation: 1\n",
              "Gene: [0, 0, 1, 0, 1, 1, 0, 0, 0, 1, 0, 1]\n",
              "2 camadas com 7 neurons\n",
              "1 camadas com 6 neurons"
            ]
          },
          "execution_count": 7,
          "metadata": {},
          "output_type": "execute_result"
        }
      ],
      "source": [
        "ga10 = GeneticAlgorithm(6, X_train, X_test, y_train, y_test)\n",
        "result10 = ga10.solve(generations=6)\n",
        "result10"
      ]
    },
    {
      "cell_type": "code",
      "execution_count": null,
      "metadata": {
        "id": "2hiXjUK_k5Bu",
        "outputId": "4b9a2679-0eee-4471-8866-94c068de9e3d"
      },
      "outputs": [
        {
          "data": {
            "text/plain": [
              "[<matplotlib.lines.Line2D at 0x1bb4accf430>]"
            ]
          },
          "execution_count": 8,
          "metadata": {},
          "output_type": "execute_result"
        },
        {
          "data": {
            "image/png": "[encoded data removed]",
            "text/plain": [
              "<Figure size 640x480 with 1 Axes>"
            ]
          },
          "metadata": {},
          "output_type": "display_data"
        }
      ],
      "source": [
        "frontier_loss = []\n",
        "frontier_acc = []\n",
        "for individual in ga10.pareto_frontier:\n",
        "    frontier_loss.append(individual.loss)\n",
        "    frontier_acc.append(-individual.eval)\n",
        "pareto_loss = []\n",
        "pareto_acc = []\n",
        "for individual in ga10.frontier:\n",
        "    pareto_loss.append(individual.loss)\n",
        "    pareto_acc.append(-individual.eval)\n",
        "plt.plot(pareto_acc, pareto_loss, color=\"blue\", marker=\"*\", linestyle=\"None\")\n",
        "plt.plot(frontier_acc, frontier_loss, color=\"red\", marker=\"*\", linestyle=\"None\")"
      ]
    },
    {
      "cell_type": "code",
      "source": [
        "ga11 = GeneticAlgorithm(10, X_train, X_test, y_train, y_test)\n",
        "result11 = ga11.solve(generations=25)\n",
        "frontier_loss = []\n",
        "frontier_acc = []\n",
        "for individual in ga11.pareto_frontier:\n",
        "    frontier_loss.append(individual.loss)\n",
        "    frontier_acc.append(-individual.eval)\n",
        "pareto_loss = []\n",
        "pareto_acc = []\n",
        "for individual in ga11.frontier:\n",
        "    pareto_loss.append(individual.loss)\n",
        "    pareto_acc.append(-individual.eval)\n",
        "plt.plot(pareto_acc, pareto_loss, color=\"blue\", marker=\"*\", linestyle=\"None\")\n",
        "plt.plot(frontier_acc, frontier_loss, color=\"red\", marker=\"*\", linestyle=\"None\")"
      ],
      "metadata": {
        "colab": {
          "base_uri": "https://localhost:8080/",
          "height": 1000
        },
        "id": "OURSjP3FlEe1",
        "outputId": "7c41c561-ec9f-49d7-b01a-8084286cb6da"
      },
      "execution_count": 6,
      "outputs": [
        {
          "output_type": "stream",
          "name": "stdout",
          "text": [
            "Generation 0\n"
          ]
        },
        {
          "output_type": "stream",
          "name": "stderr",
          "text": [
            "100%|██████████| 10/10 [00:45<00:00,  4.55s/it]\n"
          ]
        },
        {
          "output_type": "stream",
          "name": "stdout",
          "text": [
            "Best Solution -> G:0 ->  Eval: 0.717  Gene: [0, 0, 1, 1, 0, 1, 1, 1, 0, 1, 0, 0]\n",
            "Generation 1\n"
          ]
        },
        {
          "output_type": "stream",
          "name": "stderr",
          "text": [
            "100%|██████████| 10/10 [00:47<00:00,  4.72s/it]\n"
          ]
        },
        {
          "output_type": "stream",
          "name": "stdout",
          "text": [
            "Best Solution -> G:0 ->  Eval: 0.717  Gene: [0, 0, 1, 1, 0, 1, 1, 1, 0, 1, 0, 0]\n",
            "Generation 2\n"
          ]
        },
        {
          "output_type": "stream",
          "name": "stderr",
          "text": [
            "100%|██████████| 10/10 [00:45<00:00,  4.57s/it]\n"
          ]
        },
        {
          "output_type": "stream",
          "name": "stdout",
          "text": [
            "Best Solution -> G:1 ->  Eval: 0.72  Gene: [0, 0, 1, 0, 1, 1, 0, 1, 1, 1, 1, 1]\n",
            "Generation 3\n"
          ]
        },
        {
          "output_type": "stream",
          "name": "stderr",
          "text": [
            "100%|██████████| 10/10 [00:41<00:00,  4.19s/it]\n"
          ]
        },
        {
          "output_type": "stream",
          "name": "stdout",
          "text": [
            "Best Solution -> G:1 ->  Eval: 0.73  Gene: [1, 0, 0, 1, 1, 1, 1, 1, 0, 1, 0, 0]\n",
            "Generation 4\n"
          ]
        },
        {
          "output_type": "stream",
          "name": "stderr",
          "text": [
            "100%|██████████| 10/10 [00:43<00:00,  4.39s/it]\n"
          ]
        },
        {
          "output_type": "stream",
          "name": "stdout",
          "text": [
            "Best Solution -> G:1 ->  Eval: 0.73  Gene: [1, 0, 0, 1, 1, 1, 1, 1, 0, 1, 0, 0]\n",
            "Generation 5\n"
          ]
        },
        {
          "output_type": "stream",
          "name": "stderr",
          "text": [
            "100%|██████████| 10/10 [00:45<00:00,  4.58s/it]\n"
          ]
        },
        {
          "output_type": "stream",
          "name": "stdout",
          "text": [
            "Best Solution -> G:1 ->  Eval: 0.73  Gene: [1, 0, 0, 1, 1, 1, 1, 1, 0, 1, 0, 0]\n",
            "Generation 6\n"
          ]
        },
        {
          "output_type": "stream",
          "name": "stderr",
          "text": [
            "100%|██████████| 10/10 [00:49<00:00,  5.00s/it]\n"
          ]
        },
        {
          "output_type": "stream",
          "name": "stdout",
          "text": [
            "Best Solution -> G:1 ->  Eval: 0.73  Gene: [1, 0, 0, 1, 1, 1, 1, 1, 0, 1, 0, 0]\n",
            "Generation 7\n"
          ]
        },
        {
          "output_type": "stream",
          "name": "stderr",
          "text": [
            "100%|██████████| 10/10 [00:47<00:00,  4.76s/it]\n"
          ]
        },
        {
          "output_type": "stream",
          "name": "stdout",
          "text": [
            "Best Solution -> G:1 ->  Eval: 0.73  Gene: [1, 0, 0, 1, 1, 1, 1, 1, 0, 1, 0, 0]\n",
            "Generation 8\n"
          ]
        },
        {
          "output_type": "stream",
          "name": "stderr",
          "text": [
            "100%|██████████| 10/10 [00:52<00:00,  5.26s/it]\n"
          ]
        },
        {
          "output_type": "stream",
          "name": "stdout",
          "text": [
            "Best Solution -> G:4 ->  Eval: 0.737  Gene: [0, 1, 1, 1, 1, 1, 1, 1, 1, 1, 0, 1]\n",
            "Generation 9\n"
          ]
        },
        {
          "output_type": "stream",
          "name": "stderr",
          "text": [
            "100%|██████████| 10/10 [00:48<00:00,  4.85s/it]\n"
          ]
        },
        {
          "output_type": "stream",
          "name": "stdout",
          "text": [
            "Best Solution -> G:4 ->  Eval: 0.737  Gene: [0, 1, 1, 1, 1, 1, 1, 1, 1, 1, 0, 1]\n",
            "Generation 10\n"
          ]
        },
        {
          "output_type": "stream",
          "name": "stderr",
          "text": [
            "100%|██████████| 10/10 [00:46<00:00,  4.66s/it]\n"
          ]
        },
        {
          "output_type": "stream",
          "name": "stdout",
          "text": [
            "Best Solution -> G:4 ->  Eval: 0.737  Gene: [0, 1, 1, 1, 1, 1, 1, 1, 1, 1, 0, 1]\n",
            "Generation 11\n"
          ]
        },
        {
          "output_type": "stream",
          "name": "stderr",
          "text": [
            "100%|██████████| 10/10 [00:45<00:00,  4.52s/it]\n"
          ]
        },
        {
          "output_type": "stream",
          "name": "stdout",
          "text": [
            "Best Solution -> G:4 ->  Eval: 0.737  Gene: [0, 1, 1, 1, 1, 1, 1, 1, 1, 1, 0, 1]\n",
            "Generation 12\n"
          ]
        },
        {
          "output_type": "stream",
          "name": "stderr",
          "text": [
            "100%|██████████| 10/10 [00:53<00:00,  5.38s/it]\n"
          ]
        },
        {
          "output_type": "stream",
          "name": "stdout",
          "text": [
            "Best Solution -> G:4 ->  Eval: 0.737  Gene: [0, 1, 1, 1, 1, 1, 1, 1, 1, 1, 0, 1]\n",
            "Generation 13\n"
          ]
        },
        {
          "output_type": "stream",
          "name": "stderr",
          "text": [
            "100%|██████████| 10/10 [00:50<00:00,  5.08s/it]\n"
          ]
        },
        {
          "output_type": "stream",
          "name": "stdout",
          "text": [
            "Best Solution -> G:4 ->  Eval: 0.737  Gene: [0, 1, 1, 1, 1, 1, 1, 1, 1, 1, 0, 1]\n",
            "Generation 14\n"
          ]
        },
        {
          "output_type": "stream",
          "name": "stderr",
          "text": [
            "100%|██████████| 10/10 [00:57<00:00,  5.76s/it]\n"
          ]
        },
        {
          "output_type": "stream",
          "name": "stdout",
          "text": [
            "Best Solution -> G:4 ->  Eval: 0.737  Gene: [0, 1, 1, 1, 1, 1, 1, 1, 1, 1, 0, 1]\n",
            "Generation 15\n"
          ]
        },
        {
          "output_type": "stream",
          "name": "stderr",
          "text": [
            "100%|██████████| 10/10 [00:45<00:00,  4.53s/it]\n"
          ]
        },
        {
          "output_type": "stream",
          "name": "stdout",
          "text": [
            "Best Solution -> G:4 ->  Eval: 0.737  Gene: [0, 1, 1, 1, 1, 1, 1, 1, 1, 1, 0, 1]\n",
            "Generation 16\n"
          ]
        },
        {
          "output_type": "stream",
          "name": "stderr",
          "text": [
            "100%|██████████| 10/10 [00:47<00:00,  4.78s/it]\n"
          ]
        },
        {
          "output_type": "stream",
          "name": "stdout",
          "text": [
            "Best Solution -> G:4 ->  Eval: 0.737  Gene: [0, 1, 1, 1, 1, 1, 1, 1, 1, 1, 0, 1]\n",
            "Generation 17\n"
          ]
        },
        {
          "output_type": "stream",
          "name": "stderr",
          "text": [
            "100%|██████████| 10/10 [00:44<00:00,  4.50s/it]\n"
          ]
        },
        {
          "output_type": "stream",
          "name": "stdout",
          "text": [
            "Best Solution -> G:4 ->  Eval: 0.737  Gene: [0, 1, 1, 1, 1, 1, 1, 1, 1, 1, 0, 1]\n",
            "Generation 18\n"
          ]
        },
        {
          "output_type": "stream",
          "name": "stderr",
          "text": [
            "100%|██████████| 10/10 [00:47<00:00,  4.76s/it]\n"
          ]
        },
        {
          "output_type": "stream",
          "name": "stdout",
          "text": [
            "Best Solution -> G:4 ->  Eval: 0.737  Gene: [0, 1, 1, 1, 1, 1, 1, 1, 1, 1, 0, 1]\n",
            "Generation 19\n"
          ]
        },
        {
          "output_type": "stream",
          "name": "stderr",
          "text": [
            "100%|██████████| 10/10 [00:55<00:00,  5.52s/it]\n"
          ]
        },
        {
          "output_type": "stream",
          "name": "stdout",
          "text": [
            "Best Solution -> G:4 ->  Eval: 0.737  Gene: [0, 1, 1, 1, 1, 1, 1, 1, 1, 1, 0, 1]\n",
            "Generation 20\n"
          ]
        },
        {
          "output_type": "stream",
          "name": "stderr",
          "text": [
            "100%|██████████| 10/10 [00:47<00:00,  4.79s/it]\n"
          ]
        },
        {
          "output_type": "stream",
          "name": "stdout",
          "text": [
            "Best Solution -> G:4 ->  Eval: 0.737  Gene: [0, 1, 1, 1, 1, 1, 1, 1, 1, 1, 0, 1]\n",
            "Generation 21\n"
          ]
        },
        {
          "output_type": "stream",
          "name": "stderr",
          "text": [
            "100%|██████████| 10/10 [00:46<00:00,  4.67s/it]\n"
          ]
        },
        {
          "output_type": "stream",
          "name": "stdout",
          "text": [
            "Best Solution -> G:4 ->  Eval: 0.737  Gene: [0, 1, 1, 1, 1, 1, 1, 1, 1, 1, 0, 1]\n",
            "Generation 22\n"
          ]
        },
        {
          "output_type": "stream",
          "name": "stderr",
          "text": [
            "100%|██████████| 10/10 [00:55<00:00,  5.54s/it]\n"
          ]
        },
        {
          "output_type": "stream",
          "name": "stdout",
          "text": [
            "Best Solution -> G:4 ->  Eval: 0.737  Gene: [0, 1, 1, 1, 1, 1, 1, 1, 1, 1, 0, 1]\n",
            "Generation 23\n"
          ]
        },
        {
          "output_type": "stream",
          "name": "stderr",
          "text": [
            "100%|██████████| 10/10 [00:48<00:00,  4.87s/it]\n"
          ]
        },
        {
          "output_type": "stream",
          "name": "stdout",
          "text": [
            "Best Solution -> G:4 ->  Eval: 0.737  Gene: [0, 1, 1, 1, 1, 1, 1, 1, 1, 1, 0, 1]\n",
            "Generation 24\n"
          ]
        },
        {
          "output_type": "stream",
          "name": "stderr",
          "text": [
            "100%|██████████| 10/10 [00:47<00:00,  4.80s/it]\n"
          ]
        },
        {
          "output_type": "stream",
          "name": "stdout",
          "text": [
            "Best Solution -> G:4 ->  Eval: 0.737  Gene: [0, 1, 1, 1, 1, 1, 1, 1, 1, 1, 0, 1]\n",
            "Generation 25\n"
          ]
        },
        {
          "output_type": "stream",
          "name": "stderr",
          "text": [
            "100%|██████████| 10/10 [00:53<00:00,  5.31s/it]\n"
          ]
        },
        {
          "output_type": "execute_result",
          "data": {
            "text/plain": [
              "[<matplotlib.lines.Line2D at 0x7dfa38a45a50>]"
            ]
          },
          "metadata": {},
          "execution_count": 6
        },
        {
          "output_type": "display_data",
          "data": {
            "text/plain": [
              "<Figure size 640x480 with 1 Axes>"
            ],
            "image/png": "[encoded data removed]"
          },
          "metadata": {}
        }
      ]
    }
  ],
  "metadata": {
    "kernelspec": {
      "display_name": "tcc",
      "language": "python",
      "name": "python3"
    },
    "language_info": {
      "codemirror_mode": {
        "name": "ipython",
        "version": 3
      },
      "file_extension": ".py",
      "mimetype": "text/x-python",
      "name": "python",
      "nbconvert_exporter": "python",
      "pygments_lexer": "ipython3",
      "version": "3.10.0"
    },
    "orig_nbformat": 4,
    "colab": {
      "provenance": []
    }
  },
  "nbformat": 4,
  "nbformat_minor": 0
}