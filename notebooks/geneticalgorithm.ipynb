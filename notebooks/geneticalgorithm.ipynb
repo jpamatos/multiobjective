{
 "cells": [
  {
   "cell_type": "code",
   "execution_count": 9,
   "metadata": {},
   "outputs": [],
   "source": [
    "from __future__ import annotations\n",
    "import pandas as pd\n",
    "import numpy as np\n",
    "from sklearn.model_selection import train_test_split\n",
    "from sklearn.preprocessing import LabelEncoder, MinMaxScaler\n",
    "import keras\n",
    "import matplotlib.pyplot as plt"
   ]
  },
  {
   "cell_type": "code",
   "execution_count": 10,
   "metadata": {},
   "outputs": [],
   "source": [
    "data = pd.read_csv(\"../data/Credit.csv\")\n",
    "\n",
    "cat_columns = list(data.select_dtypes(include=[\"object\"]).columns)\n",
    "le = LabelEncoder()\n",
    "for col in cat_columns:\n",
    "    data[col] = le.fit_transform(data[col])\n",
    "\n",
    "X_train, X_test, y_train, y_test = train_test_split(\n",
    "    data.iloc[:, :-1],\n",
    "    data.iloc[:, -1],\n",
    "    test_size=0.3,\n",
    "    random_state=0\n",
    ")\n",
    "\n",
    "num_columns = list(set(data.columns) - set(cat_columns))\n",
    "scaler = MinMaxScaler()\n",
    "X_train[num_columns] = scaler.fit_transform(X_train[num_columns])\n",
    "X_test[num_columns] = scaler.transform(X_test[num_columns])"
   ]
  },
  {
   "cell_type": "code",
   "execution_count": 11,
   "metadata": {},
   "outputs": [],
   "source": [
    "class Individual:\n",
    "    def __init__(self, generation: int=0) -> None:\n",
    "        self.generation = generation\n",
    "        self.gene = [0 if np.random.random() < 0.5 else 1 for _ in range(12)]\n",
    "        self.eval = 0\n",
    "    \n",
    "    def _evaluate(self, X_train, X_test, y_train, y_test) -> None:\n",
    "        self.model = keras.Sequential()\n",
    "        self.model.add(keras.layers.Input(shape=(20, )))\n",
    "        for _ in range(int(\"\".join(map(str, self.gene[0:3])), 2) + 1):\n",
    "            self.model.add(keras.layers.Dense(int(\"\".join(map(str, self.gene[3:7])), 2) + 1, activation=\"relu\"))\n",
    "        for _ in range(int(\"\".join(map(str, self.gene[7:9])), 2) + 1):\n",
    "            self.model.add(keras.layers.Dense(int(\"\".join(map(str, self.gene[9:12])), 2) + 1, activation=\"relu\"))\n",
    "        self.model.add(keras.layers.Dense(1, activation=\"sigmoid\"))\n",
    "\n",
    "        self.model.compile(loss=\"binary_crossentropy\", optimizer=\"adam\", metrics=[\"accuracy\"])\n",
    "        self.model.fit(X_train, y_train, epochs=25, batch_size=32, validation_split=0.2, verbose=False)\n",
    "\n",
    "        loss, accuracy = self.model.evaluate(X_test, y_test, verbose=False)\n",
    "\n",
    "        self.loss = loss\n",
    "        self.eval = accuracy\n",
    "\n",
    "    def crossover(self, other_individual: Individual) -> list[Individual]:\n",
    "        cut = round(np.random.rand() * len(self.gene))\n",
    "        child1 = other_individual.gene[0:cut] + self.gene[cut::]\n",
    "        child2 = self.gene[0:cut] + other_individual.gene[cut::]\n",
    "\n",
    "        children = [Individual(self.generation + 1), Individual(self.generation + 1)]\n",
    "        \n",
    "        children[0].gene = child1\n",
    "        children[1].gene = child2\n",
    "        \n",
    "        return children\n",
    "\n",
    "    def mutation(self, mutation_rate: float) -> Individual:\n",
    "        for i in range(len(self.gene)):\n",
    "            if np.random.random() < mutation_rate:\n",
    "                if self.gene[i]:\n",
    "                    self.gene[i] = 0\n",
    "                else:\n",
    "                    self.gene[i] = 1\n",
    "        return self\n",
    "    \n",
    "    def __repr__(self):\n",
    "        return f\"\"\"Generation: {self.generation}\n",
    "Gene: {self.gene}\n",
    "{int(\"\".join(map(str, self.gene[0:3])), 2) + 1} camadas com {int(\"\".join(map(str, self.gene[3:7])), 2) + 1} neurons\n",
    "{int(\"\".join(map(str, self.gene[7:9])), 2) + 1} camadas com {int(\"\".join(map(str, self.gene[9:12])), 2) + 1} neurons\n",
    "\"\"\""
   ]
  },
  {
   "cell_type": "code",
   "execution_count": 12,
   "metadata": {},
   "outputs": [],
   "source": [
    "class GeneticAlgorithm:\n",
    "    def __init__(self, population_size: int, X_train, X_test, y_train, y_test) -> None:\n",
    "        self.population_size = population_size\n",
    "        self.population = []\n",
    "        self.generation = 0\n",
    "        self.eval_sum = 0\n",
    "        self.best_solution = 0\n",
    "        self.solution_list = []\n",
    "        self.X_train = X_train\n",
    "        self.X_test = X_test\n",
    "        self.y_train = y_train\n",
    "        self.y_test = y_test\n",
    "        self.pareto = []\n",
    "\n",
    "    def init_population(self) -> None:\n",
    "        for _ in range(self.population_size):\n",
    "            self.population.append(Individual())\n",
    "        self.best_solution = self.population[0]\n",
    "\n",
    "    def sort_population(self) -> None:\n",
    "        self.population = sorted(self.population, key=lambda individual: individual.eval, reverse=True)\n",
    "\n",
    "    def best_individual(self, individual: Individual) -> None:\n",
    "        if individual.eval > self.best_solution.eval:\n",
    "            self.best_solution = individual\n",
    "    \n",
    "    def sum_eval(self) -> float:\n",
    "        sum = 0\n",
    "        for individual in self.population:\n",
    "            sum += individual.eval\n",
    "        return sum\n",
    "\n",
    "    def select_parent(self, sum_eval:float) -> int:\n",
    "        parent = -1\n",
    "        value = np.random.rand() * sum_eval\n",
    "        sum = 0\n",
    "        i = 0\n",
    "        while i < len(self.population) and sum < value:\n",
    "            sum += self.population[i].eval\n",
    "            parent += 1\n",
    "            i += 1\n",
    "        return parent\n",
    "\n",
    "    def visualize_generation(self) -> None:\n",
    "        best = self.population[0]\n",
    "        print(f\"G:{self.population[0].generation} -> \",\n",
    "              f\"Eval: {round(best.eval, 2)}\",\n",
    "              f\" Gene: {best.gene}\")\n",
    "\n",
    "    def solve(self, mutation_rate=0.05, generations=0) -> list[int]:\n",
    "        self.init_population()\n",
    "\n",
    "        print(\"Generation 0\")\n",
    "\n",
    "        for individual in self.population:\n",
    "            individual._evaluate(self.X_train, self.X_test, self.y_train, self.y_test)\n",
    "        \n",
    "        self.sort_population()\n",
    "\n",
    "        self.best_solution = self.population[0]\n",
    "        self.solution_list.append(self.best_solution.eval)\n",
    "\n",
    "        self.visualize_generation()\n",
    "\n",
    "        for i in range(generations):\n",
    "            print(f\"Generation {i + 1}\")\n",
    "            eval_sum = self.sum_eval()\n",
    "            new_population = []\n",
    "\n",
    "            for _ in range(0, self.population_size, 2):\n",
    "                parent1 = self.select_parent(eval_sum)\n",
    "                parent2 = self.select_parent(eval_sum)\n",
    "\n",
    "                children = self.population[parent1].crossover(self.population[parent2])\n",
    "\n",
    "                new_population.append(children[0].mutation(mutation_rate))   \n",
    "                new_population.append(children[1].mutation(mutation_rate))\n",
    "\n",
    "            self.population = list(new_population)\n",
    "\n",
    "            for individual in self.population:\n",
    "                individual._evaluate(self.X_train, self.X_test, self.y_train, self.y_test)\n",
    "            \n",
    "            pareto = []\n",
    "            for individual in self.population:\n",
    "                frontier = not any((individual.loss > other_individual.loss and individual.eval < other_individual.eval) for other_individual in self.population)\n",
    "\n",
    "                if frontier:\n",
    "                    pareto.append(individual)\n",
    "\n",
    "            self.pareto.extend(pareto)\n",
    "            \n",
    "\n",
    "            self.sort_population()\n",
    "            self.visualize_generation()\n",
    "\n",
    "            self.solution_list.append(self.population[0].eval)\n",
    "\n",
    "            self.best_individual(self.population[0])\n",
    "        \n",
    "        self.pareto_frontier = []\n",
    "        for individual in self.pareto:\n",
    "            frontier = not any((individual.loss > other_individual.loss and individual.eval < other_individual.eval) for other_individual in self.pareto)\n",
    "\n",
    "            if frontier:\n",
    "                self.pareto_frontier.append(individual)\n",
    "\n",
    "        print(f\"Best Solution -> G:{self.best_solution.generation} -> \",\n",
    "              f\"Eval: {round(self.best_solution.eval, 3)}\",\n",
    "              f\" Gene: {self.best_solution.gene}\")\n",
    "        \n",
    "        return self.best_solution\n",
    "\n",
    "ga = GeneticAlgorithm(6, X_train, X_test, y_train, y_test)"
   ]
  },
  {
   "cell_type": "code",
   "execution_count": 13,
   "metadata": {},
   "outputs": [
    {
     "name": "stdout",
     "output_type": "stream",
     "text": [
      "Generation 0\n",
      "G:0 ->  Eval: 0.72  Gene: [0, 0, 0, 1, 1, 0, 0, 0, 1, 1, 1, 1]\n",
      "Generation 1\n",
      "G:1 ->  Eval: 0.73  Gene: [0, 0, 0, 1, 1, 0, 0, 0, 0, 1, 1, 1]\n",
      "Generation 2\n",
      "G:2 ->  Eval: 0.72  Gene: [0, 0, 1, 1, 1, 0, 1, 0, 1, 1, 1, 1]\n",
      "Generation 3\n",
      "G:3 ->  Eval: 0.74  Gene: [0, 0, 0, 1, 1, 0, 1, 0, 1, 1, 1, 1]\n",
      "Generation 4\n",
      "G:4 ->  Eval: 0.72  Gene: [0, 0, 0, 1, 1, 0, 0, 0, 1, 0, 1, 0]\n",
      "Generation 5\n",
      "G:5 ->  Eval: 0.71  Gene: [1, 0, 1, 0, 0, 0, 1, 0, 1, 0, 1, 0]\n",
      "Generation 6\n",
      "G:6 ->  Eval: 0.71  Gene: [1, 0, 1, 0, 0, 0, 1, 1, 1, 0, 1, 0]\n",
      "Generation 7\n",
      "G:7 ->  Eval: 0.71  Gene: [1, 0, 0, 0, 0, 1, 1, 0, 0, 0, 1, 0]\n",
      "Generation 8\n",
      "G:8 ->  Eval: 0.71  Gene: [1, 0, 1, 0, 0, 0, 1, 1, 1, 0, 1, 0]\n",
      "Generation 9\n",
      "G:9 ->  Eval: 0.71  Gene: [0, 0, 0, 0, 0, 1, 1, 0, 0, 0, 1, 0]\n",
      "Generation 10\n",
      "G:10 ->  Eval: 0.71  Gene: [1, 0, 1, 0, 0, 1, 1, 0, 0, 0, 1, 0]\n",
      "Best Solution -> G:3 ->  Eval: 0.737  Gene: [0, 0, 0, 1, 1, 0, 1, 0, 1, 1, 1, 1]\n"
     ]
    }
   ],
   "source": [
    "result = ga.solve(generations=10)"
   ]
  },
  {
   "cell_type": "code",
   "execution_count": 14,
   "metadata": {},
   "outputs": [
    {
     "data": {
      "text/plain": [
       "Generation: 3\n",
       "Gene: [0, 0, 0, 1, 1, 0, 1, 0, 1, 1, 1, 1]\n",
       "1 camadas com 14 neurons\n",
       "2 camadas com 8 neurons"
      ]
     },
     "execution_count": 14,
     "metadata": {},
     "output_type": "execute_result"
    }
   ],
   "source": [
    "result"
   ]
  },
  {
   "cell_type": "code",
   "execution_count": 15,
   "metadata": {},
   "outputs": [
    {
     "data": {
      "text/plain": [
       "[<matplotlib.lines.Line2D at 0x20d271a7fd0>]"
      ]
     },
     "execution_count": 15,
     "metadata": {},
     "output_type": "execute_result"
    },
    {
     "data": {
      "image/png": "[encoded data removed]",
      "text/plain": [
       "<Figure size 640x480 with 1 Axes>"
      ]
     },
     "metadata": {},
     "output_type": "display_data"
    }
   ],
   "source": [
    "loss = []\n",
    "acc = []\n",
    "for individual in ga.pareto_frontier:\n",
    "    loss.append(individual.loss)\n",
    "    acc.append(-individual.eval)\n",
    "plt.plot(acc, loss, marker=\"*\", linestyle=\"None\")"
   ]
  },
  {
   "cell_type": "code",
   "execution_count": 21,
   "metadata": {},
   "outputs": [
    {
     "name": "stdout",
     "output_type": "stream",
     "text": [
      "Generation 0\n",
      "G:0 ->  Eval: 0.71  Gene: [0, 0, 1, 0, 0, 0, 1, 0, 1, 1, 1, 0]\n",
      "Generation 1\n",
      "G:1 ->  Eval: 0.71  Gene: [1, 1, 1, 0, 0, 1, 0, 0, 0, 1, 0, 1]\n",
      "Generation 2\n",
      "G:2 ->  Eval: 0.71  Gene: [1, 0, 1, 0, 0, 1, 0, 0, 0, 1, 1, 1]\n",
      "Generation 3\n",
      "G:3 ->  Eval: 0.71  Gene: [1, 1, 1, 0, 0, 1, 0, 0, 0, 0, 1, 0]\n",
      "Generation 4\n",
      "G:4 ->  Eval: 0.71  Gene: [1, 0, 1, 0, 0, 1, 0, 0, 0, 1, 1, 1]\n",
      "Generation 5\n",
      "G:5 ->  Eval: 0.71  Gene: [1, 0, 1, 0, 0, 1, 0, 0, 0, 1, 1, 1]\n",
      "Generation 6\n",
      "G:6 ->  Eval: 0.71  Gene: [1, 1, 1, 1, 0, 1, 0, 0, 0, 0, 1, 0]\n",
      "Generation 7\n",
      "G:7 ->  Eval: 0.71  Gene: [1, 1, 1, 0, 0, 0, 0, 0, 0, 1, 1, 1]\n",
      "Generation 8\n",
      "G:8 ->  Eval: 0.73  Gene: [1, 0, 1, 0, 1, 1, 0, 0, 0, 0, 1, 1]\n",
      "Generation 9\n",
      "G:9 ->  Eval: 0.72  Gene: [0, 0, 0, 1, 0, 1, 0, 1, 0, 0, 1, 1]\n",
      "Generation 10\n",
      "G:10 ->  Eval: 0.71  Gene: [1, 1, 0, 0, 1, 1, 0, 0, 0, 1, 1, 0]\n",
      "Best Solution -> G:8 ->  Eval: 0.727  Gene: [1, 0, 1, 0, 1, 1, 0, 0, 0, 0, 1, 1]\n"
     ]
    },
    {
     "data": {
      "text/plain": [
       "Generation: 8\n",
       "Gene: [1, 0, 1, 0, 1, 1, 0, 0, 0, 0, 1, 1]\n",
       "6 camadas com 7 neurons\n",
       "1 camadas com 4 neurons"
      ]
     },
     "execution_count": 21,
     "metadata": {},
     "output_type": "execute_result"
    }
   ],
   "source": [
    "ga2 = GeneticAlgorithm(6, X_train, X_test, y_train, y_test)\n",
    "result2 = ga2.solve(generations=10)\n",
    "result2"
   ]
  },
  {
   "cell_type": "code",
   "execution_count": 22,
   "metadata": {},
   "outputs": [
    {
     "data": {
      "text/plain": [
       "[<matplotlib.lines.Line2D at 0x20dd8c82bf0>]"
      ]
     },
     "execution_count": 22,
     "metadata": {},
     "output_type": "execute_result"
    },
    {
     "data": {
      "image/png": "[encoded data removed]",
      "text/plain": [
       "<Figure size 640x480 with 1 Axes>"
      ]
     },
     "metadata": {},
     "output_type": "display_data"
    }
   ],
   "source": [
    "loss = []\n",
    "acc = []\n",
    "for individual in ga2.pareto_frontier:\n",
    "    loss.append(individual.loss)\n",
    "    acc.append(-individual.eval)\n",
    "plt.plot(acc, loss, marker=\"*\", linestyle=\"None\")"
   ]
  },
  {
   "cell_type": "code",
   "execution_count": 28,
   "metadata": {},
   "outputs": [
    {
     "name": "stdout",
     "output_type": "stream",
     "text": [
      "Generation 0\n",
      "G:0 ->  Eval: 0.71  Gene: [1, 1, 1, 1, 0, 0, 0, 1, 1, 0, 1, 0]\n",
      "Generation 1\n",
      "G:1 ->  Eval: 0.71  Gene: [1, 1, 1, 0, 0, 0, 0, 0, 1, 1, 0, 1]\n",
      "Generation 2\n",
      "G:2 ->  Eval: 0.72  Gene: [0, 0, 1, 1, 0, 0, 0, 1, 1, 1, 0, 1]\n",
      "Generation 3\n",
      "G:3 ->  Eval: 0.72  Gene: [0, 1, 0, 0, 1, 1, 0, 0, 0, 1, 0, 1]\n",
      "Generation 4\n",
      "G:4 ->  Eval: 0.71  Gene: [0, 1, 1, 1, 0, 0, 0, 1, 0, 1, 0, 1]\n",
      "Generation 5\n",
      "G:5 ->  Eval: 0.72  Gene: [0, 0, 1, 1, 0, 0, 1, 1, 0, 1, 0, 1]\n",
      "Generation 6\n",
      "G:6 ->  Eval: 0.72  Gene: [0, 0, 1, 1, 0, 0, 1, 1, 0, 1, 0, 0]\n",
      "Generation 7\n",
      "G:7 ->  Eval: 0.71  Gene: [1, 1, 1, 0, 1, 1, 0, 0, 0, 1, 0, 1]\n",
      "Generation 8\n",
      "G:8 ->  Eval: 0.72  Gene: [0, 0, 0, 1, 0, 1, 0, 0, 0, 1, 0, 1]\n",
      "Generation 9\n",
      "G:9 ->  Eval: 0.71  Gene: [1, 1, 0, 0, 0, 1, 0, 1, 0, 0, 1, 1]\n",
      "Generation 10\n",
      "G:10 ->  Eval: 0.71  Gene: [1, 1, 0, 1, 1, 1, 0, 1, 0, 0, 1, 0]\n",
      "Best Solution -> G:2 ->  Eval: 0.72  Gene: [0, 0, 1, 1, 0, 0, 0, 1, 1, 1, 0, 1]\n"
     ]
    },
    {
     "data": {
      "text/plain": [
       "Generation: 2\n",
       "Gene: [0, 0, 1, 1, 0, 0, 0, 1, 1, 1, 0, 1]\n",
       "2 camadas com 9 neurons\n",
       "4 camadas com 6 neurons"
      ]
     },
     "execution_count": 28,
     "metadata": {},
     "output_type": "execute_result"
    }
   ],
   "source": [
    "ga3 = GeneticAlgorithm(6, X_train, X_test, y_train, y_test)\n",
    "result3 = ga3.solve(generations=10)\n",
    "result3"
   ]
  },
  {
   "cell_type": "code",
   "execution_count": 29,
   "metadata": {},
   "outputs": [
    {
     "data": {
      "text/plain": [
       "[<matplotlib.lines.Line2D at 0x20e5e1688b0>]"
      ]
     },
     "execution_count": 29,
     "metadata": {},
     "output_type": "execute_result"
    },
    {
     "data": {
      "image/png": "[encoded data removed]",
      "text/plain": [
       "<Figure size 640x480 with 1 Axes>"
      ]
     },
     "metadata": {},
     "output_type": "display_data"
    }
   ],
   "source": [
    "loss = []\n",
    "acc = []\n",
    "for individual in ga3.pareto_frontier:\n",
    "    loss.append(individual.loss)\n",
    "    acc.append(-individual.eval)\n",
    "plt.plot(acc, loss, marker=\"*\", linestyle=\"None\")"
   ]
  },
  {
   "cell_type": "code",
   "execution_count": null,
   "metadata": {},
   "outputs": [],
   "source": [
    "class GeneticAlgorithm:\n",
    "    def __init__(self, population_size: int, X_train, X_test, y_train, y_test) -> None:\n",
    "        self.population_size = population_size\n",
    "        self.population = []\n",
    "        self.generation = 0\n",
    "        self.eval_sum = 0\n",
    "        self.best_solution = 0\n",
    "        self.solution_list = []\n",
    "        self.X_train = X_train\n",
    "        self.X_test = X_test\n",
    "        self.y_train = y_train\n",
    "        self.y_test = y_test\n",
    "        self.pareto = []\n",
    "\n",
    "    def init_population(self) -> None:\n",
    "        for _ in range(self.population_size):\n",
    "            self.population.append(Individual())\n",
    "        self.best_solution = self.population[0]\n",
    "\n",
    "    def sort_population(self) -> None:\n",
    "        self.population = sorted(self.population, key=lambda individual: individual.eval, reverse=True)\n",
    "\n",
    "    def best_individual(self, individual: Individual) -> None:\n",
    "        if individual.eval > self.best_solution.eval:\n",
    "            self.best_solution = individual\n",
    "    \n",
    "    def sum_eval(self) -> float:\n",
    "        sum = 0\n",
    "        for individual in self.population:\n",
    "            sum += individual.eval\n",
    "        return sum\n",
    "\n",
    "    def select_parent(self, sum_eval:float) -> int:\n",
    "        parent = -1\n",
    "        value = np.random.rand() * sum_eval\n",
    "        sum = 0\n",
    "        i = 0\n",
    "        while i < len(self.population) and sum < value:\n",
    "            sum += self.population[i].eval\n",
    "            parent += 1\n",
    "            i += 1\n",
    "        return parent\n",
    "\n",
    "    def visualize_generation(self) -> None:\n",
    "        best = self.population[0]\n",
    "        print(f\"G:{self.population[0].generation} -> \",\n",
    "              f\"Eval: {round(best.eval, 2)}\",\n",
    "              f\" Gene: {best.gene}\")\n",
    "\n",
    "    def solve(self, mutation_rate=0.05, generations=0) -> list[int]:\n",
    "        self.init_population()\n",
    "\n",
    "        print(\"Generation 0\")\n",
    "\n",
    "        for individual in self.population:\n",
    "            individual._evaluate(self.X_train, self.X_test, self.y_train, self.y_test)\n",
    "        \n",
    "        self.sort_population()\n",
    "\n",
    "        self.best_solution = self.population[0]\n",
    "        self.solution_list.append(self.best_solution.eval)\n",
    "\n",
    "        self.visualize_generation()\n",
    "\n",
    "        for i in range(generations):\n",
    "            print(f\"Generation {i + 1}\")\n",
    "            eval_sum = self.sum_eval()\n",
    "            new_population = []\n",
    "\n",
    "            for _ in range(0, self.population_size, 2):\n",
    "                parent1 = self.select_parent(eval_sum)\n",
    "                parent2 = self.select_parent(eval_sum)\n",
    "\n",
    "                children = self.population[parent1].crossover(self.population[parent2])\n",
    "\n",
    "                new_population.append(children[0].mutation(mutation_rate))   \n",
    "                new_population.append(children[1].mutation(mutation_rate))\n",
    "\n",
    "            self.population = list(new_population)\n",
    "\n",
    "            for individual in self.population:\n",
    "                individual._evaluate(self.X_train, self.X_test, self.y_train, self.y_test)\n",
    "            \n",
    "            pareto = []\n",
    "            for individual in self.population:\n",
    "                frontier = not any((individual.loss > other_individual.loss and individual.eval < other_individual.eval) for other_individual in self.population)\n",
    "\n",
    "                if frontier:\n",
    "                    pareto.append(individual)\n",
    "\n",
    "            self.pareto.extend(pareto)\n",
    "            \n",
    "\n",
    "            self.sort_population()\n",
    "            self.visualize_generation()\n",
    "\n",
    "            self.solution_list.append(self.population[0].eval)\n",
    "\n",
    "            self.best_individual(self.population[0])\n",
    "        \n",
    "        self.pareto_frontier = []\n",
    "        for individual in self.pareto:\n",
    "            frontier = not any((individual.loss > other_individual.loss and individual.eval < other_individual.eval) for other_individual in self.pareto)\n",
    "\n",
    "            if frontier:\n",
    "                self.pareto_frontier.append(individual)\n",
    "\n",
    "        print(f\"Best Solution -> G:{self.best_solution.generation} -> \",\n",
    "              f\"Eval: {round(self.best_solution.eval, 3)}\",\n",
    "              f\" Gene: {self.best_solution.gene}\")\n",
    "        \n",
    "        return self.best_solution"
   ]
  }
 ],
 "metadata": {
  "kernelspec": {
   "display_name": "tcc",
   "language": "python",
   "name": "python3"
  },
  "language_info": {
   "codemirror_mode": {
    "name": "ipython",
    "version": 3
   },
   "file_extension": ".py",
   "mimetype": "text/x-python",
   "name": "python",
   "nbconvert_exporter": "python",
   "pygments_lexer": "ipython3",
   "version": "3.10.0"
  },
  "orig_nbformat": 4
 },
 "nbformat": 4,
 "nbformat_minor": 2
}
