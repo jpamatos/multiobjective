{
  "cells": [
    {
      "cell_type": "code",
      "execution_count": 1,
      "metadata": {
        "colab": {
          "base_uri": "https://localhost:8080/"
        },
        "id": "0M22mp3ZEiTF",
        "outputId": "3457177c-2684-4f68-97cb-a7ce792c456e"
      },
      "outputs": [
        {
          "output_type": "stream",
          "name": "stdout",
          "text": [
            "Looking in indexes: https://pypi.org/simple, https://us-python.pkg.dev/colab-wheels/public/simple/\n",
            "Collecting scikit-optimize\n",
            "  Downloading scikit_optimize-0.9.0-py2.py3-none-any.whl (100 kB)\n",
            "\u001b[2K     \u001b[90m━━━━━━━━━━━━━━━━━━━━━━━━━━━━━━━━━━━━━━━\u001b[0m \u001b[32m100.3/100.3 kB\u001b[0m \u001b[31m1.7 MB/s\u001b[0m eta \u001b[36m0:00:00\u001b[0m\n",
            "\u001b[?25hRequirement already satisfied: joblib>=0.11 in /usr/local/lib/python3.10/dist-packages (from scikit-optimize) (1.2.0)\n",
            "Collecting pyaml>=16.9 (from scikit-optimize)\n",
            "  Downloading pyaml-23.5.9-py3-none-any.whl (17 kB)\n",
            "Requirement already satisfied: numpy>=1.13.3 in /usr/local/lib/python3.10/dist-packages (from scikit-optimize) (1.22.4)\n",
            "Requirement already satisfied: scipy>=0.19.1 in /usr/local/lib/python3.10/dist-packages (from scikit-optimize) (1.10.1)\n",
            "Requirement already satisfied: scikit-learn>=0.20.0 in /usr/local/lib/python3.10/dist-packages (from scikit-optimize) (1.2.2)\n",
            "Requirement already satisfied: PyYAML in /usr/local/lib/python3.10/dist-packages (from pyaml>=16.9->scikit-optimize) (6.0)\n",
            "Requirement already satisfied: threadpoolctl>=2.0.0 in /usr/local/lib/python3.10/dist-packages (from scikit-learn>=0.20.0->scikit-optimize) (3.1.0)\n",
            "Installing collected packages: pyaml, scikit-optimize\n",
            "Successfully installed pyaml-23.5.9 scikit-optimize-0.9.0\n",
            "Looking in indexes: https://pypi.org/simple, https://us-python.pkg.dev/colab-wheels/public/simple/\n",
            "Collecting pymoo\n",
            "  Downloading pymoo-0.6.0.1-cp310-cp310-manylinux_2_5_x86_64.manylinux1_x86_64.manylinux_2_12_x86_64.manylinux2010_x86_64.whl (2.5 MB)\n",
            "\u001b[2K     \u001b[90m━━━━━━━━━━━━━━━━━━━━━━━━━━━━━━━━━━━━━━━━\u001b[0m \u001b[32m2.5/2.5 MB\u001b[0m \u001b[31m7.8 MB/s\u001b[0m eta \u001b[36m0:00:00\u001b[0m\n",
            "\u001b[?25hRequirement already satisfied: numpy>=1.15 in /usr/local/lib/python3.10/dist-packages (from pymoo) (1.22.4)\n",
            "Requirement already satisfied: scipy>=1.1 in /usr/local/lib/python3.10/dist-packages (from pymoo) (1.10.1)\n",
            "Requirement already satisfied: matplotlib>=3 in /usr/local/lib/python3.10/dist-packages (from pymoo) (3.7.1)\n",
            "Requirement already satisfied: autograd>=1.4 in /usr/local/lib/python3.10/dist-packages (from pymoo) (1.5)\n",
            "Collecting cma==3.2.2 (from pymoo)\n",
            "  Downloading cma-3.2.2-py2.py3-none-any.whl (249 kB)\n",
            "\u001b[2K     \u001b[90m━━━━━━━━━━━━━━━━━━━━━━━━━━━━━━━━━━━━━━\u001b[0m \u001b[32m249.1/249.1 kB\u001b[0m \u001b[31m20.4 MB/s\u001b[0m eta \u001b[36m0:00:00\u001b[0m\n",
            "\u001b[?25hCollecting alive-progress (from pymoo)\n",
            "  Downloading alive_progress-3.1.2-py3-none-any.whl (75 kB)\n",
            "\u001b[2K     \u001b[90m━━━━━━━━━━━━━━━━━━━━━━━━━━━━━━━━━━━━━━━━\u001b[0m \u001b[32m75.7/75.7 kB\u001b[0m \u001b[31m8.9 MB/s\u001b[0m eta \u001b[36m0:00:00\u001b[0m\n",
            "\u001b[?25hCollecting dill (from pymoo)\n",
            "  Downloading dill-0.3.6-py3-none-any.whl (110 kB)\n",
            "\u001b[2K     \u001b[90m━━━━━━━━━━━━━━━━━━━━━━━━━━━━━━━━━━━━━━━\u001b[0m \u001b[32m110.5/110.5 kB\u001b[0m \u001b[31m1.8 MB/s\u001b[0m eta \u001b[36m0:00:00\u001b[0m\n",
            "\u001b[?25hCollecting Deprecated (from pymoo)\n",
            "  Downloading Deprecated-1.2.13-py2.py3-none-any.whl (9.6 kB)\n",
            "Requirement already satisfied: future>=0.15.2 in /usr/local/lib/python3.10/dist-packages (from autograd>=1.4->pymoo) (0.18.3)\n",
            "Requirement already satisfied: contourpy>=1.0.1 in /usr/local/lib/python3.10/dist-packages (from matplotlib>=3->pymoo) (1.0.7)\n",
            "Requirement already satisfied: cycler>=0.10 in /usr/local/lib/python3.10/dist-packages (from matplotlib>=3->pymoo) (0.11.0)\n",
            "Requirement already satisfied: fonttools>=4.22.0 in /usr/local/lib/python3.10/dist-packages (from matplotlib>=3->pymoo) (4.39.3)\n",
            "Requirement already satisfied: kiwisolver>=1.0.1 in /usr/local/lib/python3.10/dist-packages (from matplotlib>=3->pymoo) (1.4.4)\n",
            "Requirement already satisfied: packaging>=20.0 in /usr/local/lib/python3.10/dist-packages (from matplotlib>=3->pymoo) (23.1)\n",
            "Requirement already satisfied: pillow>=6.2.0 in /usr/local/lib/python3.10/dist-packages (from matplotlib>=3->pymoo) (8.4.0)\n",
            "Requirement already satisfied: pyparsing>=2.3.1 in /usr/local/lib/python3.10/dist-packages (from matplotlib>=3->pymoo) (3.0.9)\n",
            "Requirement already satisfied: python-dateutil>=2.7 in /usr/local/lib/python3.10/dist-packages (from matplotlib>=3->pymoo) (2.8.2)\n",
            "Collecting about-time==4.2.1 (from alive-progress->pymoo)\n",
            "  Downloading about_time-4.2.1-py3-none-any.whl (13 kB)\n",
            "Collecting grapheme==0.6.0 (from alive-progress->pymoo)\n",
            "  Downloading grapheme-0.6.0.tar.gz (207 kB)\n",
            "\u001b[2K     \u001b[90m━━━━━━━━━━━━━━━━━━━━━━━━━━━━━━━━━━━━━━\u001b[0m \u001b[32m207.3/207.3 kB\u001b[0m \u001b[31m21.7 MB/s\u001b[0m eta \u001b[36m0:00:00\u001b[0m\n",
            "\u001b[?25h  Preparing metadata (setup.py) ... \u001b[?25l\u001b[?25hdone\n",
            "Requirement already satisfied: wrapt<2,>=1.10 in /usr/local/lib/python3.10/dist-packages (from Deprecated->pymoo) (1.14.1)\n",
            "Requirement already satisfied: six>=1.5 in /usr/local/lib/python3.10/dist-packages (from python-dateutil>=2.7->matplotlib>=3->pymoo) (1.16.0)\n",
            "Building wheels for collected packages: grapheme\n",
            "  Building wheel for grapheme (setup.py) ... \u001b[?25l\u001b[?25hdone\n",
            "  Created wheel for grapheme: filename=grapheme-0.6.0-py3-none-any.whl size=210079 sha256=090f48bbebbdf0f027cd924959a437570494fb4309c863f694fe48ca5e9ea968\n",
            "  Stored in directory: /root/.cache/pip/wheels/01/e1/49/37e6bde9886439057450c494a79b0bef8bbe897a54aebfc757\n",
            "Successfully built grapheme\n",
            "Installing collected packages: grapheme, dill, Deprecated, cma, about-time, alive-progress, pymoo\n",
            "Successfully installed Deprecated-1.2.13 about-time-4.2.1 alive-progress-3.1.2 cma-3.2.2 dill-0.3.6 grapheme-0.6.0 pymoo-0.6.0.1\n"
          ]
        }
      ],
      "source": [
        "!pip install scikit-optimize\n",
        "!pip install -U pymoo"
      ]
    },
    {
      "cell_type": "code",
      "execution_count": 2,
      "metadata": {
        "id": "Gmbl9OdB6VNk"
      },
      "outputs": [],
      "source": [
        "import numpy as np\n",
        "import tensorflow as tf\n",
        "from tensorflow import keras\n",
        "from tensorflow.keras import layers\n",
        "from tensorflow.keras.datasets import mnist\n",
        "from skopt import gp_minimize\n",
        "import matplotlib.pyplot as plt"
      ]
    },
    {
      "cell_type": "code",
      "execution_count": 3,
      "metadata": {
        "id": "pyudxZyF6XyA",
        "colab": {
          "base_uri": "https://localhost:8080/"
        },
        "outputId": "4381c7ba-cda1-481c-8022-cb26a533ff33"
      },
      "outputs": [
        {
          "output_type": "stream",
          "name": "stdout",
          "text": [
            "Downloading data from https://storage.googleapis.com/tensorflow/tf-keras-datasets/mnist.npz\n",
            "11490434/11490434 [==============================] - 1s 0us/step\n"
          ]
        }
      ],
      "source": [
        "# Carregar os dados\n",
        "(x_train, y_train), (x_test, y_test) = mnist.load_data()\n",
        "\n",
        "train_mask = np.logical_or(y_train == 0, y_train == 1)\n",
        "test_mask = np.logical_or(y_test == 0, y_test == 1)\n",
        "x_train, y_train = x_train[train_mask], y_train[train_mask]\n",
        "x_test, y_test = x_test[test_mask], y_test[test_mask]\n",
        "\n",
        "# Normalizar os dados\n",
        "x_train = x_train.astype(\"float32\") / 255\n",
        "x_test = x_test.astype(\"float32\") / 255\n",
        "x_train = np.expand_dims(x_train, -1)\n",
        "x_test = np.expand_dims(x_test, -1)\n",
        "y_train = keras.utils.to_categorical(y_train, 2)\n",
        "y_test = keras.utils.to_categorical(y_test, 2)"
      ]
    },
    {
      "cell_type": "code",
      "execution_count": 4,
      "metadata": {
        "id": "1Nd8ChUN6aIk"
      },
      "outputs": [],
      "source": [
        "def build_cnn_model():\n",
        "    # Criar o modelo da rede neural convolucional\n",
        "    model = keras.Sequential([\n",
        "        layers.Input(shape=(28, 28, 1)),\n",
        "        layers.Conv2D(32, kernel_size=(3, 3), activation=\"relu\"),\n",
        "        layers.MaxPooling2D(pool_size=(2, 2)),\n",
        "        layers.Conv2D(64, kernel_size=(3, 3), activation=\"relu\"),\n",
        "        layers.MaxPooling2D(pool_size=(2, 2)),\n",
        "        layers.Flatten(),\n",
        "        layers.Dense(128, activation=\"relu\"),\n",
        "        layers.Dense(2, activation=\"softmax\")\n",
        "    ])\n",
        "\n",
        "    return model"
      ]
    },
    {
      "cell_type": "code",
      "execution_count": 5,
      "metadata": {
        "id": "EEAbceIj6b1U"
      },
      "outputs": [],
      "source": [
        "def chebyshev_loss(y_true, y_pred, model, lambda1, lambda2):\n",
        "    # Função de perda Categorical Crossentropy\n",
        "    ce_loss = keras.losses.CategoricalCrossentropy()(y_true, y_pred)\n",
        "\n",
        "    # Função de regularização L2\n",
        "    l2_loss = sum([tf.nn.l2_loss(layer.kernel) for layer in model.layers if 'Conv2D' in str(layer) or 'Dense' in str(layer)])\n",
        "\n",
        "    # Combinar as funções de perda com os pesos de Chebyshev\n",
        "    combined_loss = lambda1 * ce_loss + lambda2 * l2_loss\n",
        "\n",
        "    return combined_loss"
      ]
    },
    {
      "cell_type": "code",
      "execution_count": 6,
      "metadata": {
        "id": "V_bXhGPe6eqz"
      },
      "outputs": [],
      "source": [
        "def objective(params):\n",
        "    lambda1, lambda2 = params\n",
        "    \n",
        "    # Construir o modelo da CNN\n",
        "    model = build_cnn_model()\n",
        "\n",
        "    # Compilar o modelo com a função de perda personalizada e otimizador\n",
        "    model.compile(loss=lambda y_true, y_pred: chebyshev_loss(y_true, y_pred, model, lambda1, lambda2), optimizer=keras.optimizers.Adam(), metrics=[\"accuracy\"])\n",
        "\n",
        "    # Treinar o modelo\n",
        "    model.fit(x_train, y_train, batch_size=128, epochs=2, validation_split=0.1, verbose=1)\n",
        "\n",
        "    # Avaliar o desempenho do modelo\n",
        "    score = model.evaluate(x_test, y_test, verbose=0)\n",
        "    \n",
        "    return score[0]"
      ]
    },
    {
      "cell_type": "code",
      "execution_count": 7,
      "metadata": {
        "colab": {
          "base_uri": "https://localhost:8080/"
        },
        "id": "9Ih5GXdY6ld1",
        "outputId": "6990cfd8-1106-4ff1-8a36-e997cebcfeca"
      },
      "outputs": [
        {
          "output_type": "stream",
          "name": "stdout",
          "text": [
            "Iteration No: 1 started. Evaluating function at random point.\n",
            "Epoch 1/2\n",
            "90/90 [==============================] - 19s 200ms/step - loss: 0.0602 - accuracy: 0.9855 - val_loss: 0.0045 - val_accuracy: 0.9890\n",
            "Epoch 2/2\n",
            "90/90 [==============================] - 13s 144ms/step - loss: 0.0035 - accuracy: 0.9924 - val_loss: 0.0031 - val_accuracy: 0.9890\n",
            "Iteration No: 1 ended. Evaluation done at random point.\n",
            "Time taken: 33.5091\n",
            "Function value obtained: 0.0030\n",
            "Current minimum: 0.0030\n",
            "Iteration No: 2 started. Evaluating function at random point.\n",
            "Epoch 1/2\n",
            "90/90 [==============================] - 11s 114ms/step - loss: 0.1805 - accuracy: 0.7804 - val_loss: 0.0107 - val_accuracy: 0.5162\n",
            "Epoch 2/2\n",
            "90/90 [==============================] - 10s 112ms/step - loss: 0.0075 - accuracy: 0.5341 - val_loss: 0.0061 - val_accuracy: 0.5162\n",
            "Iteration No: 2 ended. Evaluation done at random point.\n",
            "Time taken: 22.1738\n",
            "Function value obtained: 0.0060\n",
            "Current minimum: 0.0030\n",
            "Iteration No: 3 started. Evaluating function at random point.\n",
            "Epoch 1/2\n",
            "90/90 [==============================] - 12s 118ms/step - loss: 0.0344 - accuracy: 0.9818 - val_loss: 0.0024 - val_accuracy: 0.9961\n",
            "Epoch 2/2\n",
            "90/90 [==============================] - 10s 112ms/step - loss: 0.0019 - accuracy: 0.9933 - val_loss: 0.0017 - val_accuracy: 0.9929\n",
            "Iteration No: 3 ended. Evaluation done at random point.\n",
            "Time taken: 42.6875\n",
            "Function value obtained: 0.0017\n",
            "Current minimum: 0.0017\n",
            "Iteration No: 4 started. Evaluating function at random point.\n",
            "Epoch 1/2\n",
            "90/90 [==============================] - 11s 115ms/step - loss: 0.1028 - accuracy: 0.9580 - val_loss: 0.0062 - val_accuracy: 0.8737\n",
            "Epoch 2/2\n",
            "90/90 [==============================] - 10s 116ms/step - loss: 0.0044 - accuracy: 0.5921 - val_loss: 0.0036 - val_accuracy: 0.5162\n",
            "Iteration No: 4 ended. Evaluation done at random point.\n",
            "Time taken: 43.0876\n",
            "Function value obtained: 0.0036\n",
            "Current minimum: 0.0017\n",
            "Iteration No: 5 started. Evaluating function at random point.\n",
            "Epoch 1/2\n",
            "90/90 [==============================] - 10s 97ms/step - loss: 0.1920 - accuracy: 0.5589 - val_loss: 0.0067 - val_accuracy: 0.5162\n",
            "Epoch 2/2\n",
            "90/90 [==============================] - 10s 112ms/step - loss: 0.0033 - accuracy: 0.5341 - val_loss: 0.0018 - val_accuracy: 0.5162\n",
            "Iteration No: 5 ended. Evaluation done at random point.\n",
            "Time taken: 22.3511\n",
            "Function value obtained: 0.0018\n",
            "Current minimum: 0.0017\n",
            "Iteration No: 6 started. Evaluating function at random point.\n",
            "Epoch 1/2\n",
            "90/90 [==============================] - 11s 112ms/step - loss: 0.2112 - accuracy: 0.5641 - val_loss: 0.0064 - val_accuracy: 0.5162\n",
            "Epoch 2/2\n",
            "90/90 [==============================] - 10s 111ms/step - loss: 0.0028 - accuracy: 0.5341 - val_loss: 0.0012 - val_accuracy: 0.5162\n",
            "Iteration No: 6 ended. Evaluation done at random point.\n",
            "Time taken: 22.0348\n",
            "Function value obtained: 0.0012\n",
            "Current minimum: 0.0012\n",
            "Iteration No: 7 started. Evaluating function at random point.\n",
            "Epoch 1/2\n",
            "90/90 [==============================] - 11s 115ms/step - loss: 0.0060 - accuracy: 0.9909 - val_loss: 0.0013 - val_accuracy: 0.9984\n",
            "Epoch 2/2\n",
            "90/90 [==============================] - 9s 105ms/step - loss: 7.9577e-04 - accuracy: 0.9975 - val_loss: 8.5499e-04 - val_accuracy: 0.9874\n",
            "Iteration No: 7 ended. Evaluation done at random point.\n",
            "Time taken: 22.3654\n",
            "Function value obtained: 0.0010\n",
            "Current minimum: 0.0010\n",
            "Iteration No: 8 started. Evaluating function at random point.\n",
            "Epoch 1/2\n",
            "90/90 [==============================] - 10s 103ms/step - loss: 0.1878 - accuracy: 0.9809 - val_loss: 0.0114 - val_accuracy: 0.9850\n",
            "Epoch 2/2\n",
            "90/90 [==============================] - 10s 108ms/step - loss: 0.0086 - accuracy: 0.9913 - val_loss: 0.0075 - val_accuracy: 0.9850\n",
            "Iteration No: 8 ended. Evaluation done at random point.\n",
            "Time taken: 20.9816\n",
            "Function value obtained: 0.0074\n",
            "Current minimum: 0.0010\n",
            "Iteration No: 9 started. Evaluating function at random point.\n",
            "Epoch 1/2\n",
            "90/90 [==============================] - 11s 114ms/step - loss: 0.0075 - accuracy: 0.9846 - val_loss: 0.0010 - val_accuracy: 0.9945\n",
            "Epoch 2/2\n",
            "90/90 [==============================] - 10s 111ms/step - loss: 6.5861e-04 - accuracy: 0.9968 - val_loss: 6.0066e-04 - val_accuracy: 0.9905\n",
            "Iteration No: 9 ended. Evaluation done at random point.\n",
            "Time taken: 22.0619\n",
            "Function value obtained: 0.0005\n",
            "Current minimum: 0.0005\n",
            "Iteration No: 10 started. Evaluating function at random point.\n",
            "Epoch 1/2\n",
            "90/90 [==============================] - 11s 114ms/step - loss: 0.1547 - accuracy: 0.6262 - val_loss: 0.0044 - val_accuracy: 0.5162\n",
            "Epoch 2/2\n",
            "90/90 [==============================] - 9s 95ms/step - loss: 0.0018 - accuracy: 0.5341 - val_loss: 6.9119e-04 - val_accuracy: 0.5162\n",
            "Iteration No: 10 ended. Evaluation done at random point.\n",
            "Time taken: 21.7797\n",
            "Function value obtained: 0.0007\n",
            "Current minimum: 0.0005\n",
            "Melhores hiperparâmetros encontrados: lambda1 = 0.0061553662888339826, lambda2 = 0.00016995642167520235\n"
          ]
        }
      ],
      "source": [
        "space = [(0.0001, 0.01, \"uniform\"), (0.0001, 0.01, \"uniform\")]\n",
        "\n",
        "result = gp_minimize(func=objective, dimensions=space, n_calls=10, random_state=42, verbose=1)\n",
        "\n",
        "#Imprimir os melhores hiperparâmetros encontrados\n",
        "best_lambda1, best_lambda2 = result.x\n",
        "print(f\"Melhores hiperparâmetros encontrados: lambda1 = {best_lambda1}, lambda2 = {best_lambda2}\")"
      ]
    },
    {
      "cell_type": "code",
      "execution_count": 8,
      "metadata": {
        "colab": {
          "base_uri": "https://localhost:8080/"
        },
        "id": "y6HiCGIXAHVW",
        "outputId": "54ee9273-26cb-4c7b-beb7-fb5006bd4c71"
      },
      "outputs": [
        {
          "output_type": "stream",
          "name": "stdout",
          "text": [
            "Epoch 1/2\n",
            "90/90 [==============================] - 10s 97ms/step - loss: 0.0344 - accuracy: 0.9913 - val_loss: 0.0014 - val_accuracy: 0.9992\n",
            "Epoch 2/2\n",
            "90/90 [==============================] - 10s 112ms/step - loss: 0.0029 - accuracy: 0.9993 - val_loss: 2.5996e-04 - val_accuracy: 1.0000\n",
            "67/67 [==============================] - 1s 9ms/step - loss: 0.0030 - accuracy: 0.9995\n",
            "Test loss: 0.0029672093223780394, Test accuracy: 0.9995272159576416\n"
          ]
        }
      ],
      "source": [
        "#Construir e treinar o melhor base\n",
        "base_model = build_cnn_model()\n",
        "base_model.compile(loss=\"categorical_crossentropy\", optimizer=keras.optimizers.Adam(), metrics=[\"accuracy\"])\n",
        "base_model.fit(x_train, y_train, batch_size=128, epochs=2, validation_split=0.1, verbose=1)\n",
        "\n",
        "#Avaliar o melhor base\n",
        "score = base_model.evaluate(x_test, y_test, verbose=1)\n",
        "print(f\"Test loss: {score[0]}, Test accuracy: {score[1]}\")"
      ]
    },
    {
      "cell_type": "code",
      "execution_count": 9,
      "metadata": {
        "id": "qgaRJq6M6784",
        "colab": {
          "base_uri": "https://localhost:8080/"
        },
        "outputId": "291369da-9cac-449e-cd6b-93a9c3c6a148"
      },
      "outputs": [
        {
          "output_type": "stream",
          "name": "stdout",
          "text": [
            "Epoch 1/2\n",
            "90/90 [==============================] - 12s 115ms/step - loss: 0.0072 - accuracy: 0.9891 - val_loss: 8.8209e-04 - val_accuracy: 0.9976\n",
            "Epoch 2/2\n",
            "90/90 [==============================] - 10s 112ms/step - loss: 6.1858e-04 - accuracy: 0.9964 - val_loss: 4.6378e-04 - val_accuracy: 0.9984\n",
            "67/67 [==============================] - 1s 9ms/step - loss: 4.5335e-04 - accuracy: 0.9991\n",
            "Test loss: 0.00045335464528761804, Test accuracy: 0.9990543723106384\n"
          ]
        }
      ],
      "source": [
        "#Construir e treinar o melhor modelo\n",
        "best_model = build_cnn_model()\n",
        "best_model.compile(loss=lambda y_true, y_pred: chebyshev_loss(y_true, y_pred, best_model, best_lambda1, best_lambda2),\n",
        "optimizer=keras.optimizers.Adam(), metrics=[\"accuracy\"])\n",
        "best_model.fit(x_train, y_train, batch_size=128, epochs=2, validation_split=0.1, verbose=1)\n",
        "\n",
        "#Avaliar o melhor modelo\n",
        "score = best_model.evaluate(x_test, y_test, verbose=1)\n",
        "print(f\"Test loss: {score[0]}, Test accuracy: {score[1]}\")"
      ]
    }
  ],
  "metadata": {
    "colab": {
      "provenance": []
    },
    "kernelspec": {
      "display_name": "Python 3",
      "name": "python3"
    },
    "language_info": {
      "name": "python"
    }
  },
  "nbformat": 4,
  "nbformat_minor": 0
}