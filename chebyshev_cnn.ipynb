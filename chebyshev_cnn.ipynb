{
  "cells": [
    {
      "cell_type": "code",
      "execution_count": null,
      "metadata": {
        "colab": {
          "base_uri": "https://localhost:8080/"
        },
        "id": "0M22mp3ZEiTF",
        "outputId": "176f078b-bc10-4287-9bf0-a543bdbf3fb8"
      },
      "outputs": [
        {
          "name": "stdout",
          "output_type": "stream",
          "text": [
            "Looking in indexes: https://pypi.org/simple, https://us-python.pkg.dev/colab-wheels/public/simple/\n",
            "Requirement already satisfied: scikit-optimize in /usr/local/lib/python3.10/dist-packages (0.9.0)\n",
            "Requirement already satisfied: joblib>=0.11 in /usr/local/lib/python3.10/dist-packages (from scikit-optimize) (1.2.0)\n",
            "Requirement already satisfied: pyaml>=16.9 in /usr/local/lib/python3.10/dist-packages (from scikit-optimize) (23.5.9)\n",
            "Requirement already satisfied: numpy>=1.13.3 in /usr/local/lib/python3.10/dist-packages (from scikit-optimize) (1.22.4)\n",
            "Requirement already satisfied: scipy>=0.19.1 in /usr/local/lib/python3.10/dist-packages (from scikit-optimize) (1.10.1)\n",
            "Requirement already satisfied: scikit-learn>=0.20.0 in /usr/local/lib/python3.10/dist-packages (from scikit-optimize) (1.2.2)\n",
            "Requirement already satisfied: PyYAML in /usr/local/lib/python3.10/dist-packages (from pyaml>=16.9->scikit-optimize) (6.0)\n",
            "Requirement already satisfied: threadpoolctl>=2.0.0 in /usr/local/lib/python3.10/dist-packages (from scikit-learn>=0.20.0->scikit-optimize) (3.1.0)\n",
            "Looking in indexes: https://pypi.org/simple, https://us-python.pkg.dev/colab-wheels/public/simple/\n",
            "Requirement already satisfied: pymoo in /usr/local/lib/python3.10/dist-packages (0.6.0.1)\n",
            "Requirement already satisfied: numpy>=1.15 in /usr/local/lib/python3.10/dist-packages (from pymoo) (1.22.4)\n",
            "Requirement already satisfied: scipy>=1.1 in /usr/local/lib/python3.10/dist-packages (from pymoo) (1.10.1)\n",
            "Requirement already satisfied: matplotlib>=3 in /usr/local/lib/python3.10/dist-packages (from pymoo) (3.7.1)\n",
            "Requirement already satisfied: autograd>=1.4 in /usr/local/lib/python3.10/dist-packages (from pymoo) (1.5)\n",
            "Requirement already satisfied: cma==3.2.2 in /usr/local/lib/python3.10/dist-packages (from pymoo) (3.2.2)\n",
            "Requirement already satisfied: alive-progress in /usr/local/lib/python3.10/dist-packages (from pymoo) (3.1.2)\n",
            "Requirement already satisfied: dill in /usr/local/lib/python3.10/dist-packages (from pymoo) (0.3.6)\n",
            "Requirement already satisfied: Deprecated in /usr/local/lib/python3.10/dist-packages (from pymoo) (1.2.13)\n",
            "Requirement already satisfied: future>=0.15.2 in /usr/local/lib/python3.10/dist-packages (from autograd>=1.4->pymoo) (0.18.3)\n",
            "Requirement already satisfied: contourpy>=1.0.1 in /usr/local/lib/python3.10/dist-packages (from matplotlib>=3->pymoo) (1.0.7)\n",
            "Requirement already satisfied: cycler>=0.10 in /usr/local/lib/python3.10/dist-packages (from matplotlib>=3->pymoo) (0.11.0)\n",
            "Requirement already satisfied: fonttools>=4.22.0 in /usr/local/lib/python3.10/dist-packages (from matplotlib>=3->pymoo) (4.39.3)\n",
            "Requirement already satisfied: kiwisolver>=1.0.1 in /usr/local/lib/python3.10/dist-packages (from matplotlib>=3->pymoo) (1.4.4)\n",
            "Requirement already satisfied: packaging>=20.0 in /usr/local/lib/python3.10/dist-packages (from matplotlib>=3->pymoo) (23.1)\n",
            "Requirement already satisfied: pillow>=6.2.0 in /usr/local/lib/python3.10/dist-packages (from matplotlib>=3->pymoo) (8.4.0)\n",
            "Requirement already satisfied: pyparsing>=2.3.1 in /usr/local/lib/python3.10/dist-packages (from matplotlib>=3->pymoo) (3.0.9)\n",
            "Requirement already satisfied: python-dateutil>=2.7 in /usr/local/lib/python3.10/dist-packages (from matplotlib>=3->pymoo) (2.8.2)\n",
            "Requirement already satisfied: about-time==4.2.1 in /usr/local/lib/python3.10/dist-packages (from alive-progress->pymoo) (4.2.1)\n",
            "Requirement already satisfied: grapheme==0.6.0 in /usr/local/lib/python3.10/dist-packages (from alive-progress->pymoo) (0.6.0)\n",
            "Requirement already satisfied: wrapt<2,>=1.10 in /usr/local/lib/python3.10/dist-packages (from Deprecated->pymoo) (1.14.1)\n",
            "Requirement already satisfied: six>=1.5 in /usr/local/lib/python3.10/dist-packages (from python-dateutil>=2.7->matplotlib>=3->pymoo) (1.16.0)\n"
          ]
        }
      ],
      "source": [
        "!pip install scikit-optimize\n",
        "!pip install -U pymoo"
      ]
    },
    {
      "cell_type": "code",
      "execution_count": null,
      "metadata": {
        "id": "Gmbl9OdB6VNk"
      },
      "outputs": [],
      "source": [
        "import numpy as np\n",
        "import tensorflow as tf\n",
        "from tensorflow import keras\n",
        "from tensorflow.keras import layers\n",
        "from tensorflow.keras.datasets import mnist\n",
        "from skopt import gp_minimize\n",
        "import matplotlib.pyplot as plt"
      ]
    },
    {
      "cell_type": "code",
      "execution_count": null,
      "metadata": {
        "id": "pyudxZyF6XyA"
      },
      "outputs": [],
      "source": [
        "# Carregar os dados\n",
        "(x_train, y_train), (x_test, y_test) = mnist.load_data()\n",
        "\n",
        "# Normalizar os dados\n",
        "x_train = x_train.astype(\"float32\") / 255\n",
        "x_test = x_test.astype(\"float32\") / 255\n",
        "x_train = np.expand_dims(x_train, -1)\n",
        "x_test = np.expand_dims(x_test, -1)\n",
        "y_train = keras.utils.to_categorical(y_train, 10)\n",
        "y_test = keras.utils.to_categorical(y_test, 10)"
      ]
    },
    {
      "cell_type": "code",
      "execution_count": null,
      "metadata": {
        "id": "1Nd8ChUN6aIk"
      },
      "outputs": [],
      "source": [
        "def build_cnn_model():\n",
        "    # Criar o modelo da rede neural convolucional\n",
        "    model = keras.Sequential([\n",
        "        layers.Input(shape=(28, 28, 1)),\n",
        "        layers.Conv2D(32, kernel_size=(3, 3), activation=\"relu\"),\n",
        "        layers.MaxPooling2D(pool_size=(2, 2)),\n",
        "        layers.Conv2D(64, kernel_size=(3, 3), activation=\"relu\"),\n",
        "        layers.MaxPooling2D(pool_size=(2, 2)),\n",
        "        layers.Flatten(),\n",
        "        layers.Dense(128, activation=\"relu\"),\n",
        "        layers.Dense(10, activation=\"softmax\")\n",
        "    ])\n",
        "\n",
        "    return model"
      ]
    },
    {
      "cell_type": "code",
      "execution_count": null,
      "metadata": {
        "id": "EEAbceIj6b1U"
      },
      "outputs": [],
      "source": [
        "def chebyshev_loss(y_true, y_pred, model, lambda1, lambda2):\n",
        "    # Função de perda Categorical Crossentropy\n",
        "    ce_loss = keras.losses.CategoricalCrossentropy()(y_true, y_pred)\n",
        "\n",
        "    # Função de regularização L2\n",
        "    l2_loss = sum([tf.nn.l2_loss(layer.kernel) for layer in model.layers if 'Conv2D' in str(layer) or 'Dense' in str(layer)])\n",
        "\n",
        "    # Combinar as funções de perda com os pesos de Chebyshev\n",
        "    combined_loss = lambda1 * ce_loss + lambda2 * l2_loss\n",
        "\n",
        "    return combined_loss"
      ]
    },
    {
      "cell_type": "code",
      "execution_count": null,
      "metadata": {
        "id": "V_bXhGPe6eqz"
      },
      "outputs": [],
      "source": [
        "def objective(params):\n",
        "    lambda1, lambda2 = params\n",
        "    \n",
        "    # Construir o modelo da CNN\n",
        "    model = build_cnn_model()\n",
        "\n",
        "    # Compilar o modelo com a função de perda personalizada e otimizador\n",
        "    model.compile(loss=lambda y_true, y_pred: chebyshev_loss(y_true, y_pred, model, lambda1, lambda2), optimizer=keras.optimizers.Adam(), metrics=[\"accuracy\"])\n",
        "\n",
        "    # Treinar o modelo\n",
        "    model.fit(x_train, y_train, batch_size=128, epochs=2, validation_split=0.1, verbose=1)\n",
        "\n",
        "    # Avaliar o desempenho do modelo\n",
        "    score = model.evaluate(x_test, y_test, verbose=0)\n",
        "    \n",
        "    return score[0]"
      ]
    },
    {
      "cell_type": "code",
      "execution_count": null,
      "metadata": {
        "colab": {
          "background_save": true,
          "base_uri": "https://localhost:8080/"
        },
        "id": "9Ih5GXdY6ld1",
        "outputId": "1afe3b81-afdc-4c56-9749-9a034811f6c4"
      },
      "outputs": [
        {
          "name": "stdout",
          "output_type": "stream",
          "text": [
            "Iteration No: 1 started. Evaluating function at random point.\n",
            "Epoch 1/2\n",
            "422/422 [==============================] - 63s 146ms/step - loss: 0.0302 - accuracy: 0.6877 - val_loss: 0.0151 - val_accuracy: 0.8095\n",
            "Epoch 2/2\n",
            "422/422 [==============================] - 47s 111ms/step - loss: 0.0155 - accuracy: 0.7741 - val_loss: 0.0152 - val_accuracy: 0.7815\n",
            "Iteration No: 1 ended. Evaluation done at random point.\n",
            "Time taken: 146.3534\n",
            "Function value obtained: 0.0154\n",
            "Current minimum: 0.0154\n",
            "Iteration No: 2 started. Evaluating function at random point.\n",
            "Epoch 1/2\n",
            "422/422 [==============================] - 50s 114ms/step - loss: 0.0619 - accuracy: 0.1221 - val_loss: 0.0180 - val_accuracy: 0.1050\n",
            "Epoch 2/2\n",
            "422/422 [==============================] - 49s 116ms/step - loss: 0.0180 - accuracy: 0.1132 - val_loss: 0.0180 - val_accuracy: 0.1050\n",
            "Iteration No: 2 ended. Evaluation done at random point.\n",
            "Time taken: 104.4202\n",
            "Function value obtained: 0.0180\n",
            "Current minimum: 0.0154\n",
            "Iteration No: 3 started. Evaluating function at random point.\n",
            "Epoch 1/2\n",
            "422/422 [==============================] - 50s 117ms/step - loss: 0.0172 - accuracy: 0.6973 - val_loss: 0.0087 - val_accuracy: 0.7690\n",
            "Epoch 2/2\n",
            "422/422 [==============================] - 47s 112ms/step - loss: 0.0088 - accuracy: 0.7691 - val_loss: 0.0085 - val_accuracy: 0.7957\n",
            "Iteration No: 3 ended. Evaluation done at random point.\n",
            "Time taken: 145.9265\n",
            "Function value obtained: 0.0086\n",
            "Current minimum: 0.0086\n",
            "Iteration No: 4 started. Evaluating function at random point.\n",
            "Epoch 1/2\n",
            "422/422 [==============================] - 51s 118ms/step - loss: 0.0360 - accuracy: 0.1181 - val_loss: 0.0107 - val_accuracy: 0.1050\n",
            "Epoch 2/2\n",
            "422/422 [==============================] - 48s 114ms/step - loss: 0.0107 - accuracy: 0.1132 - val_loss: 0.0107 - val_accuracy: 0.1050\n",
            "Iteration No: 4 ended. Evaluation done at random point.\n",
            "Time taken: 104.4348\n",
            "Function value obtained: 0.0107\n",
            "Current minimum: 0.0086\n",
            "Iteration No: 5 started. Evaluating function at random point.\n",
            "Epoch 1/2\n",
            "422/422 [==============================] - 52s 120ms/step - loss: 0.0515 - accuracy: 0.1130 - val_loss: 0.0035 - val_accuracy: 0.1050\n",
            "Epoch 2/2\n",
            "422/422 [==============================] - 47s 111ms/step - loss: 0.0035 - accuracy: 0.1132 - val_loss: 0.0035 - val_accuracy: 0.1050\n",
            "Iteration No: 5 ended. Evaluation done at random point.\n",
            "Time taken: 101.7761\n",
            "Function value obtained: 0.0035\n",
            "Current minimum: 0.0035\n",
            "Iteration No: 6 started. Evaluating function at random point.\n",
            "Epoch 1/2\n",
            "422/422 [==============================] - 50s 115ms/step - loss: 0.0546 - accuracy: 0.1133 - val_loss: 0.0015 - val_accuracy: 0.1050\n",
            "Epoch 2/2\n",
            "422/422 [==============================] - 49s 116ms/step - loss: 0.0015 - accuracy: 0.1132 - val_loss: 0.0015 - val_accuracy: 0.1050\n",
            "Iteration No: 6 ended. Evaluation done at random point.\n",
            "Time taken: 148.0225\n",
            "Function value obtained: 0.0015\n",
            "Current minimum: 0.0015\n",
            "Iteration No: 7 started. Evaluating function at random point.\n",
            "Epoch 1/2\n",
            "422/422 [==============================] - 50s 116ms/step - loss: 0.0072 - accuracy: 0.9173 - val_loss: 0.0036 - val_accuracy: 0.9680\n",
            "Epoch 2/2\n",
            "422/422 [==============================] - 49s 117ms/step - loss: 0.0034 - accuracy: 0.9616 - val_loss: 0.0032 - val_accuracy: 0.9648\n",
            "Iteration No: 7 ended. Evaluation done at random point.\n",
            "Time taken: 102.0871\n",
            "Function value obtained: 0.0032\n",
            "Current minimum: 0.0015\n",
            "Iteration No: 8 started. Evaluating function at random point.\n",
            "Epoch 1/2\n",
            "422/422 [==============================] - 49s 114ms/step - loss: 0.0683 - accuracy: 0.1239 - val_loss: 0.0228 - val_accuracy: 0.1050\n",
            "Epoch 2/2\n",
            "422/422 [==============================] - 47s 112ms/step - loss: 0.0228 - accuracy: 0.1132 - val_loss: 0.0228 - val_accuracy: 0.1050\n",
            "Iteration No: 8 ended. Evaluation done at random point.\n",
            "Time taken: 101.8146\n",
            "Function value obtained: 0.0228\n",
            "Current minimum: 0.0015\n",
            "Iteration No: 9 started. Evaluating function at random point.\n",
            "Epoch 1/2\n",
            "422/422 [==============================] - 49s 112ms/step - loss: 0.0067 - accuracy: 0.8953 - val_loss: 0.0033 - val_accuracy: 0.9660\n",
            "Epoch 2/2\n",
            "422/422 [==============================] - 47s 112ms/step - loss: 0.0034 - accuracy: 0.9449 - val_loss: 0.0031 - val_accuracy: 0.9635\n",
            "Iteration No: 9 ended. Evaluation done at random point.\n",
            "Time taken: 146.1987\n",
            "Function value obtained: 0.0032\n",
            "Current minimum: 0.0015\n",
            "Iteration No: 10 started. Evaluating function at random point.\n",
            "Epoch 1/2\n",
            "422/422 [==============================] - 49s 112ms/step - loss: 0.0391 - accuracy: 0.1259 - val_loss: 7.6092e-04 - val_accuracy: 0.1050\n",
            "Epoch 2/2\n",
            "422/422 [==============================] - 47s 111ms/step - loss: 7.5593e-04 - accuracy: 0.1132 - val_loss: 7.5580e-04 - val_accuracy: 0.1050\n",
            "Iteration No: 10 ended. Evaluation done at random point.\n",
            "Time taken: 146.8828\n",
            "Function value obtained: 0.0008\n",
            "Current minimum: 0.0008\n",
            "Melhores hiperparâmetros encontrados: lambda1 = 0.00032831800791001604, lambda2 = 0.005295269136558054\n"
          ]
        }
      ],
      "source": [
        "space = [(0.0001, 0.01, \"uniform\"), (0.0001, 0.01, \"uniform\")]\n",
        "\n",
        "result = gp_minimize(func=objective, dimensions=space, n_calls=10, random_state=42, verbose=1)\n",
        "\n",
        "#Imprimir os melhores hiperparâmetros encontrados\n",
        "best_lambda1, best_lambda2 = result.x\n",
        "print(f\"Melhores hiperparâmetros encontrados: lambda1 = {best_lambda1}, lambda2 = {best_lambda2}\")"
      ]
    },
    {
      "cell_type": "code",
      "execution_count": null,
      "metadata": {
        "colab": {
          "background_save": true,
          "base_uri": "https://localhost:8080/"
        },
        "id": "y6HiCGIXAHVW",
        "outputId": "05d6b883-4609-4771-e6be-39c089b5d382"
      },
      "outputs": [
        {
          "name": "stdout",
          "output_type": "stream",
          "text": [
            "Epoch 1/2\n",
            "422/422 [==============================] - 62s 145ms/step - loss: 0.2213 - accuracy: 0.9383 - val_loss: 0.0606 - val_accuracy: 0.9838\n",
            "Epoch 2/2\n",
            "422/422 [==============================] - 50s 119ms/step - loss: 0.0587 - accuracy: 0.9820 - val_loss: 0.0450 - val_accuracy: 0.9872\n",
            "313/313 [==============================] - 4s 12ms/step - loss: 0.0398 - accuracy: 0.9875\n",
            "Test loss: 0.03984352946281433, Test accuracy: 0.987500011920929\n"
          ]
        }
      ],
      "source": [
        "#Construir e treinar o melhor base\n",
        "base_model = build_cnn_model()\n",
        "base_model.compile(loss=\"categorical_crossentropy\", optimizer=keras.optimizers.Adam(), metrics=[\"accuracy\"])\n",
        "base_model.fit(x_train, y_train, batch_size=128, epochs=2, validation_split=0.1, verbose=1)\n",
        "\n",
        "#Avaliar o melhor base\n",
        "score = base_model.evaluate(x_test, y_test, verbose=1)\n",
        "print(f\"Test loss: {score[0]}, Test accuracy: {score[1]}\")"
      ]
    },
    {
      "cell_type": "code",
      "execution_count": null,
      "metadata": {
        "id": "qgaRJq6M6784"
      },
      "outputs": [],
      "source": [
        "#Construir e treinar o melhor modelo\n",
        "best_model = build_cnn_model()\n",
        "best_model.compile(loss=lambda y_true, y_pred: chebyshev_loss(y_true, y_pred, best_model, best_lambda1, best_lambda2),\n",
        "optimizer=keras.optimizers.Adam(), metrics=[\"accuracy\"])\n",
        "best_model.fit(x_train, y_train, batch_size=128, epochs=2, validation_split=0.1, verbose=1)\n",
        "\n",
        "#Avaliar o melhor modelo\n",
        "score = best_model.evaluate(x_test, y_test, verbose=1)\n",
        "print(f\"Test loss: {score[0]}, Test accuracy: {score[1]}\")"
      ]
    }
  ],
  "metadata": {
    "colab": {
      "provenance": []
    },
    "kernelspec": {
      "display_name": "Python 3",
      "name": "python3"
    },
    "language_info": {
      "name": "python"
    }
  },
  "nbformat": 4,
  "nbformat_minor": 0
}