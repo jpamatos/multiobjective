{
  "cells": [
    {
      "cell_type": "code",
      "execution_count": null,
      "metadata": {
        "colab": {
          "base_uri": "https://localhost:8080/"
        },
        "id": "OTOrz6EEpzrI",
        "outputId": "6c58c732-2077-4147-cfbb-ed61dcd66149"
      },
      "outputs": [],
      "source": [
        "#!pip install -U pymoo"
      ]
    },
    {
      "attachments": {},
      "cell_type": "markdown",
      "metadata": {},
      "source": [
        "Inportação das bibliotecas necessárias"
      ]
    },
    {
      "cell_type": "code",
      "execution_count": 1,
      "metadata": {
        "id": "NjlWy9Ympo_0"
      },
      "outputs": [],
      "source": [
        "import pandas as pd\n",
        "import numpy as np\n",
        "import keras\n",
        "from pymoo.algorithms.moo.nsga2 import NSGA2\n",
        "from pymoo.core.problem import Problem\n",
        "from pymoo.optimize import minimize\n",
        "from sklearn.preprocessing import LabelEncoder, MinMaxScaler\n",
        "from sklearn.model_selection import train_test_split\n",
        "from sklearn.metrics import accuracy_score\n",
        "from pymoo.visualization.scatter import Scatter"
      ]
    },
    {
      "attachments": {},
      "cell_type": "markdown",
      "metadata": {},
      "source": [
        "Carregar o dataset na variável data"
      ]
    },
    {
      "cell_type": "code",
      "execution_count": null,
      "metadata": {
        "colab": {
          "base_uri": "https://localhost:8080/",
          "height": 626
        },
        "id": "tssGhKHBpo_3",
        "outputId": "22aed38b-8773-49fe-95c9-959488cc49f7"
      },
      "outputs": [
        {
          "data": {
            "text/html": [
              "\n",
              "  <div id=\"df-d0d4dbb5-9899-42ea-9b91-a6db8858f385\">\n",
              "    <div class=\"colab-df-container\">\n",
              "      <div>\n",
              "<style scoped>\n",
              "    .dataframe tbody tr th:only-of-type {\n",
              "        vertical-align: middle;\n",
              "    }\n",
              "\n",
              "    .dataframe tbody tr th {\n",
              "        vertical-align: top;\n",
              "    }\n",
              "\n",
              "    .dataframe thead th {\n",
              "        text-align: right;\n",
              "    }\n",
              "</style>\n",
              "<table border=\"1\" class=\"dataframe\">\n",
              "  <thead>\n",
              "    <tr style=\"text-align: right;\">\n",
              "      <th></th>\n",
              "      <th>checking_status</th>\n",
              "      <th>duration</th>\n",
              "      <th>credit_history</th>\n",
              "      <th>purpose</th>\n",
              "      <th>credit_amount</th>\n",
              "      <th>savings_status</th>\n",
              "      <th>employment</th>\n",
              "      <th>installment_commitment</th>\n",
              "      <th>personal_status</th>\n",
              "      <th>other_parties</th>\n",
              "      <th>...</th>\n",
              "      <th>property_magnitude</th>\n",
              "      <th>age</th>\n",
              "      <th>other_payment_plans</th>\n",
              "      <th>housing</th>\n",
              "      <th>existing_credits</th>\n",
              "      <th>job</th>\n",
              "      <th>num_dependents</th>\n",
              "      <th>own_telephone</th>\n",
              "      <th>foreign_worker</th>\n",
              "      <th>class</th>\n",
              "    </tr>\n",
              "  </thead>\n",
              "  <tbody>\n",
              "    <tr>\n",
              "      <th>0</th>\n",
              "      <td>&lt;0</td>\n",
              "      <td>6</td>\n",
              "      <td>'critical/other existing credit'</td>\n",
              "      <td>radio/tv</td>\n",
              "      <td>1169</td>\n",
              "      <td>'no known savings'</td>\n",
              "      <td>&gt;=7</td>\n",
              "      <td>4</td>\n",
              "      <td>'male single'</td>\n",
              "      <td>none</td>\n",
              "      <td>...</td>\n",
              "      <td>'real estate'</td>\n",
              "      <td>67</td>\n",
              "      <td>none</td>\n",
              "      <td>own</td>\n",
              "      <td>2</td>\n",
              "      <td>skilled</td>\n",
              "      <td>1</td>\n",
              "      <td>yes</td>\n",
              "      <td>yes</td>\n",
              "      <td>good</td>\n",
              "    </tr>\n",
              "    <tr>\n",
              "      <th>1</th>\n",
              "      <td>0&lt;=X&lt;200</td>\n",
              "      <td>48</td>\n",
              "      <td>'existing paid'</td>\n",
              "      <td>radio/tv</td>\n",
              "      <td>5951</td>\n",
              "      <td>&lt;100</td>\n",
              "      <td>1&lt;=X&lt;4</td>\n",
              "      <td>2</td>\n",
              "      <td>'female div/dep/mar'</td>\n",
              "      <td>none</td>\n",
              "      <td>...</td>\n",
              "      <td>'real estate'</td>\n",
              "      <td>22</td>\n",
              "      <td>none</td>\n",
              "      <td>own</td>\n",
              "      <td>1</td>\n",
              "      <td>skilled</td>\n",
              "      <td>1</td>\n",
              "      <td>none</td>\n",
              "      <td>yes</td>\n",
              "      <td>bad</td>\n",
              "    </tr>\n",
              "    <tr>\n",
              "      <th>2</th>\n",
              "      <td>'no checking'</td>\n",
              "      <td>12</td>\n",
              "      <td>'critical/other existing credit'</td>\n",
              "      <td>education</td>\n",
              "      <td>2096</td>\n",
              "      <td>&lt;100</td>\n",
              "      <td>4&lt;=X&lt;7</td>\n",
              "      <td>2</td>\n",
              "      <td>'male single'</td>\n",
              "      <td>none</td>\n",
              "      <td>...</td>\n",
              "      <td>'real estate'</td>\n",
              "      <td>49</td>\n",
              "      <td>none</td>\n",
              "      <td>own</td>\n",
              "      <td>1</td>\n",
              "      <td>'unskilled resident'</td>\n",
              "      <td>2</td>\n",
              "      <td>none</td>\n",
              "      <td>yes</td>\n",
              "      <td>good</td>\n",
              "    </tr>\n",
              "    <tr>\n",
              "      <th>3</th>\n",
              "      <td>&lt;0</td>\n",
              "      <td>42</td>\n",
              "      <td>'existing paid'</td>\n",
              "      <td>furniture/equipment</td>\n",
              "      <td>7882</td>\n",
              "      <td>&lt;100</td>\n",
              "      <td>4&lt;=X&lt;7</td>\n",
              "      <td>2</td>\n",
              "      <td>'male single'</td>\n",
              "      <td>guarantor</td>\n",
              "      <td>...</td>\n",
              "      <td>'life insurance'</td>\n",
              "      <td>45</td>\n",
              "      <td>none</td>\n",
              "      <td>'for free'</td>\n",
              "      <td>1</td>\n",
              "      <td>skilled</td>\n",
              "      <td>2</td>\n",
              "      <td>none</td>\n",
              "      <td>yes</td>\n",
              "      <td>good</td>\n",
              "    </tr>\n",
              "    <tr>\n",
              "      <th>4</th>\n",
              "      <td>&lt;0</td>\n",
              "      <td>24</td>\n",
              "      <td>'delayed previously'</td>\n",
              "      <td>'new car'</td>\n",
              "      <td>4870</td>\n",
              "      <td>&lt;100</td>\n",
              "      <td>1&lt;=X&lt;4</td>\n",
              "      <td>3</td>\n",
              "      <td>'male single'</td>\n",
              "      <td>none</td>\n",
              "      <td>...</td>\n",
              "      <td>'no known property'</td>\n",
              "      <td>53</td>\n",
              "      <td>none</td>\n",
              "      <td>'for free'</td>\n",
              "      <td>2</td>\n",
              "      <td>skilled</td>\n",
              "      <td>2</td>\n",
              "      <td>none</td>\n",
              "      <td>yes</td>\n",
              "      <td>bad</td>\n",
              "    </tr>\n",
              "    <tr>\n",
              "      <th>...</th>\n",
              "      <td>...</td>\n",
              "      <td>...</td>\n",
              "      <td>...</td>\n",
              "      <td>...</td>\n",
              "      <td>...</td>\n",
              "      <td>...</td>\n",
              "      <td>...</td>\n",
              "      <td>...</td>\n",
              "      <td>...</td>\n",
              "      <td>...</td>\n",
              "      <td>...</td>\n",
              "      <td>...</td>\n",
              "      <td>...</td>\n",
              "      <td>...</td>\n",
              "      <td>...</td>\n",
              "      <td>...</td>\n",
              "      <td>...</td>\n",
              "      <td>...</td>\n",
              "      <td>...</td>\n",
              "      <td>...</td>\n",
              "      <td>...</td>\n",
              "    </tr>\n",
              "    <tr>\n",
              "      <th>995</th>\n",
              "      <td>'no checking'</td>\n",
              "      <td>12</td>\n",
              "      <td>'existing paid'</td>\n",
              "      <td>furniture/equipment</td>\n",
              "      <td>1736</td>\n",
              "      <td>&lt;100</td>\n",
              "      <td>4&lt;=X&lt;7</td>\n",
              "      <td>3</td>\n",
              "      <td>'female div/dep/mar'</td>\n",
              "      <td>none</td>\n",
              "      <td>...</td>\n",
              "      <td>'real estate'</td>\n",
              "      <td>31</td>\n",
              "      <td>none</td>\n",
              "      <td>own</td>\n",
              "      <td>1</td>\n",
              "      <td>'unskilled resident'</td>\n",
              "      <td>1</td>\n",
              "      <td>none</td>\n",
              "      <td>yes</td>\n",
              "      <td>good</td>\n",
              "    </tr>\n",
              "    <tr>\n",
              "      <th>996</th>\n",
              "      <td>&lt;0</td>\n",
              "      <td>30</td>\n",
              "      <td>'existing paid'</td>\n",
              "      <td>'used car'</td>\n",
              "      <td>3857</td>\n",
              "      <td>&lt;100</td>\n",
              "      <td>1&lt;=X&lt;4</td>\n",
              "      <td>4</td>\n",
              "      <td>'male div/sep'</td>\n",
              "      <td>none</td>\n",
              "      <td>...</td>\n",
              "      <td>'life insurance'</td>\n",
              "      <td>40</td>\n",
              "      <td>none</td>\n",
              "      <td>own</td>\n",
              "      <td>1</td>\n",
              "      <td>'high qualif/self emp/mgmt'</td>\n",
              "      <td>1</td>\n",
              "      <td>yes</td>\n",
              "      <td>yes</td>\n",
              "      <td>good</td>\n",
              "    </tr>\n",
              "    <tr>\n",
              "      <th>997</th>\n",
              "      <td>'no checking'</td>\n",
              "      <td>12</td>\n",
              "      <td>'existing paid'</td>\n",
              "      <td>radio/tv</td>\n",
              "      <td>804</td>\n",
              "      <td>&lt;100</td>\n",
              "      <td>&gt;=7</td>\n",
              "      <td>4</td>\n",
              "      <td>'male single'</td>\n",
              "      <td>none</td>\n",
              "      <td>...</td>\n",
              "      <td>car</td>\n",
              "      <td>38</td>\n",
              "      <td>none</td>\n",
              "      <td>own</td>\n",
              "      <td>1</td>\n",
              "      <td>skilled</td>\n",
              "      <td>1</td>\n",
              "      <td>none</td>\n",
              "      <td>yes</td>\n",
              "      <td>good</td>\n",
              "    </tr>\n",
              "    <tr>\n",
              "      <th>998</th>\n",
              "      <td>&lt;0</td>\n",
              "      <td>45</td>\n",
              "      <td>'existing paid'</td>\n",
              "      <td>radio/tv</td>\n",
              "      <td>1845</td>\n",
              "      <td>&lt;100</td>\n",
              "      <td>1&lt;=X&lt;4</td>\n",
              "      <td>4</td>\n",
              "      <td>'male single'</td>\n",
              "      <td>none</td>\n",
              "      <td>...</td>\n",
              "      <td>'no known property'</td>\n",
              "      <td>23</td>\n",
              "      <td>none</td>\n",
              "      <td>'for free'</td>\n",
              "      <td>1</td>\n",
              "      <td>skilled</td>\n",
              "      <td>1</td>\n",
              "      <td>yes</td>\n",
              "      <td>yes</td>\n",
              "      <td>bad</td>\n",
              "    </tr>\n",
              "    <tr>\n",
              "      <th>999</th>\n",
              "      <td>0&lt;=X&lt;200</td>\n",
              "      <td>45</td>\n",
              "      <td>'critical/other existing credit'</td>\n",
              "      <td>'used car'</td>\n",
              "      <td>4576</td>\n",
              "      <td>100&lt;=X&lt;500</td>\n",
              "      <td>unemployed</td>\n",
              "      <td>3</td>\n",
              "      <td>'male single'</td>\n",
              "      <td>none</td>\n",
              "      <td>...</td>\n",
              "      <td>car</td>\n",
              "      <td>27</td>\n",
              "      <td>none</td>\n",
              "      <td>own</td>\n",
              "      <td>1</td>\n",
              "      <td>skilled</td>\n",
              "      <td>1</td>\n",
              "      <td>none</td>\n",
              "      <td>yes</td>\n",
              "      <td>good</td>\n",
              "    </tr>\n",
              "  </tbody>\n",
              "</table>\n",
              "<p>1000 rows × 21 columns</p>\n",
              "</div>\n",
              "      <button class=\"colab-df-convert\" onclick=\"convertToInteractive('df-d0d4dbb5-9899-42ea-9b91-a6db8858f385')\"\n",
              "              title=\"Convert this dataframe to an interactive table.\"\n",
              "              style=\"display:none;\">\n",
              "        \n",
              "  <svg xmlns=\"http://www.w3.org/2000/svg\" height=\"24px\"viewBox=\"0 0 24 24\"\n",
              "       width=\"24px\">\n",
              "    <path d=\"M0 0h24v24H0V0z\" fill=\"none\"/>\n",
              "    <path d=\"M18.56 5.44l.94 2.06.94-2.06 2.06-.94-2.06-.94-.94-2.06-.94 2.06-2.06.94zm-11 1L8.5 8.5l.94-2.06 2.06-.94-2.06-.94L8.5 2.5l-.94 2.06-2.06.94zm10 10l.94 2.06.94-2.06 2.06-.94-2.06-.94-.94-2.06-.94 2.06-2.06.94z\"/><path d=\"M17.41 7.96l-1.37-1.37c-.4-.4-.92-.59-1.43-.59-.52 0-1.04.2-1.43.59L10.3 9.45l-7.72 7.72c-.78.78-.78 2.05 0 2.83L4 21.41c.39.39.9.59 1.41.59.51 0 1.02-.2 1.41-.59l7.78-7.78 2.81-2.81c.8-.78.8-2.07 0-2.86zM5.41 20L4 18.59l7.72-7.72 1.47 1.35L5.41 20z\"/>\n",
              "  </svg>\n",
              "      </button>\n",
              "      \n",
              "  <style>\n",
              "    .colab-df-container {\n",
              "      display:flex;\n",
              "      flex-wrap:wrap;\n",
              "      gap: 12px;\n",
              "    }\n",
              "\n",
              "    .colab-df-convert {\n",
              "      background-color: #E8F0FE;\n",
              "      border: none;\n",
              "      border-radius: 50%;\n",
              "      cursor: pointer;\n",
              "      display: none;\n",
              "      fill: #1967D2;\n",
              "      height: 32px;\n",
              "      padding: 0 0 0 0;\n",
              "      width: 32px;\n",
              "    }\n",
              "\n",
              "    .colab-df-convert:hover {\n",
              "      background-color: #E2EBFA;\n",
              "      box-shadow: 0px 1px 2px rgba(60, 64, 67, 0.3), 0px 1px 3px 1px rgba(60, 64, 67, 0.15);\n",
              "      fill: #174EA6;\n",
              "    }\n",
              "\n",
              "    [theme=dark] .colab-df-convert {\n",
              "      background-color: #3B4455;\n",
              "      fill: #D2E3FC;\n",
              "    }\n",
              "\n",
              "    [theme=dark] .colab-df-convert:hover {\n",
              "      background-color: #434B5C;\n",
              "      box-shadow: 0px 1px 3px 1px rgba(0, 0, 0, 0.15);\n",
              "      filter: drop-shadow(0px 1px 2px rgba(0, 0, 0, 0.3));\n",
              "      fill: #FFFFFF;\n",
              "    }\n",
              "  </style>\n",
              "\n",
              "      <script>\n",
              "        const buttonEl =\n",
              "          document.querySelector('#df-d0d4dbb5-9899-42ea-9b91-a6db8858f385 button.colab-df-convert');\n",
              "        buttonEl.style.display =\n",
              "          google.colab.kernel.accessAllowed ? 'block' : 'none';\n",
              "\n",
              "        async function convertToInteractive(key) {\n",
              "          const element = document.querySelector('#df-d0d4dbb5-9899-42ea-9b91-a6db8858f385');\n",
              "          const dataTable =\n",
              "            await google.colab.kernel.invokeFunction('convertToInteractive',\n",
              "                                                     [key], {});\n",
              "          if (!dataTable) return;\n",
              "\n",
              "          const docLinkHtml = 'Like what you see? Visit the ' +\n",
              "            '<a target=\"_blank\" href=https://colab.research.google.com/notebooks/data_table.ipynb>data table notebook</a>'\n",
              "            + ' to learn more about interactive tables.';\n",
              "          element.innerHTML = '';\n",
              "          dataTable['output_type'] = 'display_data';\n",
              "          await google.colab.output.renderOutput(dataTable, element);\n",
              "          const docLink = document.createElement('div');\n",
              "          docLink.innerHTML = docLinkHtml;\n",
              "          element.appendChild(docLink);\n",
              "        }\n",
              "      </script>\n",
              "    </div>\n",
              "  </div>\n",
              "  "
            ],
            "text/plain": [
              "    checking_status  duration                    credit_history  \\\n",
              "0                <0         6  'critical/other existing credit'   \n",
              "1          0<=X<200        48                   'existing paid'   \n",
              "2     'no checking'        12  'critical/other existing credit'   \n",
              "3                <0        42                   'existing paid'   \n",
              "4                <0        24              'delayed previously'   \n",
              "..              ...       ...                               ...   \n",
              "995   'no checking'        12                   'existing paid'   \n",
              "996              <0        30                   'existing paid'   \n",
              "997   'no checking'        12                   'existing paid'   \n",
              "998              <0        45                   'existing paid'   \n",
              "999        0<=X<200        45  'critical/other existing credit'   \n",
              "\n",
              "                 purpose  credit_amount      savings_status  employment  \\\n",
              "0               radio/tv           1169  'no known savings'         >=7   \n",
              "1               radio/tv           5951                <100      1<=X<4   \n",
              "2              education           2096                <100      4<=X<7   \n",
              "3    furniture/equipment           7882                <100      4<=X<7   \n",
              "4              'new car'           4870                <100      1<=X<4   \n",
              "..                   ...            ...                 ...         ...   \n",
              "995  furniture/equipment           1736                <100      4<=X<7   \n",
              "996           'used car'           3857                <100      1<=X<4   \n",
              "997             radio/tv            804                <100         >=7   \n",
              "998             radio/tv           1845                <100      1<=X<4   \n",
              "999           'used car'           4576          100<=X<500  unemployed   \n",
              "\n",
              "     installment_commitment       personal_status other_parties  ...  \\\n",
              "0                         4         'male single'          none  ...   \n",
              "1                         2  'female div/dep/mar'          none  ...   \n",
              "2                         2         'male single'          none  ...   \n",
              "3                         2         'male single'     guarantor  ...   \n",
              "4                         3         'male single'          none  ...   \n",
              "..                      ...                   ...           ...  ...   \n",
              "995                       3  'female div/dep/mar'          none  ...   \n",
              "996                       4        'male div/sep'          none  ...   \n",
              "997                       4         'male single'          none  ...   \n",
              "998                       4         'male single'          none  ...   \n",
              "999                       3         'male single'          none  ...   \n",
              "\n",
              "      property_magnitude age  other_payment_plans     housing  \\\n",
              "0          'real estate'  67                 none         own   \n",
              "1          'real estate'  22                 none         own   \n",
              "2          'real estate'  49                 none         own   \n",
              "3       'life insurance'  45                 none  'for free'   \n",
              "4    'no known property'  53                 none  'for free'   \n",
              "..                   ...  ..                  ...         ...   \n",
              "995        'real estate'  31                 none         own   \n",
              "996     'life insurance'  40                 none         own   \n",
              "997                  car  38                 none         own   \n",
              "998  'no known property'  23                 none  'for free'   \n",
              "999                  car  27                 none         own   \n",
              "\n",
              "    existing_credits                          job num_dependents  \\\n",
              "0                  2                      skilled              1   \n",
              "1                  1                      skilled              1   \n",
              "2                  1         'unskilled resident'              2   \n",
              "3                  1                      skilled              2   \n",
              "4                  2                      skilled              2   \n",
              "..               ...                          ...            ...   \n",
              "995                1         'unskilled resident'              1   \n",
              "996                1  'high qualif/self emp/mgmt'              1   \n",
              "997                1                      skilled              1   \n",
              "998                1                      skilled              1   \n",
              "999                1                      skilled              1   \n",
              "\n",
              "     own_telephone foreign_worker class  \n",
              "0              yes            yes  good  \n",
              "1             none            yes   bad  \n",
              "2             none            yes  good  \n",
              "3             none            yes  good  \n",
              "4             none            yes   bad  \n",
              "..             ...            ...   ...  \n",
              "995           none            yes  good  \n",
              "996            yes            yes  good  \n",
              "997           none            yes  good  \n",
              "998            yes            yes   bad  \n",
              "999           none            yes  good  \n",
              "\n",
              "[1000 rows x 21 columns]"
            ]
          },
          "execution_count": 6,
          "metadata": {},
          "output_type": "execute_result"
        }
      ],
      "source": [
        "data = pd.read_csv(\"data/Credit.csv\")\n",
        "data"
      ]
    },
    {
      "attachments": {},
      "cell_type": "markdown",
      "metadata": {},
      "source": [
        "Transformar atributos categóricos em numéricos"
      ]
    },
    {
      "cell_type": "code",
      "execution_count": null,
      "metadata": {
        "id": "zz9tgS43po_4"
      },
      "outputs": [],
      "source": [
        "cat_columns = list(data.select_dtypes(include=['object']).columns)\n",
        "le = LabelEncoder()\n",
        "for col in cat_columns:\n",
        "    data[col] = le.fit_transform(data[col])\n"
      ]
    },
    {
      "attachments": {},
      "cell_type": "markdown",
      "metadata": {},
      "source": [
        "Dividir os dados em treino e teste"
      ]
    },
    {
      "cell_type": "code",
      "execution_count": null,
      "metadata": {
        "id": "LIf9xBkIpo_5"
      },
      "outputs": [],
      "source": [
        "X_train, X_test, y_train, y_test = train_test_split(\n",
        "    data.iloc[:, :-1],\n",
        "    data.iloc[:, -1],\n",
        "    test_size=0.3,\n",
        "    random_state=0\n",
        ")"
      ]
    },
    {
      "attachments": {},
      "cell_type": "markdown",
      "metadata": {},
      "source": [
        "Utilizar os scaler nos dados para proximar os valores"
      ]
    },
    {
      "cell_type": "code",
      "execution_count": null,
      "metadata": {
        "id": "zEypR0Mhpo_5"
      },
      "outputs": [],
      "source": [
        "num_columns = list(set(data.columns) - set(cat_columns))\n",
        "scaler = MinMaxScaler()\n",
        "X_train[num_columns] = scaler.fit_transform(X_train[num_columns])\n",
        "X_test[num_columns] = scaler.transform(X_test[num_columns])"
      ]
    },
    {
      "attachments": {},
      "cell_type": "markdown",
      "metadata": {},
      "source": [
        "### Primeiro teste: perda x acurácia\n",
        "Criar a classe do Problema a ser otimizado"
      ]
    },
    {
      "cell_type": "code",
      "execution_count": null,
      "metadata": {
        "id": "5DVG5RuJgAx1"
      },
      "outputs": [],
      "source": [
        "class NeuralNetworkProblem(Problem):\n",
        "\n",
        "  def __init__(self, x_train, y_train):\n",
        "    super().__init__(n_var=2, n_obj=2, n_constr=0, xl=[30, 10], xu=[60, 20])\n",
        "    self.x_train = x_train\n",
        "    self.y_train = y_train\n",
        "\n",
        "  def _evaluate(self, x, out, *args, **kwargs):\n",
        "    loss = []\n",
        "    accuracy = []\n",
        "    for linha in x:\n",
        "      model = keras.Sequential([\n",
        "          keras.layers.Dense(linha[0], activation=\"relu\", input_shape=(20,)),\n",
        "          keras.layers.Dense(linha[1], activation=\"relu\"),\n",
        "          keras.layers.Dense(1, activation=\"sigmoid\")\n",
        "      ])\n",
        "      model.compile(loss=\"binary_crossentropy\", optimizer=\"adam\", metrics=[\"accuracy\"])\n",
        "      model.fit(X_train, y_train, epochs=5, batch_size=32, validation_split=0.2, verbose=False)\n",
        "\n",
        "      l, a = model.evaluate(self.x_train, self.y_train, verbose=False)\n",
        "      loss.append(l)\n",
        "      accuracy.append(-a)\n",
        "\n",
        "    out[\"F\"] = np.column_stack([loss, accuracy])"
      ]
    },
    {
      "attachments": {},
      "cell_type": "markdown",
      "metadata": {},
      "source": [
        "Rotina de otimização do problema"
      ]
    },
    {
      "cell_type": "code",
      "execution_count": null,
      "metadata": {
        "colab": {
          "base_uri": "https://localhost:8080/"
        },
        "id": "SZwVgWD9gTAi",
        "outputId": "99261a14-a41f-4665-85b9-ea163d5e95d4"
      },
      "outputs": [
        {
          "name": "stdout",
          "output_type": "stream",
          "text": [
            "==========================================================\n",
            "n_gen  |  n_eval  | n_nds  |      eps      |   indicator  \n",
            "==========================================================\n",
            "     1 |      100 |      5 |             - |             -\n",
            "     2 |      200 |      6 |  0.4000008345 |         ideal\n",
            "     3 |      300 |      6 |  0.0785399089 |             f\n",
            "     4 |      400 |      5 |  0.0570334430 |             f\n",
            "     5 |      500 |      4 |  0.0581127654 |             f\n",
            "     6 |      600 |      5 |  0.0911023268 |             f\n",
            "     7 |      700 |      4 |  0.0860071431 |             f\n",
            "     8 |      800 |      4 |  0.000000E+00 |             f\n",
            "     9 |      900 |      4 |  0.000000E+00 |             f\n",
            "    10 |     1000 |      4 |  0.000000E+00 |             f\n",
            "    11 |     1100 |      4 |  0.0815878653 |         ideal\n",
            "    12 |     1200 |      4 |  0.000000E+00 |             f\n",
            "    13 |     1300 |      4 |  0.000000E+00 |             f\n",
            "    14 |     1400 |      4 |  0.000000E+00 |             f\n",
            "    15 |     1500 |      4 |  0.000000E+00 |             f\n",
            "    16 |     1600 |      3 |  0.2182564058 |         ideal\n",
            "    17 |     1700 |      3 |  0.000000E+00 |             f\n",
            "    18 |     1800 |      3 |  0.000000E+00 |             f\n",
            "    19 |     1900 |      3 |  0.000000E+00 |             f\n",
            "    20 |     2000 |      3 |  0.000000E+00 |             f\n",
            "    21 |     2100 |      3 |  0.000000E+00 |             f\n",
            "    22 |     2200 |      3 |  0.000000E+00 |             f\n",
            "    23 |     2300 |      3 |  0.000000E+00 |             f\n",
            "    24 |     2400 |      4 |  0.1508497362 |             f\n",
            "    25 |     2500 |      4 |  0.000000E+00 |             f\n",
            "    26 |     2600 |      4 |  0.000000E+00 |             f\n",
            "    27 |     2700 |      4 |  0.000000E+00 |             f\n",
            "    28 |     2800 |      4 |  0.000000E+00 |             f\n",
            "    29 |     2900 |      4 |  0.000000E+00 |             f\n",
            "    30 |     3000 |      4 |  0.000000E+00 |             f\n",
            "    31 |     3100 |      4 |  0.0450470441 |             f\n",
            "    32 |     3200 |      4 |  0.000000E+00 |             f\n",
            "    33 |     3300 |      4 |  0.000000E+00 |             f\n",
            "    34 |     3400 |      4 |  0.000000E+00 |             f\n",
            "    35 |     3500 |      4 |  0.000000E+00 |             f\n",
            "    36 |     3600 |      4 |  0.000000E+00 |             f\n",
            "    37 |     3700 |      4 |  0.000000E+00 |             f\n",
            "    38 |     3800 |      4 |  0.000000E+00 |             f\n",
            "    39 |     3900 |      4 |  0.000000E+00 |             f\n",
            "    40 |     4000 |      2 |  0.1666643487 |         ideal\n",
            "    41 |     4100 |      2 |  0.000000E+00 |             f\n",
            "    42 |     4200 |      2 |  0.000000E+00 |             f\n",
            "    43 |     4300 |      2 |  0.000000E+00 |             f\n",
            "    44 |     4400 |      2 |  0.000000E+00 |             f\n",
            "    45 |     4500 |      2 |  0.000000E+00 |             f\n",
            "    46 |     4600 |      2 |  0.000000E+00 |             f\n",
            "    47 |     4700 |      2 |  0.000000E+00 |             f\n",
            "    48 |     4800 |      2 |  0.000000E+00 |             f\n",
            "    49 |     4900 |      3 |  0.2088635235 |             f\n",
            "    50 |     5000 |      3 |  0.000000E+00 |             f\n",
            "    51 |     5100 |      3 |  0.000000E+00 |             f\n",
            "    52 |     5200 |      3 |  0.000000E+00 |             f\n",
            "    53 |     5300 |      3 |  0.000000E+00 |             f\n",
            "    54 |     5400 |      3 |  0.000000E+00 |             f\n",
            "    55 |     5500 |      4 |  0.1284000406 |         ideal\n",
            "    56 |     5600 |      4 |  0.000000E+00 |             f\n",
            "    57 |     5700 |      4 |  0.000000E+00 |             f\n",
            "    58 |     5800 |      5 |  0.0296010508 |             f\n",
            "    59 |     5900 |      5 |  0.000000E+00 |             f\n",
            "    60 |     6000 |      5 |  0.0452776831 |             f\n",
            "    61 |     6100 |      5 |  0.000000E+00 |             f\n",
            "    62 |     6200 |      5 |  0.000000E+00 |             f\n",
            "    63 |     6300 |      5 |  0.000000E+00 |             f\n",
            "    64 |     6400 |      5 |  0.000000E+00 |             f\n",
            "    65 |     6500 |      5 |  0.000000E+00 |             f\n",
            "    66 |     6600 |      5 |  0.000000E+00 |             f\n",
            "    67 |     6700 |      5 |  0.000000E+00 |             f\n",
            "    68 |     6800 |      5 |  0.000000E+00 |             f\n",
            "    69 |     6900 |      5 |  0.000000E+00 |             f\n",
            "    70 |     7000 |      5 |  0.000000E+00 |             f\n",
            "    71 |     7100 |      5 |  0.000000E+00 |             f\n",
            "    72 |     7200 |      5 |  0.000000E+00 |             f\n",
            "    73 |     7300 |      5 |  0.000000E+00 |             f\n",
            "    74 |     7400 |      5 |  0.000000E+00 |             f\n",
            "    75 |     7500 |      5 |  0.000000E+00 |             f\n",
            "    76 |     7600 |      5 |  0.000000E+00 |             f\n",
            "    77 |     7700 |      5 |  0.000000E+00 |             f\n",
            "    78 |     7800 |      5 |  0.000000E+00 |             f\n",
            "    79 |     7900 |      5 |  0.000000E+00 |             f\n",
            "    80 |     8000 |      5 |  0.000000E+00 |             f\n",
            "    81 |     8100 |      5 |  0.000000E+00 |             f\n",
            "    82 |     8200 |      5 |  0.000000E+00 |             f\n",
            "    83 |     8300 |      5 |  0.000000E+00 |             f\n",
            "    84 |     8400 |      5 |  0.000000E+00 |             f\n",
            "    85 |     8500 |      5 |  0.000000E+00 |             f\n",
            "    86 |     8600 |      5 |  0.000000E+00 |             f\n",
            "    87 |     8700 |      5 |  0.000000E+00 |             f\n",
            "    88 |     8800 |      5 |  0.000000E+00 |             f\n",
            "    89 |     8900 |      5 |  0.000000E+00 |             f\n",
            "    90 |     9000 |      5 |  0.000000E+00 |             f\n",
            "    91 |     9100 |      5 |  0.0091064270 |             f\n",
            "    92 |     9200 |      5 |  0.000000E+00 |             f\n",
            "    93 |     9300 |      5 |  0.000000E+00 |             f\n",
            "    94 |     9400 |      5 |  0.000000E+00 |             f\n",
            "    95 |     9500 |      5 |  0.000000E+00 |             f\n",
            "    96 |     9600 |      5 |  0.000000E+00 |             f\n",
            "    97 |     9700 |      5 |  0.000000E+00 |             f\n",
            "    98 |     9800 |      5 |  0.000000E+00 |             f\n",
            "    99 |     9900 |      5 |  0.000000E+00 |             f\n",
            "   100 |    10000 |      5 |  0.000000E+00 |             f\n"
          ]
        }
      ],
      "source": [
        "problem = NeuralNetworkProblem(X_train, y_train)\n",
        "algorithm = NSGA2(\n",
        "    pop_size=100,\n",
        ")\n",
        "res = minimize(\n",
        "    problem,\n",
        "    algorithm,\n",
        "    (\"n_gen\", 100),\n",
        "    verbose=True,\n",
        "    save_history=True,\n",
        "    seed=1\n",
        ")"
      ]
    },
    {
      "attachments": {},
      "cell_type": "markdown",
      "metadata": {},
      "source": [
        "Fronteira de pareto para o problema"
      ]
    },
    {
      "cell_type": "code",
      "execution_count": null,
      "metadata": {
        "colab": {
          "base_uri": "https://localhost:8080/",
          "height": 408
        },
        "id": "ZDLTyvvXsV2L",
        "outputId": "c7bd51bb-2caa-40e9-a5c5-f8d38f7fbf37"
      },
      "outputs": [
        {
          "data": {
            "text/plain": [
              "<pymoo.visualization.scatter.Scatter at 0x7f31d84e4430>"
            ]
          },
          "execution_count": 22,
          "metadata": {},
          "output_type": "execute_result"
        },
        {
          "data": {
            "image/png": "[encoded data removed]",
            "text/plain": [
              "<Figure size 576x432 with 1 Axes>"
            ]
          },
          "metadata": {
            "needs_background": "light"
          },
          "output_type": "display_data"
        }
      ],
      "source": [
        "F = res.F\n",
        "plot = Scatter()\n",
        "plot.add(F, color=\"red\")\n",
        "plot.show()"
      ]
    },
    {
      "cell_type": "code",
      "execution_count": null,
      "metadata": {
        "colab": {
          "base_uri": "https://localhost:8080/"
        },
        "id": "5haPbJhasxAk",
        "outputId": "4d0ef662-b4aa-4c01-8d61-67b009613bec"
      },
      "outputs": [
        {
          "data": {
            "text/plain": [
              "array([[ 0.55356705, -0.72857141],\n",
              "       [ 0.54124087, -0.70857143],\n",
              "       [ 0.5530901 , -0.72571427],\n",
              "       [ 0.54372376, -0.72428572],\n",
              "       [ 0.54226232, -0.72000003]])"
            ]
          },
          "execution_count": 23,
          "metadata": {},
          "output_type": "execute_result"
        }
      ],
      "source": [
        "res.F"
      ]
    },
    {
      "cell_type": "code",
      "execution_count": null,
      "metadata": {
        "colab": {
          "base_uri": "https://localhost:8080/"
        },
        "id": "tcPeGXFdtNO3",
        "outputId": "533de574-0569-4f7d-c1b0-569a1e20677d"
      },
      "outputs": [
        {
          "data": {
            "text/plain": [
              "array([[59.19715786, 16.91629432],\n",
              "       [59.21561876, 18.7213297 ],\n",
              "       [59.29965775, 18.27504458],\n",
              "       [59.74235584, 16.37810606],\n",
              "       [59.43278701, 19.29557425]])"
            ]
          },
          "execution_count": 24,
          "metadata": {},
          "output_type": "execute_result"
        }
      ],
      "source": [
        "res.X"
      ]
    },
    {
      "attachments": {},
      "cell_type": "markdown",
      "metadata": {},
      "source": [
        "Modelo escolhido:\n",
        "* Primeira camada oculta: 59 neurônios\n",
        "* Segunda camadad oculta: 16 neurônios"
      ]
    },
    {
      "cell_type": "code",
      "execution_count": null,
      "metadata": {
        "colab": {
          "base_uri": "https://localhost:8080/"
        },
        "id": "kgeTi0sFfqcx",
        "outputId": "e745e762-785a-4d52-b5e8-2b6abc51d436"
      },
      "outputs": [
        {
          "name": "stdout",
          "output_type": "stream",
          "text": [
            "10/10 [==============================] - 0s 2ms/step\n",
            "Testing accuracy: 0.7233333333333334\n"
          ]
        }
      ],
      "source": [
        "model = keras.models.Sequential([\n",
        "    keras.layers.Dense(59, activation=\"relu\", input_shape=(X_train.shape[1],)),\n",
        "    keras.layers.Dense(16, activation=\"relu\"),\n",
        "    keras.layers.Dense(1, activation=\"sigmoid\")\n",
        "])\n",
        "model.compile(loss=\"binary_crossentropy\", optimizer=\"adam\", metrics=[\"accuracy\"])\n",
        "history = model.fit(X_train, y_train, epochs=20, batch_size=32, validation_split=0.2, verbose=False)\n",
        "y_pred = model.predict(X_test)\n",
        "y_pred = (y_pred > 0.5).astype(int)\n",
        "accuracy = accuracy_score(y_test, y_pred)\n",
        "print(f'Testing accuracy: {accuracy}')"
      ]
    },
    {
      "attachments": {},
      "cell_type": "markdown",
      "metadata": {},
      "source": [
        "### Segundo teste: perda x norma dos pesos\n",
        "Criar a classe do Problema a ser otimizado"
      ]
    },
    {
      "cell_type": "code",
      "execution_count": null,
      "metadata": {
        "id": "_JU7nCRBtXfj"
      },
      "outputs": [],
      "source": [
        "class NeuralNetworkProblem(Problem):\n",
        "\n",
        "  def __init__(self, x_train, y_train):\n",
        "    super().__init__(n_var=2, n_obj=2, n_constr=0, xl=[30, 10], xu=[60, 20])\n",
        "    self.x_train = x_train\n",
        "    self.y_train = y_train\n",
        "\n",
        "  def _evaluate(self, x, out, *args, **kwargs):\n",
        "    loss = []\n",
        "    norma = []\n",
        "    for linha in x:\n",
        "      model = keras.Sequential([\n",
        "          keras.layers.Dense(linha[0], activation=\"relu\", input_shape=(20,)),\n",
        "          keras.layers.Dense(linha[1], activation=\"relu\"),\n",
        "          keras.layers.Dense(1, activation=\"sigmoid\")\n",
        "      ])\n",
        "      model.compile(loss=\"binary_crossentropy\", optimizer=\"adam\", metrics=[\"accuracy\"])\n",
        "      model.fit(X_train, y_train, epochs=5, batch_size=32, validation_split=0.2, verbose=False)\n",
        "\n",
        "      l, a = model.evaluate(self.x_train, self.y_train, verbose=False)\n",
        "      loss.append(l)\n",
        "      weights = model.get_weights()\n",
        "      norma.append(np.linalg.norm(np.concatenate([w.flatten() for w in weights])))\n",
        "\n",
        "      # Set the objectives\n",
        "    out[\"F\"] = np.column_stack([loss, norma])"
      ]
    },
    {
      "attachments": {},
      "cell_type": "markdown",
      "metadata": {},
      "source": [
        "Rotina de otimização do problema"
      ]
    },
    {
      "cell_type": "code",
      "execution_count": null,
      "metadata": {
        "colab": {
          "base_uri": "https://localhost:8080/"
        },
        "id": "icfJgaBXt_QL",
        "outputId": "c3e936cf-c53d-4860-c58f-eebfbd048ca3"
      },
      "outputs": [
        {
          "name": "stdout",
          "output_type": "stream",
          "text": [
            "==========================================================\n",
            "n_gen  |  n_eval  | n_nds  |      eps      |   indicator  \n",
            "==========================================================\n",
            "     1 |       50 |      5 |             - |             -\n",
            "     2 |      100 |     10 |  0.1474879349 |         ideal\n",
            "     3 |      150 |      5 |  0.0944444787 |             f\n",
            "     4 |      200 |      6 |  0.0113235553 |         ideal\n",
            "     5 |      250 |      7 |  0.0203624293 |         ideal\n",
            "     6 |      300 |      7 |  0.000000E+00 |             f\n",
            "     7 |      350 |      7 |  0.000000E+00 |             f\n",
            "     8 |      400 |      8 |  0.0032829881 |             f\n",
            "     9 |      450 |      8 |  0.000000E+00 |             f\n",
            "    10 |      500 |      8 |  0.000000E+00 |             f\n",
            "    11 |      550 |      7 |  0.0121698334 |             f\n",
            "    12 |      600 |      7 |  0.000000E+00 |             f\n",
            "    13 |      650 |      7 |  0.000000E+00 |             f\n",
            "    14 |      700 |      7 |  0.000000E+00 |             f\n",
            "    15 |      750 |      5 |  0.0210544677 |         ideal\n",
            "    16 |      800 |      5 |  0.0085564957 |             f\n",
            "    17 |      850 |      5 |  0.000000E+00 |             f\n",
            "    18 |      900 |      5 |  0.000000E+00 |             f\n",
            "    19 |      950 |      6 |  0.2523547866 |         ideal\n",
            "    20 |     1000 |      6 |  0.0479674888 |             f\n",
            "    21 |     1050 |      6 |  0.000000E+00 |             f\n",
            "    22 |     1100 |      6 |  0.000000E+00 |             f\n",
            "    23 |     1150 |      7 |  0.0068576283 |             f\n",
            "    24 |     1200 |      8 |  0.0171008090 |         ideal\n",
            "    25 |     1250 |      8 |  0.000000E+00 |             f\n",
            "    26 |     1300 |      8 |  0.000000E+00 |             f\n",
            "    27 |     1350 |      9 |  0.0027184314 |             f\n",
            "    28 |     1400 |      9 |  0.000000E+00 |             f\n",
            "    29 |     1450 |      9 |  0.000000E+00 |             f\n",
            "    30 |     1500 |      9 |  0.000000E+00 |             f\n",
            "    31 |     1550 |      9 |  0.000000E+00 |             f\n",
            "    32 |     1600 |     13 |  0.0171687473 |             f\n",
            "    33 |     1650 |     13 |  0.000000E+00 |             f\n",
            "    34 |     1700 |     13 |  0.000000E+00 |             f\n",
            "    35 |     1750 |     13 |  0.000000E+00 |             f\n",
            "    36 |     1800 |     14 |  0.0060443185 |             f\n",
            "    37 |     1850 |     14 |  0.000000E+00 |             f\n",
            "    38 |     1900 |     14 |  0.000000E+00 |             f\n",
            "    39 |     1950 |     14 |  0.000000E+00 |             f\n",
            "    40 |     2000 |     14 |  0.000000E+00 |             f\n",
            "    41 |     2050 |     14 |  0.0024137443 |             f\n",
            "    42 |     2100 |     14 |  0.0024137443 |             f\n",
            "    43 |     2150 |     14 |  0.0024137443 |             f\n",
            "    44 |     2200 |     12 |  0.0137259198 |             f\n",
            "    45 |     2250 |     12 |  0.000000E+00 |             f\n",
            "    46 |     2300 |     12 |  0.000000E+00 |             f\n",
            "    47 |     2350 |     12 |  0.000000E+00 |             f\n",
            "    48 |     2400 |     12 |  0.000000E+00 |             f\n",
            "    49 |     2450 |     12 |  0.000000E+00 |             f\n",
            "    50 |     2500 |     12 |  0.000000E+00 |             f\n",
            "    51 |     2550 |     12 |  0.000000E+00 |             f\n",
            "    52 |     2600 |     12 |  0.000000E+00 |             f\n",
            "    53 |     2650 |     12 |  0.000000E+00 |             f\n",
            "    54 |     2700 |     12 |  0.000000E+00 |             f\n",
            "    55 |     2750 |     12 |  0.000000E+00 |             f\n",
            "    56 |     2800 |     12 |  0.000000E+00 |             f\n",
            "    57 |     2850 |     10 |  0.0028525443 |             f\n",
            "    58 |     2900 |     10 |  0.000000E+00 |             f\n",
            "    59 |     2950 |     10 |  0.000000E+00 |             f\n",
            "    60 |     3000 |     10 |  0.000000E+00 |             f\n",
            "    61 |     3050 |     10 |  0.000000E+00 |             f\n",
            "    62 |     3100 |     10 |  0.000000E+00 |             f\n",
            "    63 |     3150 |     10 |  0.000000E+00 |             f\n",
            "    64 |     3200 |     10 |  0.000000E+00 |             f\n",
            "    65 |     3250 |     10 |  0.000000E+00 |             f\n",
            "    66 |     3300 |     10 |  0.0010386477 |             f\n",
            "    67 |     3350 |     10 |  0.0010386477 |             f\n",
            "    68 |     3400 |     10 |  0.0010386477 |             f\n",
            "    69 |     3450 |     10 |  0.0010386477 |             f\n",
            "    70 |     3500 |     10 |  0.0010386477 |             f\n",
            "    71 |     3550 |     10 |  0.0010386477 |             f\n",
            "    72 |     3600 |     10 |  0.0010386477 |             f\n",
            "    73 |     3650 |     10 |  0.0010386477 |             f\n",
            "    74 |     3700 |     10 |  0.0010386477 |             f\n",
            "    75 |     3750 |     10 |  0.0010386477 |             f\n",
            "    76 |     3800 |     10 |  0.0010386477 |             f\n",
            "    77 |     3850 |     10 |  0.0010386477 |             f\n",
            "    78 |     3900 |     10 |  0.0010386477 |             f\n",
            "    79 |     3950 |     10 |  0.0010386477 |             f\n",
            "    80 |     4000 |     10 |  0.0010386477 |             f\n",
            "    81 |     4050 |     11 |  0.0025968348 |             f\n",
            "    82 |     4100 |     11 |  0.000000E+00 |             f\n",
            "    83 |     4150 |     12 |  0.0128680560 |             f\n",
            "    84 |     4200 |     12 |  0.000000E+00 |             f\n",
            "    85 |     4250 |     12 |  0.000000E+00 |             f\n",
            "    86 |     4300 |     12 |  0.000000E+00 |             f\n",
            "    87 |     4350 |     12 |  0.000000E+00 |             f\n",
            "    88 |     4400 |     12 |  0.000000E+00 |             f\n",
            "    89 |     4450 |     12 |  0.000000E+00 |             f\n",
            "    90 |     4500 |     12 |  0.000000E+00 |             f\n",
            "    91 |     4550 |     13 |  0.0013748651 |             f\n",
            "    92 |     4600 |     13 |  0.0013748651 |             f\n",
            "    93 |     4650 |     13 |  0.0013748651 |             f\n",
            "    94 |     4700 |     13 |  0.0013748651 |             f\n",
            "    95 |     4750 |     13 |  0.0013748651 |             f\n",
            "    96 |     4800 |     13 |  0.0013748651 |             f\n",
            "    97 |     4850 |     13 |  0.0013748651 |             f\n",
            "    98 |     4900 |     13 |  0.0013748651 |             f\n",
            "    99 |     4950 |     13 |  0.0013748651 |             f\n",
            "   100 |     5000 |     13 |  0.0013748651 |             f\n"
          ]
        }
      ],
      "source": [
        "problem = NeuralNetworkProblem(X_train, y_train)\n",
        "algorithm = NSGA2(\n",
        "    pop_size=50,\n",
        ")\n",
        "res = minimize(\n",
        "    problem,\n",
        "    algorithm,\n",
        "    (\"n_gen\", 100),\n",
        "    verbose=True,\n",
        "    save_history=True,\n",
        "    seed=1\n",
        ")"
      ]
    },
    {
      "attachments": {},
      "cell_type": "markdown",
      "metadata": {},
      "source": [
        "Fronteira de Pareto"
      ]
    },
    {
      "cell_type": "code",
      "execution_count": null,
      "metadata": {
        "colab": {
          "base_uri": "https://localhost:8080/",
          "height": 562
        },
        "id": "CubpifQauBrM",
        "outputId": "75ffae12-22b3-4084-fd11-61f0d50daed7"
      },
      "outputs": [
        {
          "data": {
            "text/plain": [
              "<pymoo.visualization.scatter.Scatter at 0x7f0e42ea5910>"
            ]
          },
          "execution_count": 17,
          "metadata": {},
          "output_type": "execute_result"
        },
        {
          "data": {
            "image/png": "[encoded data removed]",
            "text/plain": [
              "<Figure size 800x600 with 1 Axes>"
            ]
          },
          "metadata": {},
          "output_type": "display_data"
        }
      ],
      "source": [
        "F = res.F\n",
        "plot = Scatter()\n",
        "plot.add(F, color=\"red\")\n",
        "plot.show()"
      ]
    },
    {
      "cell_type": "code",
      "execution_count": null,
      "metadata": {
        "colab": {
          "base_uri": "https://localhost:8080/"
        },
        "id": "pKIheThjuCAv",
        "outputId": "e53c0964-cf63-4190-efa2-9297a6af0a59"
      },
      "outputs": [
        {
          "data": {
            "text/plain": [
              "array([[0.56155127, 6.27907658],\n",
              "       [0.54688579, 6.65292978],\n",
              "       [0.60645503, 5.99435902],\n",
              "       [0.5669688 , 6.20376778],\n",
              "       [0.54584938, 7.82829428],\n",
              "       [0.56291425, 6.26140881],\n",
              "       [0.56105262, 6.41770077],\n",
              "       [0.55939704, 6.46698761],\n",
              "       [0.58509302, 6.15718794],\n",
              "       [0.59244591, 6.10330486],\n",
              "       [0.5658946 , 6.21117496],\n",
              "       [0.54674876, 7.54641485],\n",
              "       [0.58467555, 6.1874342 ]])"
            ]
          },
          "execution_count": 18,
          "metadata": {},
          "output_type": "execute_result"
        }
      ],
      "source": [
        "res.F"
      ]
    },
    {
      "cell_type": "code",
      "execution_count": null,
      "metadata": {
        "colab": {
          "base_uri": "https://localhost:8080/"
        },
        "id": "Rwm2bKRhuCx2",
        "outputId": "69d7cc6e-a4cb-4daf-80bb-24957e6c801b"
      },
      "outputs": [
        {
          "data": {
            "text/plain": [
              "array([[30.15609578, 10.01129984],\n",
              "       [40.16144893, 10.67994542],\n",
              "       [30.75652423, 10.07456039],\n",
              "       [30.46719517, 10.28075878],\n",
              "       [52.89637181, 19.34578981],\n",
              "       [30.15609578, 10.21176546],\n",
              "       [30.75652423, 10.0056082 ],\n",
              "       [31.65872074, 10.81499661],\n",
              "       [30.12211617, 10.1380726 ],\n",
              "       [30.00165817, 10.00178599],\n",
              "       [30.02789991, 10.42359309],\n",
              "       [49.76741214, 18.79315408],\n",
              "       [30.01959649, 10.46498245]])"
            ]
          },
          "execution_count": 19,
          "metadata": {},
          "output_type": "execute_result"
        }
      ],
      "source": [
        "res.X"
      ]
    },
    {
      "attachments": {},
      "cell_type": "markdown",
      "metadata": {},
      "source": [
        "Modelo escolhido:\n",
        "* Primeira camada oculta: 30 neurônios\n",
        "* Segunda camada oculta: 10 neurônios"
      ]
    },
    {
      "cell_type": "code",
      "execution_count": null,
      "metadata": {
        "colab": {
          "base_uri": "https://localhost:8080/"
        },
        "id": "28O8I5SefwCF",
        "outputId": "37022cac-6c32-4b9f-90c8-4476792307cb"
      },
      "outputs": [
        {
          "name": "stdout",
          "output_type": "stream",
          "text": [
            "10/10 [==============================] - 0s 2ms/step\n",
            "Testing accuracy: 0.71\n"
          ]
        }
      ],
      "source": [
        "model = keras.models.Sequential([\n",
        "    keras.layers.Dense(30, activation=\"relu\", input_shape=(X_train.shape[1],)),\n",
        "    keras.layers.Dense(10, activation=\"relu\"),\n",
        "    keras.layers.Dense(1, activation=\"sigmoid\")\n",
        "])\n",
        "model.compile(loss=\"binary_crossentropy\", optimizer=\"adam\", metrics=[\"accuracy\"])\n",
        "history = model.fit(X_train, y_train, epochs=20, batch_size=32, validation_split=0.2, verbose=False)\n",
        "y_pred = model.predict(X_test)\n",
        "y_pred = (y_pred > 0.5).astype(int)\n",
        "accuracy = accuracy_score(y_test, y_pred)\n",
        "print(f'Testing accuracy: {accuracy}')"
      ]
    }
  ],
  "metadata": {
    "colab": {
      "provenance": []
    },
    "kernelspec": {
      "display_name": "Python 3",
      "language": "python",
      "name": "python3"
    },
    "language_info": {
      "codemirror_mode": {
        "name": "ipython",
        "version": 3
      },
      "file_extension": ".py",
      "mimetype": "text/x-python",
      "name": "python",
      "nbconvert_exporter": "python",
      "pygments_lexer": "ipython3",
      "version": "3.11.2"
    },
    "orig_nbformat": 4
  },
  "nbformat": 4,
  "nbformat_minor": 0
}
